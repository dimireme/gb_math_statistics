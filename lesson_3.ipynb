{
 "cells": [
  {
   "cell_type": "markdown",
   "metadata": {},
   "source": [
    "## Урок 3. Описательная статистика. Качественные и количественные характеристики популяции. Графическое представление данных.\n",
    "\n",
    "**1. Даны значения зарплат из выборки выпускников:**\n",
    "\n",
    "```\n",
    "100, 80, 75, 77, 89, 33, 45, 25, 65, 17, 30, 230, 24, 57, 55, 70, 75, 65, 84, 90, 150\n",
    "```\n",
    "**Используя только встроенные питоновские функции и структуры данных (т.е. без библиотек numpy, pandas и др.) посчитать среднее арифметическое, смещённую и несмещённую оценки дисперсии, среднее квадратичное отклонение для данной выборки. Можно затем посчитать те же значения с использованием библиотек, чтобы проверить себя.**"
   ]
  },
  {
   "cell_type": "code",
   "execution_count": 85,
   "metadata": {},
   "outputs": [],
   "source": [
    "s = (100, 80, 75, 77, 89, 33, 45, 25, 65, 17, 30, 230, 24, 57, 55, 70, 75, 65, 84, 90, 150)\n",
    "s_len = len(s)"
   ]
  },
  {
   "cell_type": "markdown",
   "metadata": {},
   "source": [
    "Среднее арифметическое $\\overline{x} = \\dfrac{1}{m} \\displaystyle\\sum_{i = 1}^m x_i$."
   ]
  },
  {
   "cell_type": "code",
   "execution_count": 86,
   "metadata": {},
   "outputs": [
    {
     "data": {
      "text/plain": "73.14285714285714"
     },
     "execution_count": 86,
     "metadata": {},
     "output_type": "execute_result"
    }
   ],
   "source": [
    "s_mean = sum(s) / s_len\n",
    "s_mean"
   ]
  },
  {
   "cell_type": "markdown",
   "metadata": {},
   "source": [
    "Смещённая оценка дисперсии $\\sigma^2 = \\dfrac{1}{m} \\displaystyle\\sum_{i = 1}^m \\left( x_i - \\overline{x} \\right)^2$."
   ]
  },
  {
   "cell_type": "code",
   "execution_count": 87,
   "metadata": {},
   "outputs": [
    {
     "data": {
      "text/plain": "2135.074829931973"
     },
     "execution_count": 87,
     "metadata": {},
     "output_type": "execute_result"
    }
   ],
   "source": [
    "s_var_offset = sum((x - s_mean)**2 for x in s) / s_len\n",
    "s_var_offset"
   ]
  },
  {
   "cell_type": "markdown",
   "metadata": {},
   "source": [
    "Несмещенная оценка дисперсии $\\sigma_{unbiased}^2 = \\dfrac{1}{m - 1} \\displaystyle\\sum_{i = 1}^m \\left( x_i - \\overline{x} \\right)^2$."
   ]
  },
  {
   "cell_type": "code",
   "execution_count": 88,
   "metadata": {},
   "outputs": [
    {
     "data": {
      "text/plain": "2241.8285714285716"
     },
     "execution_count": 88,
     "metadata": {},
     "output_type": "execute_result"
    }
   ],
   "source": [
    "s_var = sum((x - s_mean)**2 for x in s) / (s_len - 1)\n",
    "s_var"
   ]
  },
  {
   "cell_type": "markdown",
   "metadata": {},
   "source": [
    "**Ответ: среднее арифметическое 73.14; смещённая оценка 2135.07; несмещённая оценка 2241.83.**"
   ]
  },
  {
   "cell_type": "markdown",
   "metadata": {},
   "source": [
    "**2. Для выборки из задачи 1 найти (также без использования библиотек): 1) медиану, первый и третий квартили, интерквартильное расстояние; 2) выборсы в выборке (используя для этого метод как при построении \"усов\" из boxplot). Возможные неоднозначности в вычислении квантилей можно разрешать любым способом.**"
   ]
  },
  {
   "cell_type": "code",
   "execution_count": 89,
   "metadata": {},
   "outputs": [
    {
     "data": {
      "text/plain": "21"
     },
     "execution_count": 89,
     "metadata": {},
     "output_type": "execute_result"
    }
   ],
   "source": [
    "s_sorted = sorted(s)\n",
    "s_len"
   ]
  },
  {
   "cell_type": "markdown",
   "metadata": {},
   "source": [
    "Число 20 делится на 2 и на 4, поэтому значениями медианы, первого квартиля и третьего квартиля будут элементы отсортированного исходного массива. 11-й, 6-й и 16-й соответственно."
   ]
  },
  {
   "cell_type": "code",
   "execution_count": 90,
   "metadata": {},
   "outputs": [
    {
     "data": {
      "text/plain": "70"
     },
     "execution_count": 90,
     "metadata": {},
     "output_type": "execute_result"
    }
   ],
   "source": [
    "# медиана\n",
    "s_median = s_sorted[(s_len - 1) // 2]\n",
    "s_median"
   ]
  },
  {
   "cell_type": "code",
   "execution_count": 91,
   "metadata": {},
   "outputs": [
    {
     "data": {
      "text/plain": "45"
     },
     "execution_count": 91,
     "metadata": {},
     "output_type": "execute_result"
    }
   ],
   "source": [
    "# первый квартиль\n",
    "q1 = s_sorted[(s_len - 1) // 4]\n",
    "q1"
   ]
  },
  {
   "cell_type": "code",
   "execution_count": 92,
   "metadata": {},
   "outputs": [
    {
     "data": {
      "text/plain": "84"
     },
     "execution_count": 92,
     "metadata": {},
     "output_type": "execute_result"
    }
   ],
   "source": [
    "# третий квартиль\n",
    "q3 = s_sorted[(s_len - 1) * 3 // 4]\n",
    "q3"
   ]
  },
  {
   "cell_type": "code",
   "execution_count": 93,
   "metadata": {},
   "outputs": [
    {
     "data": {
      "text/plain": "[150, 230]"
     },
     "execution_count": 93,
     "metadata": {},
     "output_type": "execute_result"
    }
   ],
   "source": [
    "# выбросы\n",
    "iqr = q3 - q1\n",
    "s_emissions = list(filter(lambda x: x < q1-iqr*1.5 or x > q3+iqr*1.5, s_sorted))\n",
    "s_emissions"
   ]
  },
  {
   "cell_type": "markdown",
   "metadata": {},
   "source": [
    "**Ответ: 1) медиана 70; первый квартиль 45; третий квартиль 84. 2) выбросы 150, 230.**"
   ]
  },
  {
   "cell_type": "code",
   "execution_count": 94,
   "metadata": {},
   "outputs": [],
   "source": [
    "import seaborn as sns\n",
    "import numpy as np\n",
    "import pandas as pd\n",
    "from matplotlib import pyplot as plt\n",
    "plt.style.use('seaborn-whitegrid')"
   ]
  },
  {
   "cell_type": "code",
   "execution_count": 95,
   "metadata": {},
   "outputs": [
    {
     "name": "stdout",
     "output_type": "stream",
     "text": "[17, 24, 25, 30, 33, 45, 55, 57, 65, 65, 70, 75, 75, 77, 80, 84, 89, 90, 100, 150, 230]\n"
    },
    {
     "data": {
      "image/png": "[encoded data removed]",
      "image/svg+xml": "<?xml version=\"1.0\" encoding=\"utf-8\" standalone=\"no\"?>\n<!DOCTYPE svg PUBLIC \"-//W3C//DTD SVG 1.1//EN\"\n  \"http://www.w3.org/Graphics/SVG/1.1/DTD/svg11.dtd\">\n<!-- Created with matplotlib (https://matplotlib.org/) -->\n<svg height=\"237.538437pt\" version=\"1.1\" viewBox=\"0 0 369.382812 237.538437\" width=\"369.382812pt\" xmlns=\"http://www.w3.org/2000/svg\" xmlns:xlink=\"http://www.w3.org/1999/xlink\">\n <defs>\n  <style type=\"text/css\">\n*{stroke-linecap:butt;stroke-linejoin:round;}\n  </style>\n </defs>\n <g id=\"figure_1\">\n  <g id=\"patch_1\">\n   <path d=\"M 0 237.538437 \nL 369.382812 237.538437 \nL 369.382812 0 \nL 0 0 \nz\n\" style=\"fill:#ffffff;\"/>\n  </g>\n  <g id=\"axes_1\">\n   <g id=\"patch_2\">\n    <path d=\"M 27.382812 224.64 \nL 362.182813 224.64 \nL 362.182813 7.2 \nL 27.382812 7.2 \nz\n\" style=\"fill:#ffffff;\"/>\n   </g>\n   <g id=\"matplotlib.axis_1\">\n    <g id=\"xtick_1\">\n     <g id=\"line2d_1\"/>\n    </g>\n   </g>\n   <g id=\"matplotlib.axis_2\">\n    <g id=\"ytick_1\">\n     <g id=\"line2d_2\">\n      <path clip-path=\"url(#pf520c3c23f)\" d=\"M 27.382812 224.64 \nL 362.182813 224.64 \n\" style=\"fill:none;stroke:#cccccc;stroke-linecap:round;stroke-width:0.8;\"/>\n     </g>\n     <g id=\"line2d_3\"/>\n     <g id=\"text_1\">\n      <!-- 0 -->\n      <defs>\n       <path d=\"M 51.703125 34.421875 \nQ 51.703125 17.1875 45.625 8.09375 \nQ 39.546875 -0.984375 27.6875 -0.984375 \nQ 15.828125 -0.984375 9.859375 8.046875 \nQ 3.90625 17.09375 3.90625 34.421875 \nQ 3.90625 52.15625 9.6875 60.984375 \nQ 15.484375 69.828125 27.984375 69.828125 \nQ 40.140625 69.828125 45.921875 60.890625 \nQ 51.703125 51.953125 51.703125 34.421875 \nz\nM 42.78125 34.421875 \nQ 42.78125 49.3125 39.328125 56 \nQ 35.890625 62.703125 27.984375 62.703125 \nQ 19.875 62.703125 16.328125 56.109375 \nQ 12.796875 49.515625 12.796875 34.421875 \nQ 12.796875 19.78125 16.375 12.984375 \nQ 19.96875 6.203125 27.78125 6.203125 \nQ 35.546875 6.203125 39.15625 13.125 \nQ 42.78125 20.0625 42.78125 34.421875 \nz\n\" id=\"LiberationSans-48\"/>\n      </defs>\n      <g style=\"fill:#262626;\" transform=\"translate(18.321875 228.263437)scale(0.1 -0.1)\">\n       <use xlink:href=\"#LiberationSans-48\"/>\n      </g>\n     </g>\n    </g>\n    <g id=\"ytick_2\">\n     <g id=\"line2d_4\">\n      <path clip-path=\"url(#pf520c3c23f)\" d=\"M 27.382812 215.604471 \nL 362.182813 215.604471 \n\" style=\"fill:none;stroke:#cccccc;stroke-linecap:round;stroke-width:0.8;\"/>\n     </g>\n     <g id=\"line2d_5\"/>\n     <g id=\"text_2\">\n      <!-- 10 -->\n      <defs>\n       <path d=\"M 7.625 0 \nL 7.625 7.46875 \nL 25.140625 7.46875 \nL 25.140625 60.40625 \nL 9.625 49.3125 \nL 9.625 57.625 \nL 25.875 68.796875 \nL 33.984375 68.796875 \nL 33.984375 7.46875 \nL 50.734375 7.46875 \nL 50.734375 0 \nz\n\" id=\"LiberationSans-49\"/>\n      </defs>\n      <g style=\"fill:#262626;\" transform=\"translate(12.760937 219.227909)scale(0.1 -0.1)\">\n       <use xlink:href=\"#LiberationSans-49\"/>\n       <use x=\"55.615234\" xlink:href=\"#LiberationSans-48\"/>\n      </g>\n     </g>\n    </g>\n    <g id=\"ytick_3\">\n     <g id=\"line2d_6\">\n      <path clip-path=\"url(#pf520c3c23f)\" d=\"M 27.382812 206.568942 \nL 362.182813 206.568942 \n\" style=\"fill:none;stroke:#cccccc;stroke-linecap:round;stroke-width:0.8;\"/>\n     </g>\n     <g id=\"line2d_7\"/>\n     <g id=\"text_3\">\n      <!-- 20 -->\n      <defs>\n       <path d=\"M 5.03125 0 \nL 5.03125 6.203125 \nQ 7.515625 11.921875 11.109375 16.28125 \nQ 14.703125 20.65625 18.65625 24.1875 \nQ 22.609375 27.734375 26.484375 30.765625 \nQ 30.375 33.796875 33.5 36.8125 \nQ 36.625 39.84375 38.546875 43.15625 \nQ 40.484375 46.484375 40.484375 50.6875 \nQ 40.484375 56.34375 37.15625 59.46875 \nQ 33.84375 62.59375 27.9375 62.59375 \nQ 22.3125 62.59375 18.671875 59.546875 \nQ 15.046875 56.5 14.40625 50.984375 \nL 5.421875 51.8125 \nQ 6.390625 60.0625 12.421875 64.9375 \nQ 18.453125 69.828125 27.9375 69.828125 \nQ 38.328125 69.828125 43.921875 64.921875 \nQ 49.515625 60.015625 49.515625 50.984375 \nQ 49.515625 46.96875 47.671875 43.015625 \nQ 45.84375 39.0625 42.234375 35.109375 \nQ 38.625 31.15625 28.421875 22.859375 \nQ 22.796875 18.265625 19.46875 14.578125 \nQ 16.15625 10.890625 14.703125 7.46875 \nL 50.59375 7.46875 \nL 50.59375 0 \nz\n\" id=\"LiberationSans-50\"/>\n      </defs>\n      <g style=\"fill:#262626;\" transform=\"translate(12.760937 210.19238)scale(0.1 -0.1)\">\n       <use xlink:href=\"#LiberationSans-50\"/>\n       <use x=\"55.615234\" xlink:href=\"#LiberationSans-48\"/>\n      </g>\n     </g>\n    </g>\n    <g id=\"ytick_4\">\n     <g id=\"line2d_8\">\n      <path clip-path=\"url(#pf520c3c23f)\" d=\"M 27.382812 197.533414 \nL 362.182813 197.533414 \n\" style=\"fill:none;stroke:#cccccc;stroke-linecap:round;stroke-width:0.8;\"/>\n     </g>\n     <g id=\"line2d_9\"/>\n     <g id=\"text_4\">\n      <!-- 30 -->\n      <defs>\n       <path d=\"M 51.21875 19 \nQ 51.21875 9.46875 45.15625 4.234375 \nQ 39.109375 -0.984375 27.875 -0.984375 \nQ 17.4375 -0.984375 11.203125 3.734375 \nQ 4.984375 8.453125 3.8125 17.671875 \nL 12.890625 18.5 \nQ 14.65625 6.296875 27.875 6.296875 \nQ 34.515625 6.296875 38.296875 9.5625 \nQ 42.09375 12.84375 42.09375 19.28125 \nQ 42.09375 24.90625 37.765625 28.046875 \nQ 33.453125 31.203125 25.296875 31.203125 \nL 20.3125 31.203125 \nL 20.3125 38.8125 \nL 25.09375 38.8125 \nQ 32.328125 38.8125 36.296875 41.96875 \nQ 40.28125 45.125 40.28125 50.6875 \nQ 40.28125 56.203125 37.03125 59.390625 \nQ 33.796875 62.59375 27.390625 62.59375 \nQ 21.578125 62.59375 17.984375 59.609375 \nQ 14.40625 56.640625 13.8125 51.21875 \nL 4.984375 51.90625 \nQ 5.953125 60.359375 11.984375 65.09375 \nQ 18.015625 69.828125 27.484375 69.828125 \nQ 37.84375 69.828125 43.578125 65.015625 \nQ 49.3125 60.203125 49.3125 51.609375 \nQ 49.3125 45.015625 45.625 40.890625 \nQ 41.9375 36.765625 34.90625 35.296875 \nL 34.90625 35.109375 \nQ 42.625 34.28125 46.921875 29.9375 \nQ 51.21875 25.59375 51.21875 19 \nz\n\" id=\"LiberationSans-51\"/>\n      </defs>\n      <g style=\"fill:#262626;\" transform=\"translate(12.760937 201.156851)scale(0.1 -0.1)\">\n       <use xlink:href=\"#LiberationSans-51\"/>\n       <use x=\"55.615234\" xlink:href=\"#LiberationSans-48\"/>\n      </g>\n     </g>\n    </g>\n    <g id=\"ytick_5\">\n     <g id=\"line2d_10\">\n      <path clip-path=\"url(#pf520c3c23f)\" d=\"M 27.382812 188.497885 \nL 362.182813 188.497885 \n\" style=\"fill:none;stroke:#cccccc;stroke-linecap:round;stroke-width:0.8;\"/>\n     </g>\n     <g id=\"line2d_11\"/>\n     <g id=\"text_5\">\n      <!-- 40 -->\n      <defs>\n       <path d=\"M 43.015625 15.578125 \nL 43.015625 0 \nL 34.71875 0 \nL 34.71875 15.578125 \nL 2.296875 15.578125 \nL 2.296875 22.40625 \nL 33.796875 68.796875 \nL 43.015625 68.796875 \nL 43.015625 22.515625 \nL 52.6875 22.515625 \nL 52.6875 15.578125 \nz\nM 34.71875 58.890625 \nQ 34.625 58.59375 33.34375 56.296875 \nQ 32.078125 54 31.453125 53.078125 \nL 13.8125 27.09375 \nL 11.1875 23.484375 \nL 10.40625 22.515625 \nL 34.71875 22.515625 \nz\n\" id=\"LiberationSans-52\"/>\n      </defs>\n      <g style=\"fill:#262626;\" transform=\"translate(12.760937 192.121322)scale(0.1 -0.1)\">\n       <use xlink:href=\"#LiberationSans-52\"/>\n       <use x=\"55.615234\" xlink:href=\"#LiberationSans-48\"/>\n      </g>\n     </g>\n    </g>\n    <g id=\"ytick_6\">\n     <g id=\"line2d_12\">\n      <path clip-path=\"url(#pf520c3c23f)\" d=\"M 27.382812 179.462356 \nL 362.182813 179.462356 \n\" style=\"fill:none;stroke:#cccccc;stroke-linecap:round;stroke-width:0.8;\"/>\n     </g>\n     <g id=\"line2d_13\"/>\n     <g id=\"text_6\">\n      <!-- 50 -->\n      <defs>\n       <path d=\"M 51.421875 22.40625 \nQ 51.421875 11.53125 44.953125 5.265625 \nQ 38.484375 -0.984375 27 -0.984375 \nQ 17.390625 -0.984375 11.46875 3.21875 \nQ 5.5625 7.421875 4 15.375 \nL 12.890625 16.40625 \nQ 15.671875 6.203125 27.203125 6.203125 \nQ 34.28125 6.203125 38.28125 10.46875 \nQ 42.28125 14.75 42.28125 22.21875 \nQ 42.28125 28.71875 38.25 32.71875 \nQ 34.234375 36.71875 27.390625 36.71875 \nQ 23.828125 36.71875 20.75 35.59375 \nQ 17.671875 34.46875 14.59375 31.78125 \nL 6 31.78125 \nL 8.296875 68.796875 \nL 47.40625 68.796875 \nL 47.40625 61.328125 \nL 16.3125 61.328125 \nL 14.984375 39.5 \nQ 20.703125 43.890625 29.203125 43.890625 \nQ 39.359375 43.890625 45.390625 37.9375 \nQ 51.421875 31.984375 51.421875 22.40625 \nz\n\" id=\"LiberationSans-53\"/>\n      </defs>\n      <g style=\"fill:#262626;\" transform=\"translate(12.760937 183.085794)scale(0.1 -0.1)\">\n       <use xlink:href=\"#LiberationSans-53\"/>\n       <use x=\"55.615234\" xlink:href=\"#LiberationSans-48\"/>\n      </g>\n     </g>\n    </g>\n    <g id=\"ytick_7\">\n     <g id=\"line2d_14\">\n      <path clip-path=\"url(#pf520c3c23f)\" d=\"M 27.382812 170.426827 \nL 362.182813 170.426827 \n\" style=\"fill:none;stroke:#cccccc;stroke-linecap:round;stroke-width:0.8;\"/>\n     </g>\n     <g id=\"line2d_15\"/>\n     <g id=\"text_7\">\n      <!-- 60 -->\n      <defs>\n       <path d=\"M 51.21875 22.515625 \nQ 51.21875 11.625 45.3125 5.3125 \nQ 39.40625 -0.984375 29 -0.984375 \nQ 17.390625 -0.984375 11.234375 7.65625 \nQ 5.078125 16.3125 5.078125 32.8125 \nQ 5.078125 50.6875 11.46875 60.25 \nQ 17.875 69.828125 29.6875 69.828125 \nQ 45.265625 69.828125 49.3125 55.8125 \nL 40.921875 54.296875 \nQ 38.328125 62.703125 29.59375 62.703125 \nQ 22.078125 62.703125 17.9375 55.6875 \nQ 13.8125 48.6875 13.8125 35.40625 \nQ 16.21875 39.84375 20.5625 42.15625 \nQ 24.90625 44.484375 30.515625 44.484375 \nQ 40.046875 44.484375 45.625 38.515625 \nQ 51.21875 32.5625 51.21875 22.515625 \nz\nM 42.28125 22.125 \nQ 42.28125 29.59375 38.625 33.640625 \nQ 34.96875 37.703125 28.421875 37.703125 \nQ 22.265625 37.703125 18.484375 34.109375 \nQ 14.703125 30.515625 14.703125 24.21875 \nQ 14.703125 16.265625 18.625 11.1875 \nQ 22.5625 6.109375 28.71875 6.109375 \nQ 35.0625 6.109375 38.671875 10.375 \nQ 42.28125 14.65625 42.28125 22.125 \nz\n\" id=\"LiberationSans-54\"/>\n      </defs>\n      <g style=\"fill:#262626;\" transform=\"translate(12.760937 174.050265)scale(0.1 -0.1)\">\n       <use xlink:href=\"#LiberationSans-54\"/>\n       <use x=\"55.615234\" xlink:href=\"#LiberationSans-48\"/>\n      </g>\n     </g>\n    </g>\n    <g id=\"ytick_8\">\n     <g id=\"line2d_16\">\n      <path clip-path=\"url(#pf520c3c23f)\" d=\"M 27.382812 161.391299 \nL 362.182813 161.391299 \n\" style=\"fill:none;stroke:#cccccc;stroke-linecap:round;stroke-width:0.8;\"/>\n     </g>\n     <g id=\"line2d_17\"/>\n     <g id=\"text_8\">\n      <!-- 70 -->\n      <defs>\n       <path d=\"M 50.59375 61.671875 \nQ 40.046875 45.5625 35.6875 36.421875 \nQ 31.34375 27.296875 29.171875 18.40625 \nQ 27 9.515625 27 0 \nL 17.828125 0 \nQ 17.828125 13.1875 23.40625 27.75 \nQ 29 42.328125 42.09375 61.328125 \nL 5.125 61.328125 \nL 5.125 68.796875 \nL 50.59375 68.796875 \nz\n\" id=\"LiberationSans-55\"/>\n      </defs>\n      <g style=\"fill:#262626;\" transform=\"translate(12.760937 165.014736)scale(0.1 -0.1)\">\n       <use xlink:href=\"#LiberationSans-55\"/>\n       <use x=\"55.615234\" xlink:href=\"#LiberationSans-48\"/>\n      </g>\n     </g>\n    </g>\n    <g id=\"ytick_9\">\n     <g id=\"line2d_18\">\n      <path clip-path=\"url(#pf520c3c23f)\" d=\"M 27.382812 152.35577 \nL 362.182813 152.35577 \n\" style=\"fill:none;stroke:#cccccc;stroke-linecap:round;stroke-width:0.8;\"/>\n     </g>\n     <g id=\"line2d_19\"/>\n     <g id=\"text_9\">\n      <!-- 80 -->\n      <defs>\n       <path d=\"M 51.265625 19.1875 \nQ 51.265625 9.671875 45.203125 4.34375 \nQ 39.15625 -0.984375 27.828125 -0.984375 \nQ 16.796875 -0.984375 10.5625 4.234375 \nQ 4.34375 9.46875 4.34375 19.09375 \nQ 4.34375 25.828125 8.203125 30.421875 \nQ 12.0625 35.015625 18.0625 35.984375 \nL 18.0625 36.1875 \nQ 12.453125 37.5 9.203125 41.890625 \nQ 5.953125 46.296875 5.953125 52.203125 \nQ 5.953125 60.0625 11.828125 64.9375 \nQ 17.71875 69.828125 27.640625 69.828125 \nQ 37.796875 69.828125 43.671875 65.03125 \nQ 49.5625 60.25 49.5625 52.09375 \nQ 49.5625 46.1875 46.28125 41.796875 \nQ 43.015625 37.40625 37.359375 36.28125 \nL 37.359375 36.078125 \nQ 43.953125 35.015625 47.609375 30.5 \nQ 51.265625 25.984375 51.265625 19.1875 \nz\nM 40.4375 51.609375 \nQ 40.4375 63.28125 27.640625 63.28125 \nQ 21.4375 63.28125 18.1875 60.34375 \nQ 14.9375 57.421875 14.9375 51.609375 \nQ 14.9375 45.703125 18.28125 42.59375 \nQ 21.625 39.5 27.734375 39.5 \nQ 33.9375 39.5 37.1875 42.359375 \nQ 40.4375 45.21875 40.4375 51.609375 \nz\nM 42.140625 20.015625 \nQ 42.140625 26.421875 38.328125 29.65625 \nQ 34.515625 32.90625 27.640625 32.90625 \nQ 20.953125 32.90625 17.1875 29.40625 \nQ 13.421875 25.921875 13.421875 19.828125 \nQ 13.421875 5.609375 27.9375 5.609375 \nQ 35.109375 5.609375 38.625 9.046875 \nQ 42.140625 12.5 42.140625 20.015625 \nz\n\" id=\"LiberationSans-56\"/>\n      </defs>\n      <g style=\"fill:#262626;\" transform=\"translate(12.760937 155.979207)scale(0.1 -0.1)\">\n       <use xlink:href=\"#LiberationSans-56\"/>\n       <use x=\"55.615234\" xlink:href=\"#LiberationSans-48\"/>\n      </g>\n     </g>\n    </g>\n    <g id=\"ytick_10\">\n     <g id=\"line2d_20\">\n      <path clip-path=\"url(#pf520c3c23f)\" d=\"M 27.382812 143.320241 \nL 362.182813 143.320241 \n\" style=\"fill:none;stroke:#cccccc;stroke-linecap:round;stroke-width:0.8;\"/>\n     </g>\n     <g id=\"line2d_21\"/>\n     <g id=\"text_10\">\n      <!-- 90 -->\n      <defs>\n       <path d=\"M 50.875 35.796875 \nQ 50.875 18.0625 44.40625 8.53125 \nQ 37.9375 -0.984375 25.984375 -0.984375 \nQ 17.921875 -0.984375 13.0625 2.40625 \nQ 8.203125 5.8125 6.109375 13.375 \nL 14.5 14.703125 \nQ 17.140625 6.109375 26.125 6.109375 \nQ 33.6875 6.109375 37.84375 13.140625 \nQ 42 20.171875 42.1875 33.203125 \nQ 40.234375 28.8125 35.5 26.140625 \nQ 30.765625 23.484375 25.09375 23.484375 \nQ 15.828125 23.484375 10.25 29.828125 \nQ 4.6875 36.1875 4.6875 46.6875 \nQ 4.6875 57.46875 10.734375 63.640625 \nQ 16.796875 69.828125 27.59375 69.828125 \nQ 39.0625 69.828125 44.96875 61.328125 \nQ 50.875 52.828125 50.875 35.796875 \nz\nM 41.3125 44.28125 \nQ 41.3125 52.59375 37.5 57.640625 \nQ 33.6875 62.703125 27.296875 62.703125 \nQ 20.953125 62.703125 17.28125 58.375 \nQ 13.625 54.046875 13.625 46.6875 \nQ 13.625 39.15625 17.28125 34.78125 \nQ 20.953125 30.421875 27.203125 30.421875 \nQ 31 30.421875 34.265625 32.15625 \nQ 37.546875 33.890625 39.421875 37.0625 \nQ 41.3125 40.234375 41.3125 44.28125 \nz\n\" id=\"LiberationSans-57\"/>\n      </defs>\n      <g style=\"fill:#262626;\" transform=\"translate(12.760937 146.943679)scale(0.1 -0.1)\">\n       <use xlink:href=\"#LiberationSans-57\"/>\n       <use x=\"55.615234\" xlink:href=\"#LiberationSans-48\"/>\n      </g>\n     </g>\n    </g>\n    <g id=\"ytick_11\">\n     <g id=\"line2d_22\">\n      <path clip-path=\"url(#pf520c3c23f)\" d=\"M 27.382812 134.284712 \nL 362.182813 134.284712 \n\" style=\"fill:none;stroke:#cccccc;stroke-linecap:round;stroke-width:0.8;\"/>\n     </g>\n     <g id=\"line2d_23\"/>\n     <g id=\"text_11\">\n      <!-- 100 -->\n      <g style=\"fill:#262626;\" transform=\"translate(7.2 137.90815)scale(0.1 -0.1)\">\n       <use xlink:href=\"#LiberationSans-49\"/>\n       <use x=\"55.615234\" xlink:href=\"#LiberationSans-48\"/>\n       <use x=\"111.230469\" xlink:href=\"#LiberationSans-48\"/>\n      </g>\n     </g>\n    </g>\n    <g id=\"ytick_12\">\n     <g id=\"line2d_24\">\n      <path clip-path=\"url(#pf520c3c23f)\" d=\"M 27.382812 125.249183 \nL 362.182813 125.249183 \n\" style=\"fill:none;stroke:#cccccc;stroke-linecap:round;stroke-width:0.8;\"/>\n     </g>\n     <g id=\"line2d_25\"/>\n     <g id=\"text_12\">\n      <!-- 110 -->\n      <g style=\"fill:#262626;\" transform=\"translate(7.210938 128.872621)scale(0.1 -0.1)\">\n       <use xlink:href=\"#LiberationSans-49\"/>\n       <use x=\"55.505859\" xlink:href=\"#LiberationSans-49\"/>\n       <use x=\"111.121094\" xlink:href=\"#LiberationSans-48\"/>\n      </g>\n     </g>\n    </g>\n    <g id=\"ytick_13\">\n     <g id=\"line2d_26\">\n      <path clip-path=\"url(#pf520c3c23f)\" d=\"M 27.382812 116.213655 \nL 362.182813 116.213655 \n\" style=\"fill:none;stroke:#cccccc;stroke-linecap:round;stroke-width:0.8;\"/>\n     </g>\n     <g id=\"line2d_27\"/>\n     <g id=\"text_13\">\n      <!-- 120 -->\n      <g style=\"fill:#262626;\" transform=\"translate(7.2 119.837092)scale(0.1 -0.1)\">\n       <use xlink:href=\"#LiberationSans-49\"/>\n       <use x=\"55.615234\" xlink:href=\"#LiberationSans-50\"/>\n       <use x=\"111.230469\" xlink:href=\"#LiberationSans-48\"/>\n      </g>\n     </g>\n    </g>\n    <g id=\"ytick_14\">\n     <g id=\"line2d_28\">\n      <path clip-path=\"url(#pf520c3c23f)\" d=\"M 27.382812 107.178126 \nL 362.182813 107.178126 \n\" style=\"fill:none;stroke:#cccccc;stroke-linecap:round;stroke-width:0.8;\"/>\n     </g>\n     <g id=\"line2d_29\"/>\n     <g id=\"text_14\">\n      <!-- 130 -->\n      <g style=\"fill:#262626;\" transform=\"translate(7.2 110.801563)scale(0.1 -0.1)\">\n       <use xlink:href=\"#LiberationSans-49\"/>\n       <use x=\"55.615234\" xlink:href=\"#LiberationSans-51\"/>\n       <use x=\"111.230469\" xlink:href=\"#LiberationSans-48\"/>\n      </g>\n     </g>\n    </g>\n    <g id=\"ytick_15\">\n     <g id=\"line2d_30\">\n      <path clip-path=\"url(#pf520c3c23f)\" d=\"M 27.382812 98.142597 \nL 362.182813 98.142597 \n\" style=\"fill:none;stroke:#cccccc;stroke-linecap:round;stroke-width:0.8;\"/>\n     </g>\n     <g id=\"line2d_31\"/>\n     <g id=\"text_15\">\n      <!-- 140 -->\n      <g style=\"fill:#262626;\" transform=\"translate(7.2 101.766035)scale(0.1 -0.1)\">\n       <use xlink:href=\"#LiberationSans-49\"/>\n       <use x=\"55.615234\" xlink:href=\"#LiberationSans-52\"/>\n       <use x=\"111.230469\" xlink:href=\"#LiberationSans-48\"/>\n      </g>\n     </g>\n    </g>\n    <g id=\"ytick_16\">\n     <g id=\"line2d_32\">\n      <path clip-path=\"url(#pf520c3c23f)\" d=\"M 27.382812 89.107068 \nL 362.182813 89.107068 \n\" style=\"fill:none;stroke:#cccccc;stroke-linecap:round;stroke-width:0.8;\"/>\n     </g>\n     <g id=\"line2d_33\"/>\n     <g id=\"text_16\">\n      <!-- 150 -->\n      <g style=\"fill:#262626;\" transform=\"translate(7.2 92.730506)scale(0.1 -0.1)\">\n       <use xlink:href=\"#LiberationSans-49\"/>\n       <use x=\"55.615234\" xlink:href=\"#LiberationSans-53\"/>\n       <use x=\"111.230469\" xlink:href=\"#LiberationSans-48\"/>\n      </g>\n     </g>\n    </g>\n    <g id=\"ytick_17\">\n     <g id=\"line2d_34\">\n      <path clip-path=\"url(#pf520c3c23f)\" d=\"M 27.382812 80.07154 \nL 362.182813 80.07154 \n\" style=\"fill:none;stroke:#cccccc;stroke-linecap:round;stroke-width:0.8;\"/>\n     </g>\n     <g id=\"line2d_35\"/>\n     <g id=\"text_17\">\n      <!-- 160 -->\n      <g style=\"fill:#262626;\" transform=\"translate(7.2 83.694977)scale(0.1 -0.1)\">\n       <use xlink:href=\"#LiberationSans-49\"/>\n       <use x=\"55.615234\" xlink:href=\"#LiberationSans-54\"/>\n       <use x=\"111.230469\" xlink:href=\"#LiberationSans-48\"/>\n      </g>\n     </g>\n    </g>\n    <g id=\"ytick_18\">\n     <g id=\"line2d_36\">\n      <path clip-path=\"url(#pf520c3c23f)\" d=\"M 27.382812 71.036011 \nL 362.182813 71.036011 \n\" style=\"fill:none;stroke:#cccccc;stroke-linecap:round;stroke-width:0.8;\"/>\n     </g>\n     <g id=\"line2d_37\"/>\n     <g id=\"text_18\">\n      <!-- 170 -->\n      <g style=\"fill:#262626;\" transform=\"translate(7.2 74.659448)scale(0.1 -0.1)\">\n       <use xlink:href=\"#LiberationSans-49\"/>\n       <use x=\"55.615234\" xlink:href=\"#LiberationSans-55\"/>\n       <use x=\"111.230469\" xlink:href=\"#LiberationSans-48\"/>\n      </g>\n     </g>\n    </g>\n    <g id=\"ytick_19\">\n     <g id=\"line2d_38\">\n      <path clip-path=\"url(#pf520c3c23f)\" d=\"M 27.382812 62.000482 \nL 362.182813 62.000482 \n\" style=\"fill:none;stroke:#cccccc;stroke-linecap:round;stroke-width:0.8;\"/>\n     </g>\n     <g id=\"line2d_39\"/>\n     <g id=\"text_19\">\n      <!-- 180 -->\n      <g style=\"fill:#262626;\" transform=\"translate(7.2 65.62392)scale(0.1 -0.1)\">\n       <use xlink:href=\"#LiberationSans-49\"/>\n       <use x=\"55.615234\" xlink:href=\"#LiberationSans-56\"/>\n       <use x=\"111.230469\" xlink:href=\"#LiberationSans-48\"/>\n      </g>\n     </g>\n    </g>\n    <g id=\"ytick_20\">\n     <g id=\"line2d_40\">\n      <path clip-path=\"url(#pf520c3c23f)\" d=\"M 27.382812 52.964953 \nL 362.182813 52.964953 \n\" style=\"fill:none;stroke:#cccccc;stroke-linecap:round;stroke-width:0.8;\"/>\n     </g>\n     <g id=\"line2d_41\"/>\n     <g id=\"text_20\">\n      <!-- 190 -->\n      <g style=\"fill:#262626;\" transform=\"translate(7.2 56.588391)scale(0.1 -0.1)\">\n       <use xlink:href=\"#LiberationSans-49\"/>\n       <use x=\"55.615234\" xlink:href=\"#LiberationSans-57\"/>\n       <use x=\"111.230469\" xlink:href=\"#LiberationSans-48\"/>\n      </g>\n     </g>\n    </g>\n    <g id=\"ytick_21\">\n     <g id=\"line2d_42\">\n      <path clip-path=\"url(#pf520c3c23f)\" d=\"M 27.382812 43.929424 \nL 362.182813 43.929424 \n\" style=\"fill:none;stroke:#cccccc;stroke-linecap:round;stroke-width:0.8;\"/>\n     </g>\n     <g id=\"line2d_43\"/>\n     <g id=\"text_21\">\n      <!-- 200 -->\n      <g style=\"fill:#262626;\" transform=\"translate(7.2 47.552862)scale(0.1 -0.1)\">\n       <use xlink:href=\"#LiberationSans-50\"/>\n       <use x=\"55.615234\" xlink:href=\"#LiberationSans-48\"/>\n       <use x=\"111.230469\" xlink:href=\"#LiberationSans-48\"/>\n      </g>\n     </g>\n    </g>\n    <g id=\"ytick_22\">\n     <g id=\"line2d_44\">\n      <path clip-path=\"url(#pf520c3c23f)\" d=\"M 27.382812 34.893896 \nL 362.182813 34.893896 \n\" style=\"fill:none;stroke:#cccccc;stroke-linecap:round;stroke-width:0.8;\"/>\n     </g>\n     <g id=\"line2d_45\"/>\n     <g id=\"text_22\">\n      <!-- 210 -->\n      <g style=\"fill:#262626;\" transform=\"translate(7.2 38.517333)scale(0.1 -0.1)\">\n       <use xlink:href=\"#LiberationSans-50\"/>\n       <use x=\"55.615234\" xlink:href=\"#LiberationSans-49\"/>\n       <use x=\"111.230469\" xlink:href=\"#LiberationSans-48\"/>\n      </g>\n     </g>\n    </g>\n    <g id=\"ytick_23\">\n     <g id=\"line2d_46\">\n      <path clip-path=\"url(#pf520c3c23f)\" d=\"M 27.382812 25.858367 \nL 362.182813 25.858367 \n\" style=\"fill:none;stroke:#cccccc;stroke-linecap:round;stroke-width:0.8;\"/>\n     </g>\n     <g id=\"line2d_47\"/>\n     <g id=\"text_23\">\n      <!-- 220 -->\n      <g style=\"fill:#262626;\" transform=\"translate(7.2 29.481804)scale(0.1 -0.1)\">\n       <use xlink:href=\"#LiberationSans-50\"/>\n       <use x=\"55.615234\" xlink:href=\"#LiberationSans-50\"/>\n       <use x=\"111.230469\" xlink:href=\"#LiberationSans-48\"/>\n      </g>\n     </g>\n    </g>\n    <g id=\"ytick_24\">\n     <g id=\"line2d_48\">\n      <path clip-path=\"url(#pf520c3c23f)\" d=\"M 27.382812 16.822838 \nL 362.182813 16.822838 \n\" style=\"fill:none;stroke:#cccccc;stroke-linecap:round;stroke-width:0.8;\"/>\n     </g>\n     <g id=\"line2d_49\"/>\n     <g id=\"text_24\">\n      <!-- 230 -->\n      <g style=\"fill:#262626;\" transform=\"translate(7.2 20.446276)scale(0.1 -0.1)\">\n       <use xlink:href=\"#LiberationSans-50\"/>\n       <use x=\"55.615234\" xlink:href=\"#LiberationSans-51\"/>\n       <use x=\"111.230469\" xlink:href=\"#LiberationSans-48\"/>\n      </g>\n     </g>\n    </g>\n   </g>\n   <g id=\"patch_3\">\n    <path clip-path=\"url(#pf520c3c23f)\" d=\"M 60.862812 183.980121 \nL 328.702813 183.980121 \nL 328.702813 148.741558 \nL 60.862812 148.741558 \nL 60.862812 183.980121 \nz\n\" style=\"fill:#3274a1;stroke:#3f3f3f;stroke-linejoin:miter;stroke-width:1.5;\"/>\n   </g>\n   <g id=\"line2d_50\">\n    <path clip-path=\"url(#pf520c3c23f)\" d=\"M 194.782813 183.980121 \nL 194.782813 209.279601 \n\" style=\"fill:none;stroke:#3f3f3f;stroke-linecap:round;stroke-width:1.5;\"/>\n   </g>\n   <g id=\"line2d_51\">\n    <path clip-path=\"url(#pf520c3c23f)\" d=\"M 194.782813 148.741558 \nL 194.782813 134.284712 \n\" style=\"fill:none;stroke:#3f3f3f;stroke-linecap:round;stroke-width:1.5;\"/>\n   </g>\n   <g id=\"line2d_52\">\n    <path clip-path=\"url(#pf520c3c23f)\" d=\"M 127.822812 209.279601 \nL 261.742813 209.279601 \n\" style=\"fill:none;stroke:#3f3f3f;stroke-linecap:round;stroke-width:1.5;\"/>\n   </g>\n   <g id=\"line2d_53\">\n    <path clip-path=\"url(#pf520c3c23f)\" d=\"M 127.822812 134.284712 \nL 261.742813 134.284712 \n\" style=\"fill:none;stroke:#3f3f3f;stroke-linecap:round;stroke-width:1.5;\"/>\n   </g>\n   <g id=\"line2d_54\">\n    <defs>\n     <path d=\"M -0 3.535534 \nL 2.12132 0 \nL -0 -3.535534 \nL -2.12132 -0 \nz\n\" id=\"mf26f1d97ad\" style=\"stroke:#3f3f3f;stroke-linejoin:miter;\"/>\n    </defs>\n    <g clip-path=\"url(#pf520c3c23f)\">\n     <use style=\"fill:#3f3f3f;stroke:#3f3f3f;stroke-linejoin:miter;\" x=\"194.782813\" xlink:href=\"#mf26f1d97ad\" y=\"16.822838\"/>\n     <use style=\"fill:#3f3f3f;stroke:#3f3f3f;stroke-linejoin:miter;\" x=\"194.782813\" xlink:href=\"#mf26f1d97ad\" y=\"89.107068\"/>\n    </g>\n   </g>\n   <g id=\"line2d_55\">\n    <path clip-path=\"url(#pf520c3c23f)\" d=\"M 60.862812 161.391299 \nL 328.702813 161.391299 \n\" style=\"fill:none;stroke:#3f3f3f;stroke-linecap:round;stroke-width:1.5;\"/>\n   </g>\n   <g id=\"patch_4\">\n    <path d=\"M 27.382812 224.64 \nL 27.382812 7.2 \n\" style=\"fill:none;stroke:#cccccc;stroke-linecap:square;stroke-linejoin:miter;\"/>\n   </g>\n   <g id=\"patch_5\">\n    <path d=\"M 362.182813 224.64 \nL 362.182813 7.2 \n\" style=\"fill:none;stroke:#cccccc;stroke-linecap:square;stroke-linejoin:miter;\"/>\n   </g>\n   <g id=\"patch_6\">\n    <path d=\"M 27.382812 224.64 \nL 362.182813 224.64 \n\" style=\"fill:none;stroke:#cccccc;stroke-linecap:square;stroke-linejoin:miter;\"/>\n   </g>\n   <g id=\"patch_7\">\n    <path d=\"M 27.382812 7.2 \nL 362.182813 7.2 \n\" style=\"fill:none;stroke:#cccccc;stroke-linecap:square;stroke-linejoin:miter;\"/>\n   </g>\n  </g>\n </g>\n <defs>\n  <clipPath id=\"pf520c3c23f\">\n   <rect height=\"217.44\" width=\"334.8\" x=\"27.382812\" y=\"7.2\"/>\n  </clipPath>\n </defs>\n</svg>\n",
      "text/plain": "<Figure size 432x288 with 1 Axes>"
     },
     "metadata": {},
     "output_type": "display_data"
    }
   ],
   "source": [
    "print(s_sorted)\n",
    "sns.boxplot(s, orient='v')\n",
    "plt.yticks(np.arange(0, 240, 10))\n",
    "plt.show()"
   ]
  },
  {
   "cell_type": "code",
   "execution_count": 96,
   "metadata": {},
   "outputs": [
    {
     "data": {
      "image/png": "[encoded data removed]",
      "image/svg+xml": "<?xml version=\"1.0\" encoding=\"utf-8\" standalone=\"no\"?>\n<!DOCTYPE svg PUBLIC \"-//W3C//DTD SVG 1.1//EN\"\n  \"http://www.w3.org/Graphics/SVG/1.1/DTD/svg11.dtd\">\n<!-- Created with matplotlib (https://matplotlib.org/) -->\n<svg height=\"244.661875pt\" version=\"1.1\" viewBox=\"0 0 369.382812 244.661875\" width=\"369.382812pt\" xmlns=\"http://www.w3.org/2000/svg\" xmlns:xlink=\"http://www.w3.org/1999/xlink\">\n <defs>\n  <style type=\"text/css\">\n*{stroke-linecap:butt;stroke-linejoin:round;}\n  </style>\n </defs>\n <g id=\"figure_1\">\n  <g id=\"patch_1\">\n   <path d=\"M 0 244.661875 \nL 369.382812 244.661875 \nL 369.382812 0 \nL 0 0 \nz\n\" style=\"fill:#ffffff;\"/>\n  </g>\n  <g id=\"axes_1\">\n   <g id=\"patch_2\">\n    <path d=\"M 27.382812 224.64 \nL 362.182813 224.64 \nL 362.182813 7.2 \nL 27.382812 7.2 \nz\n\" style=\"fill:#ffffff;\"/>\n   </g>\n   <g id=\"matplotlib.axis_1\">\n    <g id=\"xtick_1\">\n     <g id=\"line2d_1\">\n      <path clip-path=\"url(#pfc934c527a)\" d=\"M 194.782813 224.64 \nL 194.782813 7.2 \n\" style=\"fill:none;stroke:#cccccc;stroke-linecap:round;stroke-width:0.8;\"/>\n     </g>\n     <g id=\"line2d_2\"/>\n     <g id=\"text_1\">\n      <!-- 1 -->\n      <defs>\n       <path d=\"M 7.625 0 \nL 7.625 7.46875 \nL 25.140625 7.46875 \nL 25.140625 60.40625 \nL 9.625 49.3125 \nL 9.625 57.625 \nL 25.875 68.796875 \nL 33.984375 68.796875 \nL 33.984375 7.46875 \nL 50.734375 7.46875 \nL 50.734375 0 \nz\n\" id=\"LiberationSans-49\"/>\n      </defs>\n      <g style=\"fill:#262626;\" transform=\"translate(192.002344 235.386875)scale(0.1 -0.1)\">\n       <use xlink:href=\"#LiberationSans-49\"/>\n      </g>\n     </g>\n    </g>\n   </g>\n   <g id=\"matplotlib.axis_2\">\n    <g id=\"ytick_1\">\n     <g id=\"line2d_3\">\n      <path clip-path=\"url(#pfc934c527a)\" d=\"M 27.382812 184.131012 \nL 362.182813 184.131012 \n\" style=\"fill:none;stroke:#cccccc;stroke-linecap:round;stroke-width:0.8;\"/>\n     </g>\n     <g id=\"line2d_4\"/>\n     <g id=\"text_2\">\n      <!-- 50 -->\n      <defs>\n       <path d=\"M 51.421875 22.40625 \nQ 51.421875 11.53125 44.953125 5.265625 \nQ 38.484375 -0.984375 27 -0.984375 \nQ 17.390625 -0.984375 11.46875 3.21875 \nQ 5.5625 7.421875 4 15.375 \nL 12.890625 16.40625 \nQ 15.671875 6.203125 27.203125 6.203125 \nQ 34.28125 6.203125 38.28125 10.46875 \nQ 42.28125 14.75 42.28125 22.21875 \nQ 42.28125 28.71875 38.25 32.71875 \nQ 34.234375 36.71875 27.390625 36.71875 \nQ 23.828125 36.71875 20.75 35.59375 \nQ 17.671875 34.46875 14.59375 31.78125 \nL 6 31.78125 \nL 8.296875 68.796875 \nL 47.40625 68.796875 \nL 47.40625 61.328125 \nL 16.3125 61.328125 \nL 14.984375 39.5 \nQ 20.703125 43.890625 29.203125 43.890625 \nQ 39.359375 43.890625 45.390625 37.9375 \nQ 51.421875 31.984375 51.421875 22.40625 \nz\n\" id=\"LiberationSans-53\"/>\n       <path d=\"M 51.703125 34.421875 \nQ 51.703125 17.1875 45.625 8.09375 \nQ 39.546875 -0.984375 27.6875 -0.984375 \nQ 15.828125 -0.984375 9.859375 8.046875 \nQ 3.90625 17.09375 3.90625 34.421875 \nQ 3.90625 52.15625 9.6875 60.984375 \nQ 15.484375 69.828125 27.984375 69.828125 \nQ 40.140625 69.828125 45.921875 60.890625 \nQ 51.703125 51.953125 51.703125 34.421875 \nz\nM 42.78125 34.421875 \nQ 42.78125 49.3125 39.328125 56 \nQ 35.890625 62.703125 27.984375 62.703125 \nQ 19.875 62.703125 16.328125 56.109375 \nQ 12.796875 49.515625 12.796875 34.421875 \nQ 12.796875 19.78125 16.375 12.984375 \nQ 19.96875 6.203125 27.78125 6.203125 \nQ 35.546875 6.203125 39.15625 13.125 \nQ 42.78125 20.0625 42.78125 34.421875 \nz\n\" id=\"LiberationSans-48\"/>\n      </defs>\n      <g style=\"fill:#262626;\" transform=\"translate(12.760937 187.754449)scale(0.1 -0.1)\">\n       <use xlink:href=\"#LiberationSans-53\"/>\n       <use x=\"55.615234\" xlink:href=\"#LiberationSans-48\"/>\n      </g>\n     </g>\n    </g>\n    <g id=\"ytick_2\">\n     <g id=\"line2d_5\">\n      <path clip-path=\"url(#pfc934c527a)\" d=\"M 27.382812 137.728963 \nL 362.182813 137.728963 \n\" style=\"fill:none;stroke:#cccccc;stroke-linecap:round;stroke-width:0.8;\"/>\n     </g>\n     <g id=\"line2d_6\"/>\n     <g id=\"text_3\">\n      <!-- 100 -->\n      <g style=\"fill:#262626;\" transform=\"translate(7.2 141.3524)scale(0.1 -0.1)\">\n       <use xlink:href=\"#LiberationSans-49\"/>\n       <use x=\"55.615234\" xlink:href=\"#LiberationSans-48\"/>\n       <use x=\"111.230469\" xlink:href=\"#LiberationSans-48\"/>\n      </g>\n     </g>\n    </g>\n    <g id=\"ytick_3\">\n     <g id=\"line2d_7\">\n      <path clip-path=\"url(#pfc934c527a)\" d=\"M 27.382812 91.326914 \nL 362.182813 91.326914 \n\" style=\"fill:none;stroke:#cccccc;stroke-linecap:round;stroke-width:0.8;\"/>\n     </g>\n     <g id=\"line2d_8\"/>\n     <g id=\"text_4\">\n      <!-- 150 -->\n      <g style=\"fill:#262626;\" transform=\"translate(7.2 94.950352)scale(0.1 -0.1)\">\n       <use xlink:href=\"#LiberationSans-49\"/>\n       <use x=\"55.615234\" xlink:href=\"#LiberationSans-53\"/>\n       <use x=\"111.230469\" xlink:href=\"#LiberationSans-48\"/>\n      </g>\n     </g>\n    </g>\n    <g id=\"ytick_4\">\n     <g id=\"line2d_9\">\n      <path clip-path=\"url(#pfc934c527a)\" d=\"M 27.382812 44.924866 \nL 362.182813 44.924866 \n\" style=\"fill:none;stroke:#cccccc;stroke-linecap:round;stroke-width:0.8;\"/>\n     </g>\n     <g id=\"line2d_10\"/>\n     <g id=\"text_5\">\n      <!-- 200 -->\n      <defs>\n       <path d=\"M 5.03125 0 \nL 5.03125 6.203125 \nQ 7.515625 11.921875 11.109375 16.28125 \nQ 14.703125 20.65625 18.65625 24.1875 \nQ 22.609375 27.734375 26.484375 30.765625 \nQ 30.375 33.796875 33.5 36.8125 \nQ 36.625 39.84375 38.546875 43.15625 \nQ 40.484375 46.484375 40.484375 50.6875 \nQ 40.484375 56.34375 37.15625 59.46875 \nQ 33.84375 62.59375 27.9375 62.59375 \nQ 22.3125 62.59375 18.671875 59.546875 \nQ 15.046875 56.5 14.40625 50.984375 \nL 5.421875 51.8125 \nQ 6.390625 60.0625 12.421875 64.9375 \nQ 18.453125 69.828125 27.9375 69.828125 \nQ 38.328125 69.828125 43.921875 64.921875 \nQ 49.515625 60.015625 49.515625 50.984375 \nQ 49.515625 46.96875 47.671875 43.015625 \nQ 45.84375 39.0625 42.234375 35.109375 \nQ 38.625 31.15625 28.421875 22.859375 \nQ 22.796875 18.265625 19.46875 14.578125 \nQ 16.15625 10.890625 14.703125 7.46875 \nL 50.59375 7.46875 \nL 50.59375 0 \nz\n\" id=\"LiberationSans-50\"/>\n      </defs>\n      <g style=\"fill:#262626;\" transform=\"translate(7.2 48.548303)scale(0.1 -0.1)\">\n       <use xlink:href=\"#LiberationSans-50\"/>\n       <use x=\"55.615234\" xlink:href=\"#LiberationSans-48\"/>\n       <use x=\"111.230469\" xlink:href=\"#LiberationSans-48\"/>\n      </g>\n     </g>\n    </g>\n   </g>\n   <g id=\"line2d_11\">\n    <path clip-path=\"url(#pfc934c527a)\" d=\"M 169.672812 188.771216 \nL 219.892813 188.771216 \nL 219.892813 152.577618 \nL 169.672812 152.577618 \nL 169.672812 188.771216 \n\" style=\"fill:none;stroke:#000000;stroke-linecap:round;\"/>\n   </g>\n   <g id=\"line2d_12\">\n    <path clip-path=\"url(#pfc934c527a)\" d=\"M 194.782813 188.771216 \nL 194.782813 214.756364 \n\" style=\"fill:none;stroke:#000000;stroke-linecap:round;\"/>\n   </g>\n   <g id=\"line2d_13\">\n    <path clip-path=\"url(#pfc934c527a)\" d=\"M 194.782813 152.577618 \nL 194.782813 137.728963 \n\" style=\"fill:none;stroke:#000000;stroke-linecap:round;\"/>\n   </g>\n   <g id=\"line2d_14\">\n    <path clip-path=\"url(#pfc934c527a)\" d=\"M 182.227812 214.756364 \nL 207.337813 214.756364 \n\" style=\"fill:none;stroke:#000000;stroke-linecap:round;\"/>\n   </g>\n   <g id=\"line2d_15\">\n    <path clip-path=\"url(#pfc934c527a)\" d=\"M 182.227812 137.728963 \nL 207.337813 137.728963 \n\" style=\"fill:none;stroke:#000000;stroke-linecap:round;\"/>\n   </g>\n   <g id=\"line2d_16\">\n    <defs>\n     <path d=\"M 0 3 \nC 0.795609 3 1.55874 2.683901 2.12132 2.12132 \nC 2.683901 1.55874 3 0.795609 3 0 \nC 3 -0.795609 2.683901 -1.55874 2.12132 -2.12132 \nC 1.55874 -2.683901 0.795609 -3 0 -3 \nC -0.795609 -3 -1.55874 -2.683901 -2.12132 -2.12132 \nC -2.683901 -1.55874 -3 -0.795609 -3 0 \nC -3 0.795609 -2.683901 1.55874 -2.12132 2.12132 \nC -1.55874 2.683901 -0.795609 3 0 3 \nz\n\" id=\"m81859140a4\" style=\"stroke:#000000;\"/>\n    </defs>\n    <g clip-path=\"url(#pfc934c527a)\">\n     <use style=\"fill-opacity:0;stroke:#000000;\" x=\"194.782813\" xlink:href=\"#m81859140a4\" y=\"17.083636\"/>\n     <use style=\"fill-opacity:0;stroke:#000000;\" x=\"194.782813\" xlink:href=\"#m81859140a4\" y=\"91.326914\"/>\n    </g>\n   </g>\n   <g id=\"line2d_17\">\n    <path clip-path=\"url(#pfc934c527a)\" d=\"M 169.672812 165.570192 \nL 219.892813 165.570192 \n\" style=\"fill:none;stroke:#ff7f0e;stroke-linecap:round;\"/>\n   </g>\n   <g id=\"patch_3\">\n    <path d=\"M 27.382812 224.64 \nL 27.382812 7.2 \n\" style=\"fill:none;stroke:#cccccc;stroke-linecap:square;stroke-linejoin:miter;\"/>\n   </g>\n   <g id=\"patch_4\">\n    <path d=\"M 362.182813 224.64 \nL 362.182813 7.2 \n\" style=\"fill:none;stroke:#cccccc;stroke-linecap:square;stroke-linejoin:miter;\"/>\n   </g>\n   <g id=\"patch_5\">\n    <path d=\"M 27.382812 224.64 \nL 362.182813 224.64 \n\" style=\"fill:none;stroke:#cccccc;stroke-linecap:square;stroke-linejoin:miter;\"/>\n   </g>\n   <g id=\"patch_6\">\n    <path d=\"M 27.382812 7.2 \nL 362.182813 7.2 \n\" style=\"fill:none;stroke:#cccccc;stroke-linecap:square;stroke-linejoin:miter;\"/>\n   </g>\n  </g>\n </g>\n <defs>\n  <clipPath id=\"pfc934c527a\">\n   <rect height=\"217.44\" width=\"334.8\" x=\"27.382812\" y=\"7.2\"/>\n  </clipPath>\n </defs>\n</svg>\n",
      "text/plain": "<Figure size 432x288 with 1 Axes>"
     },
     "metadata": {},
     "output_type": "display_data"
    }
   ],
   "source": [
    "plt.boxplot(s)\n",
    "plt.show()"
   ]
  },
  {
   "cell_type": "code",
   "execution_count": 97,
   "metadata": {},
   "outputs": [
    {
     "data": {
      "image/png": "[encoded data removed]",
      "image/svg+xml": "<?xml version=\"1.0\" encoding=\"utf-8\" standalone=\"no\"?>\n<!DOCTYPE svg PUBLIC \"-//W3C//DTD SVG 1.1//EN\"\n  \"http://www.w3.org/Graphics/SVG/1.1/DTD/svg11.dtd\">\n<!-- Created with matplotlib (https://matplotlib.org/) -->\n<svg height=\"244.661875pt\" version=\"1.1\" viewBox=\"0 0 369.382812 244.661875\" width=\"369.382812pt\" xmlns=\"http://www.w3.org/2000/svg\" xmlns:xlink=\"http://www.w3.org/1999/xlink\">\n <defs>\n  <style type=\"text/css\">\n*{stroke-linecap:butt;stroke-linejoin:round;}\n  </style>\n </defs>\n <g id=\"figure_1\">\n  <g id=\"patch_1\">\n   <path d=\"M 0 244.661875 \nL 369.382812 244.661875 \nL 369.382812 0 \nL 0 0 \nz\n\" style=\"fill:#ffffff;\"/>\n  </g>\n  <g id=\"axes_1\">\n   <g id=\"patch_2\">\n    <path d=\"M 27.382812 224.64 \nL 362.182813 224.64 \nL 362.182813 7.2 \nL 27.382812 7.2 \nz\n\" style=\"fill:#ffffff;\"/>\n   </g>\n   <g id=\"matplotlib.axis_1\">\n    <g id=\"xtick_1\">\n     <g id=\"line2d_1\">\n      <path clip-path=\"url(#p2f2f5aff9e)\" d=\"M 194.782813 224.64 \nL 194.782813 7.2 \n\" style=\"fill:none;stroke:#cccccc;stroke-linecap:round;stroke-width:0.8;\"/>\n     </g>\n     <g id=\"line2d_2\"/>\n     <g id=\"text_1\">\n      <!-- 0 -->\n      <defs>\n       <path d=\"M 51.703125 34.421875 \nQ 51.703125 17.1875 45.625 8.09375 \nQ 39.546875 -0.984375 27.6875 -0.984375 \nQ 15.828125 -0.984375 9.859375 8.046875 \nQ 3.90625 17.09375 3.90625 34.421875 \nQ 3.90625 52.15625 9.6875 60.984375 \nQ 15.484375 69.828125 27.984375 69.828125 \nQ 40.140625 69.828125 45.921875 60.890625 \nQ 51.703125 51.953125 51.703125 34.421875 \nz\nM 42.78125 34.421875 \nQ 42.78125 49.3125 39.328125 56 \nQ 35.890625 62.703125 27.984375 62.703125 \nQ 19.875 62.703125 16.328125 56.109375 \nQ 12.796875 49.515625 12.796875 34.421875 \nQ 12.796875 19.78125 16.375 12.984375 \nQ 19.96875 6.203125 27.78125 6.203125 \nQ 35.546875 6.203125 39.15625 13.125 \nQ 42.78125 20.0625 42.78125 34.421875 \nz\n\" id=\"LiberationSans-48\"/>\n      </defs>\n      <g style=\"fill:#262626;\" transform=\"translate(192.002344 235.386875)scale(0.1 -0.1)\">\n       <use xlink:href=\"#LiberationSans-48\"/>\n      </g>\n     </g>\n    </g>\n   </g>\n   <g id=\"matplotlib.axis_2\">\n    <g id=\"ytick_1\">\n     <g id=\"line2d_3\">\n      <path clip-path=\"url(#p2f2f5aff9e)\" d=\"M 27.382812 184.131012 \nL 362.182813 184.131012 \n\" style=\"fill:none;stroke:#cccccc;stroke-linecap:round;stroke-width:0.8;\"/>\n     </g>\n     <g id=\"line2d_4\"/>\n     <g id=\"text_2\">\n      <!-- 50 -->\n      <defs>\n       <path d=\"M 51.421875 22.40625 \nQ 51.421875 11.53125 44.953125 5.265625 \nQ 38.484375 -0.984375 27 -0.984375 \nQ 17.390625 -0.984375 11.46875 3.21875 \nQ 5.5625 7.421875 4 15.375 \nL 12.890625 16.40625 \nQ 15.671875 6.203125 27.203125 6.203125 \nQ 34.28125 6.203125 38.28125 10.46875 \nQ 42.28125 14.75 42.28125 22.21875 \nQ 42.28125 28.71875 38.25 32.71875 \nQ 34.234375 36.71875 27.390625 36.71875 \nQ 23.828125 36.71875 20.75 35.59375 \nQ 17.671875 34.46875 14.59375 31.78125 \nL 6 31.78125 \nL 8.296875 68.796875 \nL 47.40625 68.796875 \nL 47.40625 61.328125 \nL 16.3125 61.328125 \nL 14.984375 39.5 \nQ 20.703125 43.890625 29.203125 43.890625 \nQ 39.359375 43.890625 45.390625 37.9375 \nQ 51.421875 31.984375 51.421875 22.40625 \nz\n\" id=\"LiberationSans-53\"/>\n      </defs>\n      <g style=\"fill:#262626;\" transform=\"translate(12.760937 187.754449)scale(0.1 -0.1)\">\n       <use xlink:href=\"#LiberationSans-53\"/>\n       <use x=\"55.615234\" xlink:href=\"#LiberationSans-48\"/>\n      </g>\n     </g>\n    </g>\n    <g id=\"ytick_2\">\n     <g id=\"line2d_5\">\n      <path clip-path=\"url(#p2f2f5aff9e)\" d=\"M 27.382812 137.728963 \nL 362.182813 137.728963 \n\" style=\"fill:none;stroke:#cccccc;stroke-linecap:round;stroke-width:0.8;\"/>\n     </g>\n     <g id=\"line2d_6\"/>\n     <g id=\"text_3\">\n      <!-- 100 -->\n      <defs>\n       <path d=\"M 7.625 0 \nL 7.625 7.46875 \nL 25.140625 7.46875 \nL 25.140625 60.40625 \nL 9.625 49.3125 \nL 9.625 57.625 \nL 25.875 68.796875 \nL 33.984375 68.796875 \nL 33.984375 7.46875 \nL 50.734375 7.46875 \nL 50.734375 0 \nz\n\" id=\"LiberationSans-49\"/>\n      </defs>\n      <g style=\"fill:#262626;\" transform=\"translate(7.2 141.3524)scale(0.1 -0.1)\">\n       <use xlink:href=\"#LiberationSans-49\"/>\n       <use x=\"55.615234\" xlink:href=\"#LiberationSans-48\"/>\n       <use x=\"111.230469\" xlink:href=\"#LiberationSans-48\"/>\n      </g>\n     </g>\n    </g>\n    <g id=\"ytick_3\">\n     <g id=\"line2d_7\">\n      <path clip-path=\"url(#p2f2f5aff9e)\" d=\"M 27.382812 91.326914 \nL 362.182813 91.326914 \n\" style=\"fill:none;stroke:#cccccc;stroke-linecap:round;stroke-width:0.8;\"/>\n     </g>\n     <g id=\"line2d_8\"/>\n     <g id=\"text_4\">\n      <!-- 150 -->\n      <g style=\"fill:#262626;\" transform=\"translate(7.2 94.950352)scale(0.1 -0.1)\">\n       <use xlink:href=\"#LiberationSans-49\"/>\n       <use x=\"55.615234\" xlink:href=\"#LiberationSans-53\"/>\n       <use x=\"111.230469\" xlink:href=\"#LiberationSans-48\"/>\n      </g>\n     </g>\n    </g>\n    <g id=\"ytick_4\">\n     <g id=\"line2d_9\">\n      <path clip-path=\"url(#p2f2f5aff9e)\" d=\"M 27.382812 44.924866 \nL 362.182813 44.924866 \n\" style=\"fill:none;stroke:#cccccc;stroke-linecap:round;stroke-width:0.8;\"/>\n     </g>\n     <g id=\"line2d_10\"/>\n     <g id=\"text_5\">\n      <!-- 200 -->\n      <defs>\n       <path d=\"M 5.03125 0 \nL 5.03125 6.203125 \nQ 7.515625 11.921875 11.109375 16.28125 \nQ 14.703125 20.65625 18.65625 24.1875 \nQ 22.609375 27.734375 26.484375 30.765625 \nQ 30.375 33.796875 33.5 36.8125 \nQ 36.625 39.84375 38.546875 43.15625 \nQ 40.484375 46.484375 40.484375 50.6875 \nQ 40.484375 56.34375 37.15625 59.46875 \nQ 33.84375 62.59375 27.9375 62.59375 \nQ 22.3125 62.59375 18.671875 59.546875 \nQ 15.046875 56.5 14.40625 50.984375 \nL 5.421875 51.8125 \nQ 6.390625 60.0625 12.421875 64.9375 \nQ 18.453125 69.828125 27.9375 69.828125 \nQ 38.328125 69.828125 43.921875 64.921875 \nQ 49.515625 60.015625 49.515625 50.984375 \nQ 49.515625 46.96875 47.671875 43.015625 \nQ 45.84375 39.0625 42.234375 35.109375 \nQ 38.625 31.15625 28.421875 22.859375 \nQ 22.796875 18.265625 19.46875 14.578125 \nQ 16.15625 10.890625 14.703125 7.46875 \nL 50.59375 7.46875 \nL 50.59375 0 \nz\n\" id=\"LiberationSans-50\"/>\n      </defs>\n      <g style=\"fill:#262626;\" transform=\"translate(7.2 48.548303)scale(0.1 -0.1)\">\n       <use xlink:href=\"#LiberationSans-50\"/>\n       <use x=\"55.615234\" xlink:href=\"#LiberationSans-48\"/>\n       <use x=\"111.230469\" xlink:href=\"#LiberationSans-48\"/>\n      </g>\n     </g>\n    </g>\n   </g>\n   <g id=\"line2d_11\">\n    <path clip-path=\"url(#p2f2f5aff9e)\" d=\"M 169.672812 188.771216 \nL 219.892813 188.771216 \nL 219.892813 152.577618 \nL 169.672812 152.577618 \nL 169.672812 188.771216 \n\" style=\"fill:none;stroke:#1f77b4;stroke-linecap:round;\"/>\n   </g>\n   <g id=\"line2d_12\">\n    <path clip-path=\"url(#p2f2f5aff9e)\" d=\"M 194.782813 188.771216 \nL 194.782813 214.756364 \n\" style=\"fill:none;stroke:#1f77b4;stroke-linecap:round;\"/>\n   </g>\n   <g id=\"line2d_13\">\n    <path clip-path=\"url(#p2f2f5aff9e)\" d=\"M 194.782813 152.577618 \nL 194.782813 137.728963 \n\" style=\"fill:none;stroke:#1f77b4;stroke-linecap:round;\"/>\n   </g>\n   <g id=\"line2d_14\">\n    <path clip-path=\"url(#p2f2f5aff9e)\" d=\"M 182.227812 214.756364 \nL 207.337813 214.756364 \n\" style=\"fill:none;stroke:#000000;stroke-linecap:round;\"/>\n   </g>\n   <g id=\"line2d_15\">\n    <path clip-path=\"url(#p2f2f5aff9e)\" d=\"M 182.227812 137.728963 \nL 207.337813 137.728963 \n\" style=\"fill:none;stroke:#000000;stroke-linecap:round;\"/>\n   </g>\n   <g id=\"line2d_16\">\n    <defs>\n     <path d=\"M 0 3 \nC 0.795609 3 1.55874 2.683901 2.12132 2.12132 \nC 2.683901 1.55874 3 0.795609 3 0 \nC 3 -0.795609 2.683901 -1.55874 2.12132 -2.12132 \nC 1.55874 -2.683901 0.795609 -3 0 -3 \nC -0.795609 -3 -1.55874 -2.683901 -2.12132 -2.12132 \nC -2.683901 -1.55874 -3 -0.795609 -3 0 \nC -3 0.795609 -2.683901 1.55874 -2.12132 2.12132 \nC -1.55874 2.683901 -0.795609 3 0 3 \nz\n\" id=\"m6a75f95123\" style=\"stroke:#000000;\"/>\n    </defs>\n    <g clip-path=\"url(#p2f2f5aff9e)\">\n     <use style=\"fill-opacity:0;stroke:#000000;\" x=\"194.782813\" xlink:href=\"#m6a75f95123\" y=\"17.083636\"/>\n     <use style=\"fill-opacity:0;stroke:#000000;\" x=\"194.782813\" xlink:href=\"#m6a75f95123\" y=\"91.326914\"/>\n    </g>\n   </g>\n   <g id=\"line2d_17\">\n    <path clip-path=\"url(#p2f2f5aff9e)\" d=\"M 169.672812 165.570192 \nL 219.892813 165.570192 \n\" style=\"fill:none;stroke:#2ca02c;stroke-linecap:round;\"/>\n   </g>\n   <g id=\"patch_3\">\n    <path d=\"M 27.382812 224.64 \nL 27.382812 7.2 \n\" style=\"fill:none;stroke:#cccccc;stroke-linecap:square;stroke-linejoin:miter;\"/>\n   </g>\n   <g id=\"patch_4\">\n    <path d=\"M 362.182813 224.64 \nL 362.182813 7.2 \n\" style=\"fill:none;stroke:#cccccc;stroke-linecap:square;stroke-linejoin:miter;\"/>\n   </g>\n   <g id=\"patch_5\">\n    <path d=\"M 27.382812 224.64 \nL 362.182813 224.64 \n\" style=\"fill:none;stroke:#cccccc;stroke-linecap:square;stroke-linejoin:miter;\"/>\n   </g>\n   <g id=\"patch_6\">\n    <path d=\"M 27.382812 7.2 \nL 362.182813 7.2 \n\" style=\"fill:none;stroke:#cccccc;stroke-linecap:square;stroke-linejoin:miter;\"/>\n   </g>\n  </g>\n </g>\n <defs>\n  <clipPath id=\"p2f2f5aff9e\">\n   <rect height=\"217.44\" width=\"334.8\" x=\"27.382812\" y=\"7.2\"/>\n  </clipPath>\n </defs>\n</svg>\n",
      "text/plain": "<Figure size 432x288 with 1 Axes>"
     },
     "metadata": {},
     "output_type": "display_data"
    }
   ],
   "source": [
    "pd.DataFrame(s).boxplot()\n",
    "plt.show()"
   ]
  },
  {
   "cell_type": "markdown",
   "metadata": {},
   "source": [
    "На графиках усы соответствуют максимальному и минимальному значению выборки из `S` таких элементов `X`, что $Q1-1.5 \\cdot IQR \\leq X \\leq Q3+1.5 \\cdot IQR$. "
   ]
  },
  {
   "cell_type": "markdown",
   "metadata": {},
   "source": [
    "**3. В университет на факультеты A и B поступило равное количество студентов, а на факультет C студентов поступило столько же, сколько на A и B вместе. Вероятность того, что студент факультета A сдаст первую сессию, равна 0.8. Для студента факультета B эта вероятность равна 0.7, а для студента факультета C - 0.9. Студент сдал первую сессию. Какова вероятность, что он учится: a) на факультете A? б) на факультете B? в) на факультете C?**\n",
    "\n",
    "***Замечание: да, эта задача не на тему описательных статистик, но тема важная, и её стоит иногда освежать в памяти.***\n",
    "\n",
    "Обозначим $A_X$ - обытие что студент учится на факультете $X$. $B$ - событие, что студент сдал первую сессию. Тогда \n",
    "$$P(A_A) = P(A_B) = 0.25, P(A_C) = 0.5$$\n",
    "$$P(B|A_A) = 0.8, P(B|A_B) = 0.7, P(B|A_C) = 0.9$$\n",
    "\n",
    "Требуется найти вероятности $P(A_A|B), P(A_B|B), P(A_C|B)$.\n",
    "\n",
    "Воспользуемся формулой Байеса\n",
    "$$P(A|B)=\\frac{P(B|A) \\cdot P(A)}{P(B)}$$\n",
    "\n",
    "Найдём $P(B)$ по формуле полной вероятности.\n",
    "$$P(B) = P(B|A_A) \\cdot P(A_A) + P(B|A_B) \\cdot P(A_B) + P(B|A_C) \\cdot P(A_C)$$\n",
    "$$P(B) = 0.8 \\cdot 0.25 + 0.7 \\cdot 0.25 + 0.9 \\cdot 0.5 = 0.825$$\n",
    "\n",
    "Посчитаем искомые вероятности. \n",
    "$$P(A_A|B) = \\frac{0.8 \\cdot 0.25}{0.825} = 0.24(24)$$\n",
    "$$P(A_B|B) = \\frac{0.7 \\cdot 0.25}{0.825} = 0.21(21)$$\n",
    "$$P(A_C|B) = \\frac{0.9 \\cdot 0.5}{0.825} = 0.54(54)$$\n",
    "\n",
    "**Ответ: а) 0.24(24); б) 0.21(21); с) 0.54(54).**"
   ]
  },
  {
   "cell_type": "code",
   "execution_count": null,
   "metadata": {},
   "outputs": [],
   "source": []
  }
 ],
 "metadata": {
  "file_extension": ".py",
  "kernelspec": {
   "display_name": "Python 3",
   "language": "python",
   "name": "python3"
  },
  "language_info": {
   "codemirror_mode": {
    "name": "ipython",
    "version": 3
   },
   "file_extension": ".py",
   "mimetype": "text/x-python",
   "name": "python",
   "nbconvert_exporter": "python",
   "pygments_lexer": "ipython3",
   "version": "3.7.6-final"
  },
  "mimetype": "text/x-python",
  "name": "python",
  "npconvert_exporter": "python",
  "pygments_lexer": "ipython3",
  "version": 3
 },
 "nbformat": 4,
 "nbformat_minor": 2
}