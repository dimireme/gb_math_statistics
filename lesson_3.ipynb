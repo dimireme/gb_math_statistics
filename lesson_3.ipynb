{
 "nbformat": 4,
 "nbformat_minor": 2,
 "metadata": {
  "language_info": {
   "name": "python",
   "codemirror_mode": {
    "name": "ipython",
    "version": 3
   },
   "version": "3.7.6-final"
  },
  "orig_nbformat": 2,
  "file_extension": ".py",
  "mimetype": "text/x-python",
  "name": "python",
  "npconvert_exporter": "python",
  "pygments_lexer": "ipython3",
  "version": 3,
  "kernelspec": {
   "name": "python3",
   "display_name": "Python 3"
  }
 },
 "cells": [
  {
   "cell_type": "code",
   "execution_count": 6,
   "metadata": {},
   "outputs": [],
   "source": [
    "import numpy as np"
   ]
  },
  {
   "cell_type": "markdown",
   "metadata": {},
   "source": [
    "## Урок 3. Описательная статистика. Качественные и количественные характеристики популяции. Графическое представление данных.\n",
    "\n",
    "**1. Даны значения зарплат из выборки выпускников:**\n",
    "\n",
    "```\n",
    "100, 80, 75, 77, 89, 33, 45, 25, 65, 17, 30, 230, 24, 57, 55, 70, 75, 65, 84, 90, 150\n",
    "```\n",
    "**Используя только встроенные питоновские функции и структуры данных (т.е. без библиотек numpy, pandas и др.) посчитать среднее арифметическое, смещённую и несмещённую оценки дисперсии, среднее квадратичное отклонение для данной выборки. Можно затем посчитать те же значения с использованием библиотек, чтобы проверить себя.**"
   ]
  },
  {
   "cell_type": "code",
   "execution_count": 39,
   "metadata": {},
   "outputs": [],
   "source": [
    "s = (100, 80, 75, 77, 89, 33, 45, 25, 65, 17, 30, 230, 24, 57, 55, 70, 75, 65, 84, 90, 150)\n",
    "s_len = len(s)"
   ]
  },
  {
   "cell_type": "markdown",
   "metadata": {},
   "source": [
    "Среднее арифметическое $\\overline{x} = \\dfrac{1}{m} \\displaystyle\\sum_{i = 1}^m x_i$."
   ]
  },
  {
   "cell_type": "code",
   "execution_count": 40,
   "metadata": {},
   "outputs": [
    {
     "data": {
      "text/plain": "73.14285714285714"
     },
     "execution_count": 40,
     "metadata": {},
     "output_type": "execute_result"
    }
   ],
   "source": [
    "s_mean = sum(s) / s_len\n",
    "s_mean"
   ]
  },
  {
   "cell_type": "markdown",
   "metadata": {},
   "source": [
    "Смещённая оценка дисперсии $\\sigma^2 = \\dfrac{1}{m} \\displaystyle\\sum_{i = 1}^m \\left( x_i - \\overline{x} \\right)^2$."
   ]
  },
  {
   "cell_type": "code",
   "execution_count": 41,
   "metadata": {},
   "outputs": [
    {
     "data": {
      "text/plain": "2135.074829931973"
     },
     "execution_count": 41,
     "metadata": {},
     "output_type": "execute_result"
    }
   ],
   "source": [
    "s_var_offset = sum((x - s_mean)**2 for x in s) / s_len\n",
    "s_var_offset"
   ]
  },
  {
   "cell_type": "markdown",
   "metadata": {},
   "source": [
    "Несмещенная оценка дисперсии $\\sigma_{unbiased}^2 = \\dfrac{1}{m - 1} \\displaystyle\\sum_{i = 1}^m \\left( x_i - \\overline{x} \\right)^2$."
   ]
  },
  {
   "cell_type": "code",
   "execution_count": 42,
   "metadata": {},
   "outputs": [
    {
     "data": {
      "text/plain": "2241.8285714285716"
     },
     "execution_count": 42,
     "metadata": {},
     "output_type": "execute_result"
    }
   ],
   "source": [
    "s_var = sum((x - s_mean)**2 for x in s) / (s_len - 1)\n",
    "s_var"
   ]
  },
  {
   "cell_type": "markdown",
   "metadata": {},
   "source": [
    "**Ответ: среднее арифметическое 73.14; смещённая оценка 2135.07; несмещённая оценка 2241.83.**"
   ]
  },
  {
   "cell_type": "markdown",
   "metadata": {},
   "source": [
    "**2. Для выборки из задачи 1 найти (также без использования библиотек): 1) медиану, первый и третий квартили, интерквартильное расстояние; 2) выборсы в выборке (используя для этого метод как при построении \"усов\" из boxplot). Возможные неоднозначности в вычислении квантилей можно разрешать любым способом.**"
   ]
  },
  {
   "cell_type": "code",
   "execution_count": 44,
   "metadata": {},
   "outputs": [
    {
     "data": {
      "text/plain": "21"
     },
     "execution_count": 44,
     "metadata": {},
     "output_type": "execute_result"
    }
   ],
   "source": [
    "s_sorted = sorted(s)\n",
    "s_len"
   ]
  },
  {
   "cell_type": "markdown",
   "metadata": {},
   "source": [
    "Число 20 делится на 2 и на 4, поэтому значениями медианы, первого квартиля и третьего квартиля будут элементы исходного массива. 11-й, 6-й и 16-й соответственно."
   ]
  },
  {
   "cell_type": "code",
   "execution_count": 52,
   "metadata": {},
   "outputs": [
    {
     "data": {
      "text/plain": "70"
     },
     "execution_count": 52,
     "metadata": {},
     "output_type": "execute_result"
    }
   ],
   "source": [
    "# медиана\n",
    "s_median = s_sorted[(s_len - 1) // 2]\n",
    "s_median"
   ]
  },
  {
   "cell_type": "code",
   "execution_count": 53,
   "metadata": {},
   "outputs": [
    {
     "data": {
      "text/plain": "45"
     },
     "execution_count": 53,
     "metadata": {},
     "output_type": "execute_result"
    }
   ],
   "source": [
    "# первый квартиль\n",
    "s_q1 = sorted_salaries[(salaries_len - 1) // 4]\n",
    "s_q1"
   ]
  },
  {
   "cell_type": "code",
   "execution_count": 54,
   "metadata": {},
   "outputs": [
    {
     "data": {
      "text/plain": "84"
     },
     "execution_count": 54,
     "metadata": {},
     "output_type": "execute_result"
    }
   ],
   "source": [
    "# третий квартиль\n",
    "s_q3 = s_sorted[(s_len - 1) * 3 // 4]\n",
    "s_q3"
   ]
  },
  {
   "cell_type": "code",
   "execution_count": 58,
   "metadata": {},
   "outputs": [
    {
     "data": {
      "text/plain": "[17, 24, 25, 30, 33, 89, 90, 100, 150, 230]"
     },
     "execution_count": 58,
     "metadata": {},
     "output_type": "execute_result"
    }
   ],
   "source": [
    "# выбросы\n",
    "s_emissions = list(filter(lambda x: x < s_q1 or x > s_q3, s_sorted))\n",
    "s_emissions"
   ]
  },
  {
   "cell_type": "markdown",
   "metadata": {},
   "source": [
    "**Ответ: 1) медиана 70; первый квартиль 84; третий квартиль 84. 2) выбросы 17, 24, 25, 30, 33, 89, 90, 100, 150, 230.**"
   ]
  },
  {
   "cell_type": "markdown",
   "metadata": {},
   "source": [
    "**3. В университет на факультеты A и B поступило равное количество студентов, а на факультет C студентов поступило столько же, сколько на A и B вместе. Вероятность того, что студент факультета A сдаст первую сессию, равна 0.8. Для студента факультета B эта вероятность равна 0.7, а для студента факультета C - 0.9. Студент сдал первую сессию. Какова вероятность, что он учится: a) на факультете A? б) на факультете B? в) на факультете C?**\n",
    "\n",
    "***Замечание: да, эта задача не на тему описательных статистик, но тема важная, и её стоит иногда освежать в памяти.***\n",
    "\n",
    "Обозначим $A_X$ - обытие что студент учится на факультете $X$. $B$ - событие, что студент сдал первую сессию. Тогда \n",
    "$$P(A_A) = P(A_B) = 0.25, P(A_C) = 0.5$$\n",
    "$$P(B|A_A) = 0.8, P(B|A_B) = 0.7, P(B|A_C) = 0.9$$\n",
    "\n",
    "Требуется найти вероятности $P(A_A|B), P(A_B|B), P(A_C|B)$.\n",
    "\n",
    "Воспользуемся формулой Байеса\n",
    "$$P(A|B)=\\frac{P(B|A)*P(A)}{P(B)}$$\n",
    "\n",
    "$P(B)$ найдём по формуле полной вероятности $P(B) = P(B|A_A) \\cdot P(A_A) + P(B|A_B) \\cdot P(A_B) + P(B|A_C) \\cdot P(A_C) = 0.8 \\cdot 0.25 + 0.7 \\cdot 0.25 + 0.9 \\cdot 0.5 = 0.825$.\n",
    "\n",
    "Посчитаем искомые вероятности. \n",
    "$$P(A_A|B) = \\frac{0.8 \\cdot 0.25}{0.825} = 0.24(24)$$\n",
    "$$P(A_B|B) = \\frac{0.7 \\cdot 0.25}{0.825} = 0.21(21)$$\n",
    "$$P(A_C|B) = \\frac{0.9 \\cdot 0.5}{0.825} = $$\n"
   ]
  },
  {
   "cell_type": "code",
   "execution_count": null,
   "metadata": {},
   "outputs": [],
   "source": []
  },
  {
   "cell_type": "code",
   "execution_count": null,
   "metadata": {},
   "outputs": [],
   "source": []
  },
  {
   "cell_type": "code",
   "execution_count": null,
   "metadata": {},
   "outputs": [],
   "source": []
  },
  {
   "cell_type": "code",
   "execution_count": null,
   "metadata": {},
   "outputs": [],
   "source": []
  },
  {
   "cell_type": "code",
   "execution_count": null,
   "metadata": {},
   "outputs": [],
   "source": []
  },
  {
   "cell_type": "code",
   "execution_count": null,
   "metadata": {},
   "outputs": [],
   "source": []
  },
  {
   "cell_type": "code",
   "execution_count": null,
   "metadata": {},
   "outputs": [],
   "source": []
  },
  {
   "cell_type": "code",
   "execution_count": null,
   "metadata": {},
   "outputs": [],
   "source": []
  },
  {
   "cell_type": "code",
   "execution_count": null,
   "metadata": {},
   "outputs": [],
   "source": []
  }
 ]
}