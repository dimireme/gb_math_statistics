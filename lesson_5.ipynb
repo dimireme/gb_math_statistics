{
 "cells": [
  {
   "cell_type": "markdown",
   "metadata": {},
   "source": [
    "## Урок 5. Проверка статистических гипотез. Доверительные интервалы. A/B-тестирование.\n",
    "\n",
    "**1. Утверждается, что шарики для подшипников, изготовленные автоматическим станком, имеют средний диаметр 17 мм. Используя уровень значимости 0.025 и правостороннюю критическую область, проверить данную гипотезу при условии, что в выборке из 100 шариков средний диаметр оказался равным 17.5 мм, а дисперсия известна и равна 4 мм.**\n",
    "\n",
    "Проверяется гипотеза $H_0$ о том что матожидание распределения диаметра шариков не преавышает 17мм. Так как распределение нормальное и с известной дисперсией, то для проверки гипотезы $H_0$ будем использовать статистику $T(X) = \\dfrac{\\overline{X} - a}{\\sigma / \\sqrt{n}}$. Эта статистика имеет стандартное нормальное распределение. Для нашей выборки оказалось что $\\overline{X}=17.5$. $n = 100$, $\\sigma = 4мм$, $a = 17мм$. То есть \n",
    "$$T(X) = \\dfrac{\\overline{X} - 17}{4 / \\sqrt{100}} = (\\overline{X} - 17) \\cdot 2.5$$\n",
    "\n",
    "\n",
    "При уровне значимости $\\alpha = 0.025$ правосторонняя критическая область $\\Omega_\\alpha = (t_{1 - \\alpha}, \\infty)$. Посчитаем квантиль $t_{1 - \\alpha}$."
   ]
  },
  {
   "cell_type": "code",
   "execution_count": 1,
   "metadata": {},
   "outputs": [],
   "source": [
    "import numpy as np\n",
    "from scipy import stats"
   ]
  },
  {
   "cell_type": "code",
   "execution_count": 38,
   "metadata": {},
   "outputs": [
    {
     "data": {
      "text/plain": "1.959963984540054"
     },
     "execution_count": 38,
     "metadata": {},
     "output_type": "execute_result"
    }
   ],
   "source": [
    "alpha = 0.025\n",
    "t2 = stats.norm.ppf(1 - alpha)\n",
    "t2"
   ]
  },
  {
   "cell_type": "markdown",
   "metadata": {},
   "source": [
    "Получили правостороннюю критическую область $\\Omega_\\alpha = (1.96, \\infty)$. Посчитаем значение статистики $T(X)$ для $\\overline{X} = 17.5$."
   ]
  },
  {
   "cell_type": "code",
   "execution_count": 51,
   "metadata": {},
   "outputs": [
    {
     "data": {
      "text/plain": "1.25"
     },
     "execution_count": 51,
     "metadata": {},
     "output_type": "execute_result"
    }
   ],
   "source": [
    "T = lambda x: (x - 17) * 2.5\n",
    "T(17.5)"
   ]
  },
  {
   "cell_type": "markdown",
   "metadata": {},
   "source": [
    "Для нашей конкретной выборки статистика $T(17.5) = 1.25$ не попадает в критическую область, поэтому гипотеза $H_0$ остаётся в силе. То есть матожидание распределения шариков не превышает 17мм.\n",
    "\n",
    "**Ответ: оснований отклонить гипотезу нет.**"
   ]
  },
  {
   "cell_type": "markdown",
   "metadata": {},
   "source": [
    "**2. Известно, что генеральная совокупность распределена нормально с известным средним квадратическим отклонением 16. Найти доверительный интервал для оценки математического ожидания a с надёжностью 0.95, если выборочное среднее равно 80, а объём равен 256.**\n",
    "\n",
    "Задано $\\sigma = 16$, $p = 0.95$, $\\overline{X} = 80$, $n = 256$. Так как генеральная совокупность распределена нормально, то доверительный интервал оценки матожидания $a$ можно найти по формуле\n",
    "\n",
    "$$\n",
    "P \\left(\n",
    "    \\overline{X} - t_{1 - \\alpha / 2} \\cdot \\dfrac{\\sigma}{\\sqrt{n}}\n",
    "    \\leq a \\leq \n",
    "    \\overline{X} + t_{1 - \\alpha / 2} \\cdot \\dfrac{\\sigma}{\\sqrt{n}}\n",
    "\\right) = p.\n",
    "$$\n",
    "\n",
    "Здесь $\\alpha = 1 - p = 0.05$. Так как мы работаем со случайной величиной, а не с выборкой, то квантиль $t_{1 - \\alpha / 2}$ найдём из стандартного нормльного распределения."
   ]
  },
  {
   "cell_type": "code",
   "execution_count": 76,
   "metadata": {},
   "outputs": [
    {
     "data": {
      "text/plain": "(78.04003601545995, 81.95996398454005)"
     },
     "execution_count": 76,
     "metadata": {},
     "output_type": "execute_result"
    }
   ],
   "source": [
    "alpha = 0.05\n",
    "sigm = 16\n",
    "p = 0.95\n",
    "mean = 80\n",
    "n = 256\n",
    "\n",
    "alpha = 1 - p\n",
    "t = stats.norm.ppf(1 - alpha/2)\n",
    "\n",
    "L = mean - t * (sigm / np.sqrt(n))\n",
    "U = mean + t * (sigm / np.sqrt(n))\n",
    "\n",
    "L, U"
   ]
  },
  {
   "cell_type": "markdown",
   "metadata": {},
   "source": [
    "**Ответ: доверительный интервал для оценки матожидания $P(78.04 \\leq a \\leq 81.96) = 0.95$.**"
   ]
  },
  {
   "cell_type": "markdown",
   "metadata": {},
   "source": [
    "**3. Продавец утверждает, что средний вес пачки печенья составляет 200 г. Из партии извлечена выборка из 10 пачек. Вес каждой пачки составляет:**\n",
    "\n",
    "```\n",
    "202, 203, 199, 197, 195, 201, 200, 204, 194, 190\n",
    "```\n",
    "\n",
    "**Известно, что их веса распределены нормально. Верно ли утверждение продавца, если учитывать, что уровень значимости равен 1%?**\n",
    "\n",
    " Проверим гипотезу $H_0$ о том что матожидание веса пачки печенья равно 200г. Так как веса пачек печенья распределены нормально, то используем статистику $T(X) = \\dfrac{\\overline{X} - a}{\\sigma_X / \\sqrt{n}}$. Здесь $a = 200$, $n = 10$."
   ]
  },
  {
   "cell_type": "code",
   "execution_count": 66,
   "metadata": {},
   "outputs": [],
   "source": [
    "X = np.array([202, 203, 199, 197, 195, 201, 200, 204, 194, 190])\n",
    "a = 200\n",
    "n = len(X)\n",
    "alpha = 0.01\n",
    "T = lambda _mean, _sigm: (_mean - a) / (_sigm / np.sqrt(n))"
   ]
  },
  {
   "cell_type": "markdown",
   "metadata": {},
   "source": [
    "Статистика $T(X)$ будет иметь распределение Стьюдента. Критическая область $\\Omega_\\alpha = (-\\infty, t_{\\alpha/2, \\: n-1}) \\cup (t_{1 - \\alpha/2, \\: n-1}, \\infty)$. Найдём квантили $t_{\\alpha/2, \\: n - 1}$ и $t_{1 - \\alpha/2, \\: n - 1}$."
   ]
  },
  {
   "cell_type": "code",
   "execution_count": 74,
   "metadata": {},
   "outputs": [
    {
     "data": {
      "text/plain": "(-3.24983554401537, 3.2498355440153697)"
     },
     "execution_count": 74,
     "metadata": {},
     "output_type": "execute_result"
    }
   ],
   "source": [
    "t1 = stats.t.ppf(alpha/2, df=n-1)\n",
    "t2 = stats.t.ppf(1 - alpha/2, n-1)\n",
    "t1, t2"
   ]
  },
  {
   "cell_type": "markdown",
   "metadata": {},
   "source": [
    "Получили критическую область $\\Omega_\\alpha = (-\\infty, -3.25) \\cup (3.25, \\infty)$. Посчитаем $T(X)$ для нашей выборки."
   ]
  },
  {
   "cell_type": "code",
   "execution_count": 68,
   "metadata": {},
   "outputs": [
    {
     "data": {
      "text/plain": "(198.5, 19.833333333333332)"
     },
     "execution_count": 68,
     "metadata": {},
     "output_type": "execute_result"
    }
   ],
   "source": [
    "mean_x = X.mean()\n",
    "sigm_x = X.var(ddof=1)\n",
    "mean_x, sigm_x"
   ]
  },
  {
   "cell_type": "code",
   "execution_count": 69,
   "metadata": {},
   "outputs": [
    {
     "data": {
      "text/plain": "-0.23916385665139006"
     },
     "execution_count": 69,
     "metadata": {},
     "output_type": "execute_result"
    }
   ],
   "source": [
    "T(mean_x, sigm_x)"
   ]
  },
  {
   "cell_type": "markdown",
   "metadata": {},
   "source": [
    "Получили $T(X) = -0.24$. Эта точка не попадает в критическую область, поэтому гипотеза $H_0$ остаётся в силе. То есть утверждение продавца истинно с уровнем значимости 1%.\n",
    "\n",
    "**Ответ: оснований отклонить гипотезу нет.**"
   ]
  },
  {
   "cell_type": "code",
   "execution_count": null,
   "metadata": {},
   "outputs": [],
   "source": []
  }
 ],
 "metadata": {
  "file_extension": ".py",
  "kernelspec": {
   "display_name": "Python 3",
   "language": "python",
   "name": "python3"
  },
  "language_info": {
   "codemirror_mode": {
    "name": "ipython",
    "version": 3
   },
   "file_extension": ".py",
   "mimetype": "text/x-python",
   "name": "python",
   "nbconvert_exporter": "python",
   "pygments_lexer": "ipython3",
   "version": "3.7.6-final"
  },
  "mimetype": "text/x-python",
  "name": "python",
  "npconvert_exporter": "python",
  "pygments_lexer": "ipython3",
  "version": 3
 },
 "nbformat": 4,
 "nbformat_minor": 2
}