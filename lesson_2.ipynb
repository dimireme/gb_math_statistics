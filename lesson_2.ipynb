{
 "cells": [
  {
   "cell_type": "code",
   "execution_count": 39,
   "metadata": {},
   "outputs": [],
   "source": [
    "import numpy as np"
   ]
  },
  {
   "cell_type": "code",
   "execution_count": 40,
   "metadata": {},
   "outputs": [],
   "source": [
    "\"\"\"число сочетаний из n по k\"\"\"\n",
    "comb = lambda n, k: 0 if k > n else np.math.factorial(n) // (np.math.factorial(k) * np.math.factorial(n-k))\n",
    "\n",
    "\"\"\"формула Пуассона\"\"\"\n",
    "poisson = lambda k, l: (l ** k) * (np.exp(-l)) / np.math.factorial(k)"
   ]
  },
  {
   "cell_type": "markdown",
   "metadata": {},
   "source": [
    "## Урок 2. Дискретные случайные величины. Закон распределения вероятностей. Биномиальный закон распределения. Распределение Пуассона.\n",
    "\n",
    "**1. Контрольная работа состоит из пяти вопросов. На каждый вопрос приведено четыре варианта ответа, один из которых правильный. Составьте закон распределения числа правильных ответов при простом угадывании. Найдите M(X), D(X).**\n",
    "\n",
    "Биномиальный закон распределения: \n",
    "$$P(X = k) = C_n^k p^k (1 - p)^{n - k}$$\n",
    "\n",
    "Здесь событие $A$ - *на вопрос был дан правильный ответ*; $n = 5$ - общее число опытов (пять вопросов); $X$ - число наступления события $A$ в $n$ опытах (число правильных ответов на пять вопросов); $p = \\frac{1}{4}$ - вероятность наступления события $A$ в каждом опыте.\n",
    "\n",
    "Посчитаем вероятность каждого исхода:\n",
    "$$P(X = 0) = C_5^0 \\cdot {1\\over4}^0 \\cdot {3\\over4}^5 = 1 \\cdot {1\\over4}^0 \\cdot {3\\over4}^5 = {243\\over1024}$$\n",
    "$$P(X = 1) = C_5^1 \\cdot {1\\over4}^1 \\cdot {3\\over4}^4 = 5 \\cdot {1\\over4}^1 \\cdot {3\\over4}^4 = {405\\over1024}$$\n",
    "$$P(X = 2) = C_5^2 \\cdot {1\\over4}^2 \\cdot {3\\over4}^3 = 10 \\cdot {1\\over4}^2 \\cdot {3\\over4}^3 = {270\\over1024}$$\n",
    "$$P(X = 3) = C_5^3 \\cdot {1\\over4}^3 \\cdot {3\\over4}^2 = 10 \\cdot {1\\over4}^3 \\cdot {3\\over4}^2 = {90\\over1024}$$\n",
    "$$P(X = 4) = C_5^4 \\cdot {1\\over4}^4 \\cdot {3\\over4}^1 = 5 \\cdot {1\\over4}^4 \\cdot {3\\over4}^1 = {15\\over1024}$$\n",
    "$$P(X = 5) = C_5^5 \\cdot {1\\over4}^5 \\cdot {3\\over4}^0 = 1 \\cdot {1\\over4}^5 \\cdot {3\\over4}^0 = {1\\over1024}$$\n",
    "\n",
    "Закон распределения случайной величины:\n",
    "\n",
    "<table border=\"3\">\n",
    "    <tr>\n",
    "        <th>$x$</th>\n",
    "        <td>0</td>\n",
    "        <td>1</td>\n",
    "        <td>2</td>\n",
    "        <td>3</td>\n",
    "        <td>4</td>\n",
    "        <td>5</td>\n",
    "    </tr>\n",
    "    <tr>\n",
    "        <th>$P(X = x)$</th>\n",
    "        <td>$\\frac{32}{1024}$</td>\n",
    "        <td>$\\frac{405}{1024}$</td>\n",
    "        <td>$\\frac{270}{1024}$</td>\n",
    "        <td>$\\frac{90}{1024}$</td>\n",
    "        <td>$\\frac{15}{1024}$</td>\n",
    "        <td>$\\frac{1}{1024}$</td>\n",
    "    </tr>\n",
    "</table>\n",
    "\n",
    "\n",
    "\n",
    "Математическое ожидание:\n",
    "$$M(X) = np = 5\\cdot{1\\over4} = 1.25$$\n",
    "\n",
    "Дисперсия:\n",
    "$$D(X) = np(1 - p) = 5\\cdot{1\\over4}\\cdot{3\\over4} = 0.9375$$\n"
   ]
  },
  {
   "cell_type": "markdown",
   "metadata": {},
   "source": [
    "**2. Пользователь получает в среднем 10 писем со спамом на свой почтовый ящик за сутки. Найти число N, такое, что с вероятностью 0.95 пользователь получит не более N писем со спамом за текущий день.**\n",
    "\n",
    "Задача на распределение Пуассона с параметром $\\lambda = 10$. Нужно найти такое минимальное $N$, при котором $\\displaystyle\\sum_{k = 0}^{N} P(X = k) \\geq 0.95$. Решим задачу на питоне."
   ]
  },
  {
   "cell_type": "code",
   "execution_count": 41,
   "metadata": {},
   "outputs": [
    {
     "name": "stdout",
     "output_type": "stream",
     "text": "15\n"
    }
   ],
   "source": [
    "l = 10\n",
    "k = 0\n",
    "sum_p = 0\n",
    "while sum_p < 0.95:\n",
    "    sum_p += poisson(k, l)\n",
    "    k += 1\n",
    "\n",
    "N = k - 1\n",
    "print(N)"
   ]
  },
  {
   "cell_type": "code",
   "execution_count": 42,
   "metadata": {},
   "outputs": [
    {
     "data": {
      "text/plain": "0.9512595966960214"
     },
     "execution_count": 42,
     "metadata": {},
     "output_type": "execute_result"
    }
   ],
   "source": [
    "# проверка\n",
    "sum(poisson(i, l) for i in range(16)) "
   ]
  },
  {
   "cell_type": "markdown",
   "metadata": {},
   "source": [
    "Посчитаем квантиль порядка 0,95 с помощью готовой функции."
   ]
  },
  {
   "cell_type": "code",
   "execution_count": 43,
   "metadata": {},
   "outputs": [],
   "source": [
    "from scipy import stats"
   ]
  },
  {
   "cell_type": "code",
   "execution_count": 44,
   "metadata": {},
   "outputs": [
    {
     "data": {
      "text/plain": "15.0"
     },
     "execution_count": 44,
     "metadata": {},
     "output_type": "execute_result"
    }
   ],
   "source": [
    "stats.poisson.ppf(0.95, 10)"
   ]
  },
  {
   "cell_type": "markdown",
   "metadata": {},
   "source": [
    "Ответы совпадают."
   ]
  },
  {
   "cell_type": "markdown",
   "metadata": {},
   "source": [
    "**Ответ: $N = 15$**"
   ]
  },
  {
   "cell_type": "markdown",
   "metadata": {},
   "source": [
    "**3. Производятся выстрелы по мишени. Вероятность попадания в мишень при одном выстреле равна 0.01. Сколько выстрелов нужно сделать чтобы быть уверенным с вероятностью 0.9, что хотя бы 6 раз будет совершено попадание?**\n",
    "\n",
    "***Подсказка. Здесь предстоит немножко покодить.***\n",
    "\n",
    "Вероятность попасть в мишень $K$ раз за $N$ выстрелов определяется формулой\n",
    "$$\\displaystyle\\sum_{k = K}^{N} C_N^k \\cdot p^k \\cdot (1-p)^{N-k}$$\n",
    "\n",
    "Для нашей задачи $K=6$, $p=0.01$. Для ответа на вопрос, достаточно определить минимальное $N$, при котором\n",
    "$$\\displaystyle\\sum_{k = 0}^{K-1} C_N^k \\cdot p^k \\cdot (1-p)^{N-k} \\leq 0.1$$\n",
    "\n",
    "\n",
    "Определим функцию `sum_comb(K, N, p)`, которая считает эту сумму и методом перебора найдём $N$."
   ]
  },
  {
   "cell_type": "code",
   "execution_count": 45,
   "metadata": {},
   "outputs": [],
   "source": [
    "\"\"\"сумма вероятностеей попасть в мишень от 0 до K не включительно при N выстрелах с вероятностью попасть при одном выстреле p\"\"\"\n",
    "def sum_comb(K: int, N: int, p: float) -> float:\n",
    "    return sum(comb(N, k) * (p**k) * ((1-p)**(N-k)) for k in range(K))"
   ]
  },
  {
   "cell_type": "code",
   "execution_count": 46,
   "metadata": {},
   "outputs": [
    {
     "name": "stdout",
     "output_type": "stream",
     "text": "926\n"
    }
   ],
   "source": [
    "N = 0\n",
    "while True:\n",
    "    if (sum_comb(6, N, 0.01) <= 0.1): break\n",
    "    N += 1\n",
    "print(N)"
   ]
  },
  {
   "cell_type": "markdown",
   "metadata": {},
   "source": [
    "**Ответ: $N = 926$**"
   ]
  },
  {
   "cell_type": "code",
   "execution_count": null,
   "metadata": {},
   "outputs": [],
   "source": []
  }
 ],
 "metadata": {
  "file_extension": ".py",
  "kernelspec": {
   "display_name": "Python 3",
   "language": "python",
   "name": "python3"
  },
  "language_info": {
   "codemirror_mode": {
    "name": "ipython",
    "version": 3
   },
   "file_extension": ".py",
   "mimetype": "text/x-python",
   "name": "python",
   "nbconvert_exporter": "python",
   "pygments_lexer": "ipython3",
   "version": "3.7.6-final"
  },
  "mimetype": "text/x-python",
  "name": "python",
  "npconvert_exporter": "python",
  "pygments_lexer": "ipython3",
  "version": 3
 },
 "nbformat": 4,
 "nbformat_minor": 2
}