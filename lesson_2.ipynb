{
 "cells": [
  {
   "cell_type": "code",
   "execution_count": 64,
   "metadata": {},
   "outputs": [],
   "source": [
    "import numpy as np"
   ]
  },
  {
   "cell_type": "code",
   "execution_count": 65,
   "metadata": {},
   "outputs": [],
   "source": [
    "\"\"\"число сочетаний из n по k\"\"\"\n",
    "comb = lambda n, k: 0 if k > n else np.math.factorial(n) // (np.math.factorial(k) * np.math.factorial(n-k))\n",
    "\n",
    "\"\"\"формула Пуассона\"\"\"\n",
    "poisson = lambda k, l: (l ** k) * (np.exp(-l)) / np.math.factorial(k)"
   ]
  },
  {
   "cell_type": "markdown",
   "metadata": {},
   "source": [
    "## Урок 2. Дискретные случайные величины. Закон распределения вероятностей. Биномиальный закон распределения. Распределение Пуассона.\n",
    "\n",
    "**1. Контрольная работа состоит из пяти вопросов. На каждый вопрос приведено четыре варианта ответа, один из которых правильный. Составьте закон распределения числа правильных ответов при простом угадывании. Найдите M(X), D(X).**\n",
    "\n",
    "Биномиальный закон распределения: \n",
    "$$P(X = k) = C_n^k p^k (1 - p)^{n - k}$$\n",
    "\n",
    "Здесь событие $A$ - *на вопрос был дан правильный ответ*; $n = 5$ - общее число опытов (пять вопросов); $X$ - число наступления события $A$ в $n$ опытах (число правильных ответов на пять вопросов); $p = \\frac{1}{4}$ - вероятность наступления события $A$ в каждом опыте.\n",
    "\n",
    "Посчитаем вероятность каждого исхода:\n",
    "$$P(X = 0) = C_5^0 \\cdot {1\\over4}^0 \\cdot {3\\over4}^5 = 1 \\cdot {1\\over4}^0 \\cdot {3\\over4}^5 = {32\\over1024}$$\n",
    "$$P(X = 1) = C_5^1 \\cdot {1\\over4}^1 \\cdot {3\\over4}^4 = 5 \\cdot {1\\over4}^1 \\cdot {3\\over4}^4 = {405\\over1024}$$\n",
    "$$P(X = 2) = C_5^2 \\cdot {1\\over4}^2 \\cdot {3\\over4}^3 = 10 \\cdot {1\\over4}^2 \\cdot {3\\over4}^3 = {270\\over1024}$$\n",
    "$$P(X = 3) = C_5^3 \\cdot {1\\over4}^3 \\cdot {3\\over4}^2 = 10 \\cdot {1\\over4}^3 \\cdot {3\\over4}^2 = {90\\over1024}$$\n",
    "$$P(X = 4) = C_5^4 \\cdot {1\\over4}^4 \\cdot {3\\over4}^1 = 5 \\cdot {1\\over4}^4 \\cdot {3\\over4}^1 = {15\\over1024}$$\n",
    "$$P(X = 5) = C_5^5 \\cdot {1\\over4}^5 \\cdot {3\\over4}^0 = 1 \\cdot {1\\over4}^5 \\cdot {3\\over4}^0 = {1\\over1024}$$\n",
    "\n",
    "Закон распределения случайной величины:\n",
    "\n",
    "<table border=\"3\">\n",
    "    <tr>\n",
    "        <th>$x$</th>\n",
    "        <td>0</td>\n",
    "        <td>1</td>\n",
    "        <td>2</td>\n",
    "        <td>3</td>\n",
    "        <td>4</td>\n",
    "        <td>5</td>\n",
    "    </tr>\n",
    "    <tr>\n",
    "        <th>$P(X = x)$</th>\n",
    "        <td>$\\frac{32}{1024}$</td>\n",
    "        <td>$\\frac{405}{1024}$</td>\n",
    "        <td>$\\frac{270}{1024}$</td>\n",
    "        <td>$\\frac{90}{1024}$</td>\n",
    "        <td>$\\frac{15}{1024}$</td>\n",
    "        <td>$\\frac{1}{1024}$</td>\n",
    "    </tr>\n",
    "</table>\n",
    "\n",
    "\n",
    "\n",
    "Математическое ожидание:\n",
    "$$M(X) = np = 5\\cdot{1\\over4} = 1.25$$\n",
    "\n",
    "Дисперсия:\n",
    "$$D(X) = np(1 - p) = 5\\cdot{1\\over4}\\cdot{3\\over4} = 0.9375$$\n"
   ]
  },
  {
   "cell_type": "markdown",
   "metadata": {},
   "source": [
    "**2. Пользователь получает в среднем 10 писем со спамом на свой почтовый ящик за сутки. Найти число N, такое, что с вероятностью 0.95 пользователь получит не более N писем со спамом за текущий день.**\n",
    "\n",
    "Задача на распределение Пуассона с параметром $\\lambda = 10$. Нужно найти такое минимальное $N$, при котором $\\displaystyle\\sum_{k = 0}^{N} P(X = k) \\geq 0.95$. Решим задачу на питоне."
   ]
  },
  {
   "cell_type": "code",
   "execution_count": 23,
   "metadata": {},
   "outputs": [
    {
     "name": "stdout",
     "output_type": "stream",
     "text": [
      "15\n"
     ]
    }
   ],
   "source": [
    "l = 10\n",
    "k = 0\n",
    "sum_p = 0\n",
    "while sum_p < 0.95:\n",
    "    sum_p += poisson(k, l)\n",
    "    k += 1\n",
    "\n",
    "N = k - 1\n",
    "print(N)"
   ]
  },
  {
   "cell_type": "code",
   "execution_count": 26,
   "metadata": {},
   "outputs": [
    {
     "data": {
      "text/plain": [
       "0.9512595966960214"
      ]
     },
     "execution_count": 26,
     "metadata": {},
     "output_type": "execute_result"
    }
   ],
   "source": [
    "# проверка\n",
    "sum(poisson(i, l) for i in range(16)) "
   ]
  },
  {
   "cell_type": "markdown",
   "metadata": {},
   "source": [
    "**Ответ: $N = 15$**"
   ]
  },
  {
   "cell_type": "markdown",
   "metadata": {},
   "source": [
    "**3. Производятся выстрелы по мишени. Вероятность попадания в мишень при одном выстреле равна 0.01. Сколько выстрелов нужно сделать чтобы быть уверенным с вероятностью 0.9, что хотя бы 6 раз будет совершено попадание?**\n",
    "\n",
    "***Подсказка. Здесь предстоит немножко покодить.***\n",
    "\n",
    "За единичный интервал возьмём $N$ выстрелов. В среднем за $N$ выстрелов произойдёт $\\lambda = p \\cdot N$ попаданий, где $p = 0.01$ - вероятность попасть в мишень при одном выстреле. Тогда вероятность попасть в мишень $k$ раз за $N$ выстрелов будет описываться формулой Пуассона:\n",
    "$$P(X = k) = \\frac{(p \\cdot N)^k \\cdot e^{-pN}}{k!}$$\n",
    "Требуется найти минимальное $N$ при каком будет выполняться неравенство\n",
    "$$P(X \\geq 6) \\geq 0.9$$\n",
    "Это равносильно неравенству\n",
    "$$\\displaystyle\\sum_{k = 0}^{5} P(X = k) \\leq 0.1$$\n",
    "Решим задачу на питоне."
   ]
  },
  {
   "cell_type": "code",
   "execution_count": 40,
   "metadata": {},
   "outputs": [],
   "source": [
    "\"\"\"Преобразованная формула Пуассона для l = pN\"\"\"\n",
    "poisson_ = lambda k, N: poisson(k, 0.01 * N)\n",
    "\n",
    "\"\"\"Сумма вероятностей событий \"Попали k раз\" при k от 0 до 5\"\"\"\n",
    "sum_poisson = lambda N: sum(poisson_(i, N) for i in range(6))"
   ]
  },
  {
   "cell_type": "code",
   "execution_count": 63,
   "metadata": {},
   "outputs": [
    {
     "name": "stdout",
     "output_type": "stream",
     "text": [
      "928\n"
     ]
    }
   ],
   "source": [
    "N = 0\n",
    "while True:\n",
    "    if (sum_poisson(N) <= 0.1): break\n",
    "    N += 1\n",
    "print(N)"
   ]
  },
  {
   "cell_type": "markdown",
   "metadata": {},
   "source": [
    "**Ответ: $N = 928$**"
   ]
  }
 ],
 "metadata": {
  "file_extension": ".py",
  "kernelspec": {
   "display_name": "Python 3",
   "language": "python",
   "name": "python3"
  },
  "language_info": {
   "codemirror_mode": {
    "name": "ipython",
    "version": 3
   },
   "file_extension": ".py",
   "mimetype": "text/x-python",
   "name": "python",
   "nbconvert_exporter": "python",
   "pygments_lexer": "ipython3",
   "version": "3.7.6"
  },
  "mimetype": "text/x-python",
  "name": "python",
  "npconvert_exporter": "python",
  "pygments_lexer": "ipython3",
  "version": 3
 },
 "nbformat": 4,
 "nbformat_minor": 2
}
