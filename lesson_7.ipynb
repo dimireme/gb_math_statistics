{
 "cells": [
  {
   "cell_type": "code",
   "execution_count": 1,
   "metadata": {},
   "outputs": [],
   "source": [
    "from scipy import stats\n",
    "import numpy as np\n",
    "import pandas as pd\n",
    "from matplotlib import pyplot as plt\n",
    "from itertools import combinations"
   ]
  },
  {
   "cell_type": "markdown",
   "metadata": {},
   "source": [
    "## Урок 7. Линейная регрессия. Однофакторный дисперсионный анализ.\n",
    "\n",
    "**1. Даны значения величины заработной платы заемщиков банка (salary) и значения их поведенческого кредитного скоринга (scoring):**\n",
    "\n",
    "```\n",
    "salary = [35, 45, 190, 200, 40, 70, 54, 150, 120, 110]\n",
    "scoring = [401, 574, 874, 919, 459, 739, 653, 902, 746, 832]\n",
    "```\n",
    "\n",
    "**Возьмём в качестве признака значение salary, а в качестве целевой переменной - scoring.**\n",
    "\n",
    "**1.1 Найдите коэффициенты линейной регрессии с помощью формул для парной регрессии, а затем с помощью метода наименьших квадратов.**\n",
    "\n",
    "**1.2 Постройте scatter plot по данным и отметьте на нём прямую линейной регрессии, полученную в п. 1.**\n",
    "\n",
    "**1.3 Посчитайте коэффициент детерминации, среднюю ошибку аппроксимации.**\n",
    "\n",
    "**1.4 Оцените построенное уравнение регрессии с помощью F-критерия Фишера.**\n",
    "\n",
    "**1.5 Постройте для коэффициентов регрессии доверительные интервалы с помощью t-статистики Стьюдента.**\n"
   ]
  },
  {
   "cell_type": "code",
   "execution_count": 2,
   "metadata": {},
   "outputs": [],
   "source": [
    "salary = np.array([35, 45, 190, 200, 40, 70, 54, 150, 120, 110])\n",
    "scoring = np.array([401, 574, 874, 919, 459, 739, 653, 902, 746, 832])"
   ]
  },
  {
   "cell_type": "markdown",
   "metadata": {},
   "source": [
    "1.1 Модель по формулам парной регрессии и методу наименьших квадратов.\n",
    "\n",
    "При рассчете по коэффициентам парной регрессии $b_1 = \\frac{\\sigma_{XY}}{\\sigma^2_X}$, $b_0 = \\overline{Y} - b_1 \\cdot \\overline{X}$."
   ]
  },
  {
   "cell_type": "code",
   "execution_count": 3,
   "metadata": {},
   "outputs": [
    {
     "data": {
      "text/plain": "(444.1773573243596, 2.620538882402765)"
     },
     "execution_count": 3,
     "metadata": {},
     "output_type": "execute_result"
    }
   ],
   "source": [
    "cov_matrix = np.cov(salary, scoring, ddof=1)\n",
    "b1 = cov_matrix[0,1]/cov_matrix[0,0]\n",
    "b0 = scoring.mean() - b1*salary.mean()\n",
    "\n",
    "b0, b1"
   ]
  },
  {
   "cell_type": "markdown",
   "metadata": {},
   "source": [
    "Модель линейной регрессии имеет вид $y = 444.18 + 2.62 \\cdot x$.\n",
    "\n",
    "При рассчете по методу наименьших квадратов $b = (X^TX)^{-1}X^Ty$. Здесь $b$ - вектор коэффициентов при признаках, $b = (b_0, b_1)$. Дополним матрицу признаков `salary` единичным столбцом, получим матрицу $X$."
   ]
  },
  {
   "cell_type": "code",
   "execution_count": 4,
   "metadata": {},
   "outputs": [
    {
     "data": {
      "text/plain": "array([[  1.,  35.],\n       [  1.,  45.],\n       [  1., 190.],\n       [  1., 200.],\n       [  1.,  40.],\n       [  1.,  70.],\n       [  1.,  54.],\n       [  1., 150.],\n       [  1., 120.],\n       [  1., 110.]])"
     },
     "execution_count": 4,
     "metadata": {},
     "output_type": "execute_result"
    }
   ],
   "source": [
    "X = np.hstack((\n",
    "    np.ones((salary.size, 1)),\n",
    "    salary.reshape(-1, 1)\n",
    "))\n",
    "X"
   ]
  },
  {
   "cell_type": "markdown",
   "metadata": {},
   "source": [
    " Посчитаем определитель матрицы $X^TX$."
   ]
  },
  {
   "cell_type": "code",
   "execution_count": 5,
   "metadata": {},
   "outputs": [
    {
     "data": {
      "text/plain": "349464.00000000023"
     },
     "execution_count": 5,
     "metadata": {},
     "output_type": "execute_result"
    }
   ],
   "source": [
    "np.linalg.det(X.T.dot(X))"
   ]
  },
  {
   "cell_type": "markdown",
   "metadata": {},
   "source": [
    "Определитель матрицы $X^TX$ не близок к нулю, следовательно можно использовать аналитические формулы метода наименьших квадратов."
   ]
  },
  {
   "cell_type": "code",
   "execution_count": 6,
   "metadata": {},
   "outputs": [
    {
     "data": {
      "text/plain": "array([444.17735732,   2.62053888])"
     },
     "execution_count": 6,
     "metadata": {},
     "output_type": "execute_result"
    }
   ],
   "source": [
    "b = np.linalg.inv(X.T.dot(X)).dot(X.T).dot(scoring)\n",
    "b"
   ]
  },
  {
   "cell_type": "markdown",
   "metadata": {},
   "source": [
    "Получили такой же результат, как и при расчете по формулам парной регрессии. Уравнение модели: $y = 444.18 + 2.62 \\cdot x$."
   ]
  },
  {
   "cell_type": "code",
   "execution_count": 7,
   "metadata": {},
   "outputs": [
    {
     "data": {
      "text/plain": "array([535.89621821, 562.10160703, 942.07974498, 968.2851338 ,\n       548.99891262, 627.61507909, 585.68645697, 837.25818968,\n       758.64202321, 732.43663439])"
     },
     "execution_count": 7,
     "metadata": {},
     "output_type": "execute_result"
    }
   ],
   "source": [
    "scoring_predict = X.dot(b)\n",
    "scoring_predict"
   ]
  },
  {
   "cell_type": "code",
   "execution_count": 8,
   "metadata": {},
   "outputs": [
    {
     "data": {
      "text/plain": "array([[535.89621821, 401.        ],\n       [562.10160703, 574.        ],\n       [942.07974498, 874.        ],\n       [968.2851338 , 919.        ],\n       [548.99891262, 459.        ],\n       [627.61507909, 739.        ],\n       [585.68645697, 653.        ],\n       [837.25818968, 902.        ],\n       [758.64202321, 746.        ],\n       [732.43663439, 832.        ]])"
     },
     "execution_count": 8,
     "metadata": {},
     "output_type": "execute_result"
    }
   ],
   "source": [
    "np.hstack((\n",
    "    scoring_predict.reshape(-1, 1),\n",
    "    scoring.reshape(-1, 1)\n",
    "))"
   ]
  },
  {
   "cell_type": "markdown",
   "metadata": {},
   "source": [
    "1.2 Графическое представление выборки и модели линейной регрессии."
   ]
  },
  {
   "cell_type": "code",
   "execution_count": 9,
   "metadata": {},
   "outputs": [
    {
     "data": {
      "image/png": "[encoded data removed]",
      "image/svg+xml": "<?xml version=\"1.0\" encoding=\"utf-8\" standalone=\"no\"?>\n<!DOCTYPE svg PUBLIC \"-//W3C//DTD SVG 1.1//EN\"\n  \"http://www.w3.org/Graphics/SVG/1.1/DTD/svg11.dtd\">\n<!-- Created with matplotlib (https://matplotlib.org/) -->\n<svg height=\"248.518125pt\" version=\"1.1\" viewBox=\"0 0 375.2875 248.518125\" width=\"375.2875pt\" xmlns=\"http://www.w3.org/2000/svg\" xmlns:xlink=\"http://www.w3.org/1999/xlink\">\n <defs>\n  <style type=\"text/css\">\n*{stroke-linecap:butt;stroke-linejoin:round;}\n  </style>\n </defs>\n <g id=\"figure_1\">\n  <g id=\"patch_1\">\n   <path d=\"M 0 248.518125 \nL 375.2875 248.518125 \nL 375.2875 0 \nL 0 0 \nz\n\" style=\"fill:none;\"/>\n  </g>\n  <g id=\"axes_1\">\n   <g id=\"patch_2\">\n    <path d=\"M 33.2875 224.64 \nL 368.0875 224.64 \nL 368.0875 7.2 \nL 33.2875 7.2 \nz\n\" style=\"fill:#ffffff;\"/>\n   </g>\n   <g id=\"PathCollection_1\">\n    <defs>\n     <path d=\"M 0 3 \nC 0.795609 3 1.55874 2.683901 2.12132 2.12132 \nC 2.683901 1.55874 3 0.795609 3 0 \nC 3 -0.795609 2.683901 -1.55874 2.12132 -2.12132 \nC 1.55874 -2.683901 0.795609 -3 0 -3 \nC -0.795609 -3 -1.55874 -2.683901 -2.12132 -2.12132 \nC -2.683901 -1.55874 -3 -0.795609 -3 0 \nC -3 0.795609 -2.683901 1.55874 -2.12132 2.12132 \nC -1.55874 2.683901 -0.795609 3 0 3 \nz\n\" id=\"mbc0396b1b6\" style=\"stroke:#1f77b4;\"/>\n    </defs>\n    <g clip-path=\"url(#pc169ae4815)\">\n     <use style=\"fill:#1f77b4;stroke:#1f77b4;\" x=\"48.522209\" xlink:href=\"#mbc0396b1b6\" y=\"214.751556\"/>\n     <use style=\"fill:#1f77b4;stroke:#1f77b4;\" x=\"66.966487\" xlink:href=\"#mbc0396b1b6\" y=\"154.470495\"/>\n     <use style=\"fill:#1f77b4;stroke:#1f77b4;\" x=\"334.408513\" xlink:href=\"#mbc0396b1b6\" y=\"49.936862\"/>\n     <use style=\"fill:#1f77b4;stroke:#1f77b4;\" x=\"352.852791\" xlink:href=\"#mbc0396b1b6\" y=\"34.256817\"/>\n     <use style=\"fill:#1f77b4;stroke:#1f77b4;\" x=\"57.744348\" xlink:href=\"#mbc0396b1b6\" y=\"194.54172\"/>\n     <use style=\"fill:#1f77b4;stroke:#1f77b4;\" x=\"113.077181\" xlink:href=\"#mbc0396b1b6\" y=\"96.976996\"/>\n     <use style=\"fill:#1f77b4;stroke:#1f77b4;\" x=\"83.566337\" xlink:href=\"#mbc0396b1b6\" y=\"126.943305\"/>\n     <use style=\"fill:#1f77b4;stroke:#1f77b4;\" x=\"260.631403\" xlink:href=\"#mbc0396b1b6\" y=\"40.180389\"/>\n     <use style=\"fill:#1f77b4;stroke:#1f77b4;\" x=\"205.298569\" xlink:href=\"#mbc0396b1b6\" y=\"94.537878\"/>\n     <use style=\"fill:#1f77b4;stroke:#1f77b4;\" x=\"186.854292\" xlink:href=\"#mbc0396b1b6\" y=\"64.57157\"/>\n    </g>\n   </g>\n   <g id=\"matplotlib.axis_1\">\n    <g id=\"xtick_1\">\n     <g id=\"line2d_1\">\n      <defs>\n       <path d=\"M 0 0 \nL 0 3.5 \n\" id=\"m3dfcb4ec59\" style=\"stroke:#000000;stroke-width:0.8;\"/>\n      </defs>\n      <g>\n       <use style=\"stroke:#000000;stroke-width:0.8;\" x=\"76.188626\" xlink:href=\"#m3dfcb4ec59\" y=\"224.64\"/>\n      </g>\n     </g>\n     <g id=\"text_1\">\n      <!-- 50 -->\n      <defs>\n       <path d=\"M 10.796875 72.90625 \nL 49.515625 72.90625 \nL 49.515625 64.59375 \nL 19.828125 64.59375 \nL 19.828125 46.734375 \nQ 21.96875 47.46875 24.109375 47.828125 \nQ 26.265625 48.1875 28.421875 48.1875 \nQ 40.625 48.1875 47.75 41.5 \nQ 54.890625 34.8125 54.890625 23.390625 \nQ 54.890625 11.625 47.5625 5.09375 \nQ 40.234375 -1.421875 26.90625 -1.421875 \nQ 22.3125 -1.421875 17.546875 -0.640625 \nQ 12.796875 0.140625 7.71875 1.703125 \nL 7.71875 11.625 \nQ 12.109375 9.234375 16.796875 8.0625 \nQ 21.484375 6.890625 26.703125 6.890625 \nQ 35.15625 6.890625 40.078125 11.328125 \nQ 45.015625 15.765625 45.015625 23.390625 \nQ 45.015625 31 40.078125 35.4375 \nQ 35.15625 39.890625 26.703125 39.890625 \nQ 22.75 39.890625 18.8125 39.015625 \nQ 14.890625 38.140625 10.796875 36.28125 \nz\n\" id=\"DejaVuSans-53\"/>\n       <path d=\"M 31.78125 66.40625 \nQ 24.171875 66.40625 20.328125 58.90625 \nQ 16.5 51.421875 16.5 36.375 \nQ 16.5 21.390625 20.328125 13.890625 \nQ 24.171875 6.390625 31.78125 6.390625 \nQ 39.453125 6.390625 43.28125 13.890625 \nQ 47.125 21.390625 47.125 36.375 \nQ 47.125 51.421875 43.28125 58.90625 \nQ 39.453125 66.40625 31.78125 66.40625 \nz\nM 31.78125 74.21875 \nQ 44.046875 74.21875 50.515625 64.515625 \nQ 56.984375 54.828125 56.984375 36.375 \nQ 56.984375 17.96875 50.515625 8.265625 \nQ 44.046875 -1.421875 31.78125 -1.421875 \nQ 19.53125 -1.421875 13.0625 8.265625 \nQ 6.59375 17.96875 6.59375 36.375 \nQ 6.59375 54.828125 13.0625 64.515625 \nQ 19.53125 74.21875 31.78125 74.21875 \nz\n\" id=\"DejaVuSans-48\"/>\n      </defs>\n      <g transform=\"translate(69.826126 239.238438)scale(0.1 -0.1)\">\n       <use xlink:href=\"#DejaVuSans-53\"/>\n       <use x=\"63.623047\" xlink:href=\"#DejaVuSans-48\"/>\n      </g>\n     </g>\n    </g>\n    <g id=\"xtick_2\">\n     <g id=\"line2d_2\">\n      <g>\n       <use style=\"stroke:#000000;stroke-width:0.8;\" x=\"122.29932\" xlink:href=\"#m3dfcb4ec59\" y=\"224.64\"/>\n      </g>\n     </g>\n     <g id=\"text_2\">\n      <!-- 75 -->\n      <defs>\n       <path d=\"M 8.203125 72.90625 \nL 55.078125 72.90625 \nL 55.078125 68.703125 \nL 28.609375 0 \nL 18.3125 0 \nL 43.21875 64.59375 \nL 8.203125 64.59375 \nz\n\" id=\"DejaVuSans-55\"/>\n      </defs>\n      <g transform=\"translate(115.93682 239.238438)scale(0.1 -0.1)\">\n       <use xlink:href=\"#DejaVuSans-55\"/>\n       <use x=\"63.623047\" xlink:href=\"#DejaVuSans-53\"/>\n      </g>\n     </g>\n    </g>\n    <g id=\"xtick_3\">\n     <g id=\"line2d_3\">\n      <g>\n       <use style=\"stroke:#000000;stroke-width:0.8;\" x=\"168.410014\" xlink:href=\"#m3dfcb4ec59\" y=\"224.64\"/>\n      </g>\n     </g>\n     <g id=\"text_3\">\n      <!-- 100 -->\n      <defs>\n       <path d=\"M 12.40625 8.296875 \nL 28.515625 8.296875 \nL 28.515625 63.921875 \nL 10.984375 60.40625 \nL 10.984375 69.390625 \nL 28.421875 72.90625 \nL 38.28125 72.90625 \nL 38.28125 8.296875 \nL 54.390625 8.296875 \nL 54.390625 0 \nL 12.40625 0 \nz\n\" id=\"DejaVuSans-49\"/>\n      </defs>\n      <g transform=\"translate(158.866264 239.238438)scale(0.1 -0.1)\">\n       <use xlink:href=\"#DejaVuSans-49\"/>\n       <use x=\"63.623047\" xlink:href=\"#DejaVuSans-48\"/>\n       <use x=\"127.246094\" xlink:href=\"#DejaVuSans-48\"/>\n      </g>\n     </g>\n    </g>\n    <g id=\"xtick_4\">\n     <g id=\"line2d_4\">\n      <g>\n       <use style=\"stroke:#000000;stroke-width:0.8;\" x=\"214.520708\" xlink:href=\"#m3dfcb4ec59\" y=\"224.64\"/>\n      </g>\n     </g>\n     <g id=\"text_4\">\n      <!-- 125 -->\n      <defs>\n       <path d=\"M 19.1875 8.296875 \nL 53.609375 8.296875 \nL 53.609375 0 \nL 7.328125 0 \nL 7.328125 8.296875 \nQ 12.9375 14.109375 22.625 23.890625 \nQ 32.328125 33.6875 34.8125 36.53125 \nQ 39.546875 41.84375 41.421875 45.53125 \nQ 43.3125 49.21875 43.3125 52.78125 \nQ 43.3125 58.59375 39.234375 62.25 \nQ 35.15625 65.921875 28.609375 65.921875 \nQ 23.96875 65.921875 18.8125 64.3125 \nQ 13.671875 62.703125 7.8125 59.421875 \nL 7.8125 69.390625 \nQ 13.765625 71.78125 18.9375 73 \nQ 24.125 74.21875 28.421875 74.21875 \nQ 39.75 74.21875 46.484375 68.546875 \nQ 53.21875 62.890625 53.21875 53.421875 \nQ 53.21875 48.921875 51.53125 44.890625 \nQ 49.859375 40.875 45.40625 35.40625 \nQ 44.1875 33.984375 37.640625 27.21875 \nQ 31.109375 20.453125 19.1875 8.296875 \nz\n\" id=\"DejaVuSans-50\"/>\n      </defs>\n      <g transform=\"translate(204.976958 239.238438)scale(0.1 -0.1)\">\n       <use xlink:href=\"#DejaVuSans-49\"/>\n       <use x=\"63.623047\" xlink:href=\"#DejaVuSans-50\"/>\n       <use x=\"127.246094\" xlink:href=\"#DejaVuSans-53\"/>\n      </g>\n     </g>\n    </g>\n    <g id=\"xtick_5\">\n     <g id=\"line2d_5\">\n      <g>\n       <use style=\"stroke:#000000;stroke-width:0.8;\" x=\"260.631403\" xlink:href=\"#m3dfcb4ec59\" y=\"224.64\"/>\n      </g>\n     </g>\n     <g id=\"text_5\">\n      <!-- 150 -->\n      <g transform=\"translate(251.087653 239.238438)scale(0.1 -0.1)\">\n       <use xlink:href=\"#DejaVuSans-49\"/>\n       <use x=\"63.623047\" xlink:href=\"#DejaVuSans-53\"/>\n       <use x=\"127.246094\" xlink:href=\"#DejaVuSans-48\"/>\n      </g>\n     </g>\n    </g>\n    <g id=\"xtick_6\">\n     <g id=\"line2d_6\">\n      <g>\n       <use style=\"stroke:#000000;stroke-width:0.8;\" x=\"306.742097\" xlink:href=\"#m3dfcb4ec59\" y=\"224.64\"/>\n      </g>\n     </g>\n     <g id=\"text_6\">\n      <!-- 175 -->\n      <g transform=\"translate(297.198347 239.238438)scale(0.1 -0.1)\">\n       <use xlink:href=\"#DejaVuSans-49\"/>\n       <use x=\"63.623047\" xlink:href=\"#DejaVuSans-55\"/>\n       <use x=\"127.246094\" xlink:href=\"#DejaVuSans-53\"/>\n      </g>\n     </g>\n    </g>\n    <g id=\"xtick_7\">\n     <g id=\"line2d_7\">\n      <g>\n       <use style=\"stroke:#000000;stroke-width:0.8;\" x=\"352.852791\" xlink:href=\"#m3dfcb4ec59\" y=\"224.64\"/>\n      </g>\n     </g>\n     <g id=\"text_7\">\n      <!-- 200 -->\n      <g transform=\"translate(343.309041 239.238438)scale(0.1 -0.1)\">\n       <use xlink:href=\"#DejaVuSans-50\"/>\n       <use x=\"63.623047\" xlink:href=\"#DejaVuSans-48\"/>\n       <use x=\"127.246094\" xlink:href=\"#DejaVuSans-48\"/>\n      </g>\n     </g>\n    </g>\n   </g>\n   <g id=\"matplotlib.axis_2\">\n    <g id=\"ytick_1\">\n     <g id=\"line2d_8\">\n      <defs>\n       <path d=\"M 0 0 \nL -3.5 0 \n\" id=\"m2dfde97cd9\" style=\"stroke:#000000;stroke-width:0.8;\"/>\n      </defs>\n      <g>\n       <use style=\"stroke:#000000;stroke-width:0.8;\" x=\"33.2875\" xlink:href=\"#m2dfde97cd9\" y=\"215.100002\"/>\n      </g>\n     </g>\n     <g id=\"text_8\">\n      <!-- 400 -->\n      <defs>\n       <path d=\"M 37.796875 64.3125 \nL 12.890625 25.390625 \nL 37.796875 25.390625 \nz\nM 35.203125 72.90625 \nL 47.609375 72.90625 \nL 47.609375 25.390625 \nL 58.015625 25.390625 \nL 58.015625 17.1875 \nL 47.609375 17.1875 \nL 47.609375 0 \nL 37.796875 0 \nL 37.796875 17.1875 \nL 4.890625 17.1875 \nL 4.890625 26.703125 \nz\n\" id=\"DejaVuSans-52\"/>\n      </defs>\n      <g transform=\"translate(7.2 218.89922)scale(0.1 -0.1)\">\n       <use xlink:href=\"#DejaVuSans-52\"/>\n       <use x=\"63.623047\" xlink:href=\"#DejaVuSans-48\"/>\n       <use x=\"127.246094\" xlink:href=\"#DejaVuSans-48\"/>\n      </g>\n     </g>\n    </g>\n    <g id=\"ytick_2\">\n     <g id=\"line2d_9\">\n      <g>\n       <use style=\"stroke:#000000;stroke-width:0.8;\" x=\"33.2875\" xlink:href=\"#m2dfde97cd9\" y=\"180.255457\"/>\n      </g>\n     </g>\n     <g id=\"text_9\">\n      <!-- 500 -->\n      <g transform=\"translate(7.2 184.054676)scale(0.1 -0.1)\">\n       <use xlink:href=\"#DejaVuSans-53\"/>\n       <use x=\"63.623047\" xlink:href=\"#DejaVuSans-48\"/>\n       <use x=\"127.246094\" xlink:href=\"#DejaVuSans-48\"/>\n      </g>\n     </g>\n    </g>\n    <g id=\"ytick_3\">\n     <g id=\"line2d_10\">\n      <g>\n       <use style=\"stroke:#000000;stroke-width:0.8;\" x=\"33.2875\" xlink:href=\"#m2dfde97cd9\" y=\"145.410913\"/>\n      </g>\n     </g>\n     <g id=\"text_10\">\n      <!-- 600 -->\n      <defs>\n       <path d=\"M 33.015625 40.375 \nQ 26.375 40.375 22.484375 35.828125 \nQ 18.609375 31.296875 18.609375 23.390625 \nQ 18.609375 15.53125 22.484375 10.953125 \nQ 26.375 6.390625 33.015625 6.390625 \nQ 39.65625 6.390625 43.53125 10.953125 \nQ 47.40625 15.53125 47.40625 23.390625 \nQ 47.40625 31.296875 43.53125 35.828125 \nQ 39.65625 40.375 33.015625 40.375 \nz\nM 52.59375 71.296875 \nL 52.59375 62.3125 \nQ 48.875 64.0625 45.09375 64.984375 \nQ 41.3125 65.921875 37.59375 65.921875 \nQ 27.828125 65.921875 22.671875 59.328125 \nQ 17.53125 52.734375 16.796875 39.40625 \nQ 19.671875 43.65625 24.015625 45.921875 \nQ 28.375 48.1875 33.59375 48.1875 \nQ 44.578125 48.1875 50.953125 41.515625 \nQ 57.328125 34.859375 57.328125 23.390625 \nQ 57.328125 12.15625 50.6875 5.359375 \nQ 44.046875 -1.421875 33.015625 -1.421875 \nQ 20.359375 -1.421875 13.671875 8.265625 \nQ 6.984375 17.96875 6.984375 36.375 \nQ 6.984375 53.65625 15.1875 63.9375 \nQ 23.390625 74.21875 37.203125 74.21875 \nQ 40.921875 74.21875 44.703125 73.484375 \nQ 48.484375 72.75 52.59375 71.296875 \nz\n\" id=\"DejaVuSans-54\"/>\n      </defs>\n      <g transform=\"translate(7.2 149.210132)scale(0.1 -0.1)\">\n       <use xlink:href=\"#DejaVuSans-54\"/>\n       <use x=\"63.623047\" xlink:href=\"#DejaVuSans-48\"/>\n       <use x=\"127.246094\" xlink:href=\"#DejaVuSans-48\"/>\n      </g>\n     </g>\n    </g>\n    <g id=\"ytick_4\">\n     <g id=\"line2d_11\">\n      <g>\n       <use style=\"stroke:#000000;stroke-width:0.8;\" x=\"33.2875\" xlink:href=\"#m2dfde97cd9\" y=\"110.566369\"/>\n      </g>\n     </g>\n     <g id=\"text_11\">\n      <!-- 700 -->\n      <g transform=\"translate(7.2 114.365587)scale(0.1 -0.1)\">\n       <use xlink:href=\"#DejaVuSans-55\"/>\n       <use x=\"63.623047\" xlink:href=\"#DejaVuSans-48\"/>\n       <use x=\"127.246094\" xlink:href=\"#DejaVuSans-48\"/>\n      </g>\n     </g>\n    </g>\n    <g id=\"ytick_5\">\n     <g id=\"line2d_12\">\n      <g>\n       <use style=\"stroke:#000000;stroke-width:0.8;\" x=\"33.2875\" xlink:href=\"#m2dfde97cd9\" y=\"75.721824\"/>\n      </g>\n     </g>\n     <g id=\"text_12\">\n      <!-- 800 -->\n      <defs>\n       <path d=\"M 31.78125 34.625 \nQ 24.75 34.625 20.71875 30.859375 \nQ 16.703125 27.09375 16.703125 20.515625 \nQ 16.703125 13.921875 20.71875 10.15625 \nQ 24.75 6.390625 31.78125 6.390625 \nQ 38.8125 6.390625 42.859375 10.171875 \nQ 46.921875 13.96875 46.921875 20.515625 \nQ 46.921875 27.09375 42.890625 30.859375 \nQ 38.875 34.625 31.78125 34.625 \nz\nM 21.921875 38.8125 \nQ 15.578125 40.375 12.03125 44.71875 \nQ 8.5 49.078125 8.5 55.328125 \nQ 8.5 64.0625 14.71875 69.140625 \nQ 20.953125 74.21875 31.78125 74.21875 \nQ 42.671875 74.21875 48.875 69.140625 \nQ 55.078125 64.0625 55.078125 55.328125 \nQ 55.078125 49.078125 51.53125 44.71875 \nQ 48 40.375 41.703125 38.8125 \nQ 48.828125 37.15625 52.796875 32.3125 \nQ 56.78125 27.484375 56.78125 20.515625 \nQ 56.78125 9.90625 50.3125 4.234375 \nQ 43.84375 -1.421875 31.78125 -1.421875 \nQ 19.734375 -1.421875 13.25 4.234375 \nQ 6.78125 9.90625 6.78125 20.515625 \nQ 6.78125 27.484375 10.78125 32.3125 \nQ 14.796875 37.15625 21.921875 38.8125 \nz\nM 18.3125 54.390625 \nQ 18.3125 48.734375 21.84375 45.5625 \nQ 25.390625 42.390625 31.78125 42.390625 \nQ 38.140625 42.390625 41.71875 45.5625 \nQ 45.3125 48.734375 45.3125 54.390625 \nQ 45.3125 60.0625 41.71875 63.234375 \nQ 38.140625 66.40625 31.78125 66.40625 \nQ 25.390625 66.40625 21.84375 63.234375 \nQ 18.3125 60.0625 18.3125 54.390625 \nz\n\" id=\"DejaVuSans-56\"/>\n      </defs>\n      <g transform=\"translate(7.2 79.521043)scale(0.1 -0.1)\">\n       <use xlink:href=\"#DejaVuSans-56\"/>\n       <use x=\"63.623047\" xlink:href=\"#DejaVuSans-48\"/>\n       <use x=\"127.246094\" xlink:href=\"#DejaVuSans-48\"/>\n      </g>\n     </g>\n    </g>\n    <g id=\"ytick_6\">\n     <g id=\"line2d_13\">\n      <g>\n       <use style=\"stroke:#000000;stroke-width:0.8;\" x=\"33.2875\" xlink:href=\"#m2dfde97cd9\" y=\"40.87728\"/>\n      </g>\n     </g>\n     <g id=\"text_13\">\n      <!-- 900 -->\n      <defs>\n       <path d=\"M 10.984375 1.515625 \nL 10.984375 10.5 \nQ 14.703125 8.734375 18.5 7.8125 \nQ 22.3125 6.890625 25.984375 6.890625 \nQ 35.75 6.890625 40.890625 13.453125 \nQ 46.046875 20.015625 46.78125 33.40625 \nQ 43.953125 29.203125 39.59375 26.953125 \nQ 35.25 24.703125 29.984375 24.703125 \nQ 19.046875 24.703125 12.671875 31.3125 \nQ 6.296875 37.9375 6.296875 49.421875 \nQ 6.296875 60.640625 12.9375 67.421875 \nQ 19.578125 74.21875 30.609375 74.21875 \nQ 43.265625 74.21875 49.921875 64.515625 \nQ 56.59375 54.828125 56.59375 36.375 \nQ 56.59375 19.140625 48.40625 8.859375 \nQ 40.234375 -1.421875 26.421875 -1.421875 \nQ 22.703125 -1.421875 18.890625 -0.6875 \nQ 15.09375 0.046875 10.984375 1.515625 \nz\nM 30.609375 32.421875 \nQ 37.25 32.421875 41.125 36.953125 \nQ 45.015625 41.5 45.015625 49.421875 \nQ 45.015625 57.28125 41.125 61.84375 \nQ 37.25 66.40625 30.609375 66.40625 \nQ 23.96875 66.40625 20.09375 61.84375 \nQ 16.21875 57.28125 16.21875 49.421875 \nQ 16.21875 41.5 20.09375 36.953125 \nQ 23.96875 32.421875 30.609375 32.421875 \nz\n\" id=\"DejaVuSans-57\"/>\n      </defs>\n      <g transform=\"translate(7.2 44.676499)scale(0.1 -0.1)\">\n       <use xlink:href=\"#DejaVuSans-57\"/>\n       <use x=\"63.623047\" xlink:href=\"#DejaVuSans-48\"/>\n       <use x=\"127.246094\" xlink:href=\"#DejaVuSans-48\"/>\n      </g>\n     </g>\n    </g>\n   </g>\n   <g id=\"line2d_14\">\n    <path clip-path=\"url(#pc169ae4815)\" d=\"M 48.522209 167.747584 \nL 51.596255 166.225726 \nL 54.670302 164.703868 \nL 57.744348 163.182009 \nL 60.818394 161.660151 \nL 63.89244 160.138293 \nL 66.966487 158.616435 \nL 70.040533 157.094577 \nL 73.114579 155.572719 \nL 76.188626 154.050861 \nL 79.262672 152.529003 \nL 82.336718 151.007145 \nL 85.410764 149.485287 \nL 88.484811 147.963429 \nL 91.558857 146.441571 \nL 94.632903 144.919713 \nL 97.706949 143.397855 \nL 100.780996 141.875997 \nL 103.855042 140.354139 \nL 106.929088 138.832281 \nL 110.003135 137.310423 \nL 113.077181 135.788565 \nL 116.151227 134.266706 \nL 119.225273 132.744848 \nL 122.29932 131.22299 \nL 125.373366 129.701132 \nL 128.447412 128.179274 \nL 131.521459 126.657416 \nL 134.595505 125.135558 \nL 137.669551 123.6137 \nL 140.743597 122.091842 \nL 143.817644 120.569984 \nL 146.89169 119.048126 \nL 149.965736 117.526268 \nL 153.039783 116.00441 \nL 156.113829 114.482552 \nL 159.187875 112.960694 \nL 162.261921 111.438836 \nL 165.335968 109.916978 \nL 168.410014 108.39512 \nL 171.48406 106.873262 \nL 174.558107 105.351403 \nL 177.632153 103.829545 \nL 180.706199 102.307687 \nL 183.780245 100.785829 \nL 186.854292 99.263971 \nL 189.928338 97.742113 \nL 193.002384 96.220255 \nL 196.076431 94.698397 \nL 199.150477 93.176539 \nL 202.224523 91.654681 \nL 205.298569 90.132823 \nL 208.372616 88.610965 \nL 211.446662 87.089107 \nL 214.520708 85.567249 \nL 217.594755 84.045391 \nL 220.668801 82.523533 \nL 223.742847 81.001675 \nL 226.816893 79.479817 \nL 229.89094 77.957958 \nL 232.964986 76.4361 \nL 236.039032 74.914242 \nL 239.113079 73.392384 \nL 242.187125 71.870526 \nL 245.261171 70.348668 \nL 248.335217 68.82681 \nL 251.409264 67.304952 \nL 254.48331 65.783094 \nL 257.557356 64.261236 \nL 260.631403 62.739378 \nL 263.705449 61.21752 \nL 266.779495 59.695662 \nL 269.853541 58.173804 \nL 272.927588 56.651946 \nL 276.001634 55.130088 \nL 279.07568 53.60823 \nL 282.149727 52.086372 \nL 285.223773 50.564514 \nL 288.297819 49.042655 \nL 291.371865 47.520797 \nL 294.445912 45.998939 \nL 297.519958 44.477081 \nL 300.594004 42.955223 \nL 303.668051 41.433365 \nL 306.742097 39.911507 \nL 309.816143 38.389649 \nL 312.890189 36.867791 \nL 315.964236 35.345933 \nL 319.038282 33.824075 \nL 322.112328 32.302217 \nL 325.186374 30.780359 \nL 328.260421 29.258501 \nL 331.334467 27.736643 \nL 334.408513 26.214785 \nL 337.48256 24.692927 \nL 340.556606 23.171069 \nL 343.630652 21.649211 \nL 346.704698 20.127352 \nL 349.778745 18.605494 \nL 352.852791 17.083636 \n\" style=\"fill:none;stroke:#ff0000;stroke-linecap:square;stroke-opacity:0.5;stroke-width:1.5;\"/>\n   </g>\n   <g id=\"patch_3\">\n    <path d=\"M 33.2875 224.64 \nL 33.2875 7.2 \n\" style=\"fill:none;stroke:#000000;stroke-linecap:square;stroke-linejoin:miter;stroke-width:0.8;\"/>\n   </g>\n   <g id=\"patch_4\">\n    <path d=\"M 368.0875 224.64 \nL 368.0875 7.2 \n\" style=\"fill:none;stroke:#000000;stroke-linecap:square;stroke-linejoin:miter;stroke-width:0.8;\"/>\n   </g>\n   <g id=\"patch_5\">\n    <path d=\"M 33.2875 224.64 \nL 368.0875 224.64 \n\" style=\"fill:none;stroke:#000000;stroke-linecap:square;stroke-linejoin:miter;stroke-width:0.8;\"/>\n   </g>\n   <g id=\"patch_6\">\n    <path d=\"M 33.2875 7.2 \nL 368.0875 7.2 \n\" style=\"fill:none;stroke:#000000;stroke-linecap:square;stroke-linejoin:miter;stroke-width:0.8;\"/>\n   </g>\n  </g>\n </g>\n <defs>\n  <clipPath id=\"pc169ae4815\">\n   <rect height=\"217.44\" width=\"334.8\" x=\"33.2875\" y=\"7.2\"/>\n  </clipPath>\n </defs>\n</svg>\n",
      "text/plain": "<Figure size 432x288 with 1 Axes>"
     },
     "metadata": {
      "needs_background": "light"
     },
     "output_type": "display_data"
    }
   ],
   "source": [
    "x = np.linspace(salary.min(), salary.max(), 100)\n",
    "\n",
    "plt.scatter(salary, scoring)\n",
    "plt.plot(x, b0 + x*b1, color='red', alpha=0.5)\n",
    "plt.show()"
   ]
  },
  {
   "cell_type": "markdown",
   "metadata": {},
   "source": [
    "1.3 Коэффициент детерминации и средня ошибка аппроксимации.\n",
    "\n",
    "Кожффициент детерминации \n",
    "\n",
    "$$R^2 = 1 - \\frac{\\sigma^2_{res}}{\\sigma^2_y}$$"
   ]
  },
  {
   "cell_type": "code",
   "execution_count": 10,
   "metadata": {},
   "outputs": [
    {
     "data": {
      "text/plain": "0.7876386635293685"
     },
     "execution_count": 10,
     "metadata": {},
     "output_type": "execute_result"
    }
   ],
   "source": [
    "D_res = (scoring_predict - scoring).var(ddof=1)\n",
    "D_y = scoring.var(ddof=1)\n",
    "R2 = 1 - D_res/D_y\n",
    "R2"
   ]
  },
  {
   "cell_type": "code",
   "execution_count": 11,
   "metadata": {},
   "outputs": [
    {
     "data": {
      "text/plain": "0.7876386635293682"
     },
     "execution_count": 11,
     "metadata": {},
     "output_type": "execute_result"
    }
   ],
   "source": [
    "# проверка по коэффицентам корреляции Пирсона\n",
    "np.corrcoef(salary, scoring)[0, 1] ** 2"
   ]
  },
  {
   "cell_type": "markdown",
   "metadata": {},
   "source": [
    "78% зависимости объясняется построенной моделью."
   ]
  },
  {
   "cell_type": "markdown",
   "metadata": {},
   "source": [
    "Ошибка аппроксимации\n",
    "\n",
    "$$\\overline{A} = \\frac{1}{n} \\sum_{i=1}^{n} \\Bigl| \\frac{y_i - z_i}{y_i} \\Bigr|$$"
   ]
  },
  {
   "cell_type": "code",
   "execution_count": 12,
   "metadata": {},
   "outputs": [
    {
     "data": {
      "text/plain": "0.11469251843561712"
     },
     "execution_count": 12,
     "metadata": {},
     "output_type": "execute_result"
    }
   ],
   "source": [
    "A = np.abs(1 - scoring_predict/scoring).sum() / len(scoring)\n",
    "A"
   ]
  },
  {
   "cell_type": "markdown",
   "metadata": {},
   "source": [
    "Ошибка апроксимации достаточно низкая, так что мождно сказать что построенная модель точная."
   ]
  },
  {
   "cell_type": "markdown",
   "metadata": {},
   "source": [
    "1.4 Оценка уравнения модели с помощью F-критерия Фишера.\n",
    "\n",
    "$$F = \\dfrac{R^2 / k}{(1 - R^2) / (n - k - 1)} = \\dfrac{R^2 / k_1}{(1 - R^2) / k_2}$$\n",
    "\n",
    "Для нашей модели число факторов $k=1$, число наблюдений $n=10$. Значит $k_1=k=1$, $k_2=n-k-1=8$. Для уровня значимости $\\alpha = 0.05$ посчитаем значение $F_{crit} = F(1, 8)$."
   ]
  },
  {
   "cell_type": "code",
   "execution_count": 13,
   "metadata": {},
   "outputs": [
    {
     "data": {
      "text/plain": "(29.67164085966449, 5.317655071578714)"
     },
     "execution_count": 13,
     "metadata": {},
     "output_type": "execute_result"
    }
   ],
   "source": [
    "k1 = 1\n",
    "k2 = 8\n",
    "alpha = 0.05\n",
    "\n",
    "F = (R2/k1) / ((1-R2)/k2)\n",
    "F_crit = stats.f.ppf(1 - alpha, k1, k2)\n",
    "\n",
    "F, F_crit"
   ]
  },
  {
   "cell_type": "markdown",
   "metadata": {},
   "source": [
    "Значение статистики попадает в критическую область, значит гипотеза $H_0$ о том что фактические коэффициенты при факторах у модели равны нулю, отвергается. Построенная модель статистически значимая."
   ]
  },
  {
   "cell_type": "markdown",
   "metadata": {},
   "source": [
    "1.5 Доверительные интервалы для коэффициентов регрессии по t-статистике Стьюдента.\n",
    "\n",
    "Стандартная ошибка кожэффициента наклона:\n",
    "\n",
    "$$S_{slope} = \\sqrt{\\dfrac{\\frac{1}{n - 2} \\displaystyle\\sum_{i=1}^{n}(y_i - z_i)^2}{\\displaystyle\\sum_{i=1}^n (x_i - \\overline{x})^2}},$$\n",
    "\n",
    "\n",
    "\n",
    "Статистика $T = \\dfrac{\\hat{b}_1 - b_1}{S_{slope}}$ имеет распределение Стьюдента. Здесь $\\hat{b}_1$ это полученное значение коэффициента наклона. Для уровня доверия $p = 1 - \\alpha$ доверительный интервал:\n",
    "\n",
    "$$P \\left( \\hat{b}_1 - t_{1 - \\alpha/2, \\: n - 2} \\cdot S_{slope} \\leq b_1 \\leq \\hat{b}_1 + t_{1 - \\alpha/2, \\: n - 2} \\cdot S_{slope} \\right) = p$$\n"
   ]
  },
  {
   "cell_type": "code",
   "execution_count": 14,
   "metadata": {},
   "outputs": [],
   "source": [
    "# стандартная ошибка коэффициента наклона\n",
    "def standard_error_slope(\n",
    "        x: np.ndarray,\n",
    "        y: np.ndarray,\n",
    "        z: np.ndarray,\n",
    ") -> float:\n",
    "    n = len(x)\n",
    "    upper = ((y - z) ** 2).sum() / (n - 2)\n",
    "    lower = ((x - x.mean()) ** 2).sum()\n",
    "    \n",
    "    return np.sqrt(upper / lower)"
   ]
  },
  {
   "cell_type": "code",
   "execution_count": 15,
   "metadata": {},
   "outputs": [
    {
     "data": {
      "text/plain": "0.48108279568516016"
     },
     "execution_count": 15,
     "metadata": {},
     "output_type": "execute_result"
    }
   ],
   "source": [
    "s_slope = standard_error_slope(salary, scoring, scoring_predict)\n",
    "s_slope"
   ]
  },
  {
   "cell_type": "code",
   "execution_count": 16,
   "metadata": {},
   "outputs": [
    {
     "data": {
      "text/plain": "2.3060041350333704"
     },
     "execution_count": 16,
     "metadata": {},
     "output_type": "execute_result"
    }
   ],
   "source": [
    "alpha = 0.05\n",
    "\n",
    "t = stats.t.ppf(1 - alpha / 2, df=8)\n",
    "t"
   ]
  },
  {
   "cell_type": "code",
   "execution_count": 17,
   "metadata": {},
   "outputs": [
    {
     "data": {
      "text/plain": "(1.5111599662593715, 3.7299177985461585)"
     },
     "execution_count": 17,
     "metadata": {},
     "output_type": "execute_result"
    }
   ],
   "source": [
    "L = b1 - t * s_slope\n",
    "U = b1 + t * s_slope\n",
    "\n",
    "L, U"
   ]
  },
  {
   "cell_type": "markdown",
   "metadata": {},
   "source": [
    "Получили доверительный интервал для коэффициента наклона $P \\left(1.51 \\leq b_1 \\leq 3.73 \\right) = 0.95$."
   ]
  },
  {
   "cell_type": "markdown",
   "metadata": {},
   "source": [
    "Стандартная ошибка коэффициента сдвига:\n",
    "\n",
    "$$S_{intercept} = S_{slope} \\cdot \\sqrt{\\dfrac{1}{n} \\displaystyle\\sum_{i=1}^n x_i^2}.$$"
   ]
  },
  {
   "cell_type": "code",
   "execution_count": 18,
   "metadata": {},
   "outputs": [],
   "source": [
    "# стандартная ошибка коэффициента сдвига\n",
    "def standard_error_intercept(\n",
    "        x: np.ndarray,\n",
    "        y: np.ndarray,\n",
    "        z: np.ndarray,\n",
    ") -> float:\n",
    "    \n",
    "    return standard_error_slope(x, y, z) * np.sqrt((x ** 2).mean())"
   ]
  },
  {
   "cell_type": "code",
   "execution_count": 19,
   "metadata": {},
   "outputs": [
    {
     "data": {
      "text/plain": "56.466497550681545"
     },
     "execution_count": 19,
     "metadata": {},
     "output_type": "execute_result"
    }
   ],
   "source": [
    "s_intercept = standard_error_intercept(salary, scoring, scoring_predict)\n",
    "s_intercept"
   ]
  },
  {
   "cell_type": "code",
   "execution_count": 20,
   "metadata": {},
   "outputs": [
    {
     "data": {
      "text/plain": "(313.9653804816363, 574.3893341670829)"
     },
     "execution_count": 20,
     "metadata": {},
     "output_type": "execute_result"
    }
   ],
   "source": [
    "L = b0 - t * s_intercept\n",
    "U = b0 + t * s_intercept\n",
    "\n",
    "L, U"
   ]
  },
  {
   "cell_type": "markdown",
   "metadata": {},
   "source": [
    "Получили доверительный интервал для коэффициента наклона $P \\left(313.97 \\leq b_1 \\leq 574.39 \\right) = 0.95$."
   ]
  },
  {
   "cell_type": "markdown",
   "metadata": {},
   "source": [
    "**3. Квартет Энскомба — популярный в области анализа данных пример наборов данных, у которых практически совпадают все статистические свойства (средние, дисперсии, коэффициенты корреляции, регрессионные линии), однако, существенно отличаются графики. Данный пример призван показать, насколько важна визуализация данных. Датасет представляет собой 4 пары выборок:**\n",
    "\n",
    "```\n",
    "{\n",
    "    \"x1\": [10.0, 8.0, 13.0, 9.0, 11.0, 14.0, 6.0, 4.0, 12.0, 7.0, 5.0],\n",
    "    \"y1\": [8.04, 6.95, 7.58, 8.81, 8.33, 9.96, 7.24, 4.26, 10.84, 4.82, 5.68],\n",
    "    \"x2\": [10.0, 8.0, 13.0, 9.0, 11.0, 14.0, 6.0, 4.0, 12.0, 7.0, 5.0],\n",
    "    \"y2\": [9.14, 8.14, 8.74, 8.77, 9.26, 8.1, 6.13, 3.1, 9.13, 7.26, 4.74],\n",
    "    \"x3\": [10.0, 8.0, 13.0, 9.0, 11.0, 14.0, 6.0, 4.0, 12.0, 7.0, 5.0],\n",
    "    \"y3\": [7.46, 6.77, 12.74, 7.11, 7.81, 8.84, 6.08, 5.39, 8.15, 6.42, 5.73],\n",
    "    \"x4\": [8.0, 8.0, 8.0, 8.0, 8.0, 8.0, 8.0, 19.0, 8.0, 8.0, 8.0],\n",
    "    \"y4\": [6.58, 5.76, 7.71, 8.84, 8.47, 7.04, 5.25, 12.5, 5.56, 7.91, 6.89]\n",
    "}\n",
    "```\n",
    "\n",
    "\n",
    "**По каждой паре выборок посчитайте:**\n",
    "\n",
    "**3.1 выборочное среднее и дисперсию каждой выборки,**\n",
    "\n",
    "**3.2 коэффициент корреляции Пирсона и прямую линейной регрессии.**\n",
    "\n",
    "**3.3 Убедившись в том, что они практически не отличаются, постройте scatter plot по каждой паре выборок.**"
   ]
  },
  {
   "cell_type": "code",
   "execution_count": 21,
   "metadata": {},
   "outputs": [],
   "source": [
    "df = pd.DataFrame({\n",
    "    \"x1\": [10.0, 8.0, 13.0, 9.0, 11.0, 14.0, 6.0, 4.0, 12.0, 7.0, 5.0],\n",
    "    \"y1\": [8.04, 6.95, 7.58, 8.81, 8.33, 9.96, 7.24, 4.26, 10.84, 4.82, 5.68],\n",
    "    \"x2\": [10.0, 8.0, 13.0, 9.0, 11.0, 14.0, 6.0, 4.0, 12.0, 7.0, 5.0],\n",
    "    \"y2\": [9.14, 8.14, 8.74, 8.77, 9.26, 8.1, 6.13, 3.1, 9.13, 7.26, 4.74],\n",
    "    \"x3\": [10.0, 8.0, 13.0, 9.0, 11.0, 14.0, 6.0, 4.0, 12.0, 7.0, 5.0],\n",
    "    \"y3\": [7.46, 6.77, 12.74, 7.11, 7.81, 8.84, 6.08, 5.39, 8.15, 6.42, 5.73],\n",
    "    \"x4\": [8.0, 8.0, 8.0, 8.0, 8.0, 8.0, 8.0, 19.0, 8.0, 8.0, 8.0],\n",
    "    \"y4\": [6.58, 5.76, 7.71, 8.84, 8.47, 7.04, 5.25, 12.5, 5.56, 7.91, 6.89]\n",
    "})"
   ]
  },
  {
   "cell_type": "code",
   "execution_count": 22,
   "metadata": {},
   "outputs": [
    {
     "data": {
      "text/html": "<div>\n<style scoped>\n    .dataframe tbody tr th:only-of-type {\n        vertical-align: middle;\n    }\n\n    .dataframe tbody tr th {\n        vertical-align: top;\n    }\n\n    .dataframe thead th {\n        text-align: right;\n    }\n</style>\n<table border=\"1\" class=\"dataframe\">\n  <thead>\n    <tr style=\"text-align: right;\">\n      <th></th>\n      <th>x1</th>\n      <th>y1</th>\n      <th>x2</th>\n      <th>y2</th>\n      <th>x3</th>\n      <th>y3</th>\n      <th>x4</th>\n      <th>y4</th>\n    </tr>\n  </thead>\n  <tbody>\n    <tr>\n      <th>0</th>\n      <td>10.0</td>\n      <td>8.04</td>\n      <td>10.0</td>\n      <td>9.14</td>\n      <td>10.0</td>\n      <td>7.46</td>\n      <td>8.0</td>\n      <td>6.58</td>\n    </tr>\n    <tr>\n      <th>1</th>\n      <td>8.0</td>\n      <td>6.95</td>\n      <td>8.0</td>\n      <td>8.14</td>\n      <td>8.0</td>\n      <td>6.77</td>\n      <td>8.0</td>\n      <td>5.76</td>\n    </tr>\n    <tr>\n      <th>2</th>\n      <td>13.0</td>\n      <td>7.58</td>\n      <td>13.0</td>\n      <td>8.74</td>\n      <td>13.0</td>\n      <td>12.74</td>\n      <td>8.0</td>\n      <td>7.71</td>\n    </tr>\n    <tr>\n      <th>3</th>\n      <td>9.0</td>\n      <td>8.81</td>\n      <td>9.0</td>\n      <td>8.77</td>\n      <td>9.0</td>\n      <td>7.11</td>\n      <td>8.0</td>\n      <td>8.84</td>\n    </tr>\n    <tr>\n      <th>4</th>\n      <td>11.0</td>\n      <td>8.33</td>\n      <td>11.0</td>\n      <td>9.26</td>\n      <td>11.0</td>\n      <td>7.81</td>\n      <td>8.0</td>\n      <td>8.47</td>\n    </tr>\n    <tr>\n      <th>5</th>\n      <td>14.0</td>\n      <td>9.96</td>\n      <td>14.0</td>\n      <td>8.10</td>\n      <td>14.0</td>\n      <td>8.84</td>\n      <td>8.0</td>\n      <td>7.04</td>\n    </tr>\n    <tr>\n      <th>6</th>\n      <td>6.0</td>\n      <td>7.24</td>\n      <td>6.0</td>\n      <td>6.13</td>\n      <td>6.0</td>\n      <td>6.08</td>\n      <td>8.0</td>\n      <td>5.25</td>\n    </tr>\n    <tr>\n      <th>7</th>\n      <td>4.0</td>\n      <td>4.26</td>\n      <td>4.0</td>\n      <td>3.10</td>\n      <td>4.0</td>\n      <td>5.39</td>\n      <td>19.0</td>\n      <td>12.50</td>\n    </tr>\n    <tr>\n      <th>8</th>\n      <td>12.0</td>\n      <td>10.84</td>\n      <td>12.0</td>\n      <td>9.13</td>\n      <td>12.0</td>\n      <td>8.15</td>\n      <td>8.0</td>\n      <td>5.56</td>\n    </tr>\n    <tr>\n      <th>9</th>\n      <td>7.0</td>\n      <td>4.82</td>\n      <td>7.0</td>\n      <td>7.26</td>\n      <td>7.0</td>\n      <td>6.42</td>\n      <td>8.0</td>\n      <td>7.91</td>\n    </tr>\n    <tr>\n      <th>10</th>\n      <td>5.0</td>\n      <td>5.68</td>\n      <td>5.0</td>\n      <td>4.74</td>\n      <td>5.0</td>\n      <td>5.73</td>\n      <td>8.0</td>\n      <td>6.89</td>\n    </tr>\n  </tbody>\n</table>\n</div>",
      "text/plain": "      x1     y1    x2    y2    x3     y3    x4     y4\n0   10.0   8.04  10.0  9.14  10.0   7.46   8.0   6.58\n1    8.0   6.95   8.0  8.14   8.0   6.77   8.0   5.76\n2   13.0   7.58  13.0  8.74  13.0  12.74   8.0   7.71\n3    9.0   8.81   9.0  8.77   9.0   7.11   8.0   8.84\n4   11.0   8.33  11.0  9.26  11.0   7.81   8.0   8.47\n5   14.0   9.96  14.0  8.10  14.0   8.84   8.0   7.04\n6    6.0   7.24   6.0  6.13   6.0   6.08   8.0   5.25\n7    4.0   4.26   4.0  3.10   4.0   5.39  19.0  12.50\n8   12.0  10.84  12.0  9.13  12.0   8.15   8.0   5.56\n9    7.0   4.82   7.0  7.26   7.0   6.42   8.0   7.91\n10   5.0   5.68   5.0  4.74   5.0   5.73   8.0   6.89"
     },
     "execution_count": 22,
     "metadata": {},
     "output_type": "execute_result"
    }
   ],
   "source": [
    "df"
   ]
  },
  {
   "cell_type": "markdown",
   "metadata": {},
   "source": [
    "3.1 Выборочное среднее и дисперсия каждой выборки."
   ]
  },
  {
   "cell_type": "markdown",
   "metadata": {},
   "source": [
    "3.2 Коэффициент корреляции Пирсона и прямая линейной регрессии."
   ]
  },
  {
   "cell_type": "code",
   "execution_count": 25,
   "metadata": {},
   "outputs": [
    {
     "name": "stdout",
     "output_type": "stream",
     "text": "Для выборки x1,y1:\n\n\tкоэффициент корреляции: 5.501\n\n\tуравнение модели: y1 = 3.0 + x1 * 0.5\n\n\nДля выборки x2,y2:\n\n\tкоэффициент корреляции: 5.5\n\n\tуравнение модели: y2 = 3.0 + x2 * 0.5\n\n\nДля выборки x3,y3:\n\n\tкоэффициент корреляции: 5.497\n\n\tуравнение модели: y3 = 3.0 + x3 * 0.5\n\n\nДля выборки x4,y4:\n\n\tкоэффициент корреляции: 5.499\n\n\tуравнение модели: y4 = 3.0 + x4 * 0.5\n\n\n"
    }
   ],
   "source": [
    "for i in range (1, 5):\n",
    "    x = 'x' + str(i)\n",
    "    y = 'y' + str(i)\n",
    "\n",
    "    cov_matrix = df[[x, y]].cov()\n",
    "    coeff = cov_matrix[x][y]\n",
    "    b1 = cov_matrix[x][y]/cov_matrix[x][x]\n",
    "    b0 = df[y].mean() - b1 * df[x].mean()\n",
    "    \n",
    "    print(f'Для выборки {x},{y}:\\n')\n",
    "    print(f'\\tкоэффициент корреляции: {round(coeff, 5)}\\n')\n",
    "    print(f'\\tуравнение модели: {y} = {round(b0, 2)} + {x} * {round(b1, 2)}\\n\\n')\n"
   ]
  },
  {
   "cell_type": "markdown",
   "metadata": {},
   "source": [
    "3.3 Визуализация данных.\n"
   ]
  },
  {
   "cell_type": "code",
   "execution_count": 30,
   "metadata": {},
   "outputs": [],
   "source": [
    "cov_matrix = df[['x1', 'y1']].cov()\n",
    "coeff = cov_matrix['x1']['y1']\n",
    "b1 = cov_matrix['x1']['y1']/cov_matrix['x1']['x1']\n",
    "b0 = df['y1'].mean() - b1 * df['x1'].mean()"
   ]
  },
  {
   "cell_type": "code",
   "execution_count": 33,
   "metadata": {},
   "outputs": [
    {
     "data": {
      "image/png": "[encoded data removed]",
      "image/svg+xml": "<?xml version=\"1.0\" encoding=\"utf-8\" standalone=\"no\"?>\n<!DOCTYPE svg PUBLIC \"-//W3C//DTD SVG 1.1//EN\"\n  \"http://www.w3.org/Graphics/SVG/1.1/DTD/svg11.dtd\">\n<!-- Created with matplotlib (https://matplotlib.org/) -->\n<svg height=\"248.518125pt\" version=\"1.1\" viewBox=\"0 0 1038.525 248.518125\" width=\"1038.525pt\" xmlns=\"http://www.w3.org/2000/svg\" xmlns:xlink=\"http://www.w3.org/1999/xlink\">\n <defs>\n  <style type=\"text/css\">\n*{stroke-linecap:butt;stroke-linejoin:round;}\n  </style>\n </defs>\n <g id=\"figure_1\">\n  <g id=\"patch_1\">\n   <path d=\"M 0 248.518125 \nL 1038.525 248.518125 \nL 1038.525 0 \nL 0 0 \nz\n\" style=\"fill:none;\"/>\n  </g>\n  <g id=\"axes_1\">\n   <g id=\"patch_2\">\n    <path d=\"M 26.925 224.64 \nL 245.272826 224.64 \nL 245.272826 7.2 \nL 26.925 7.2 \nz\n\" style=\"fill:#ffffff;\"/>\n   </g>\n   <g id=\"PathCollection_1\">\n    <defs>\n     <path d=\"M 0 3 \nC 0.795609 3 1.55874 2.683901 2.12132 2.12132 \nC 2.683901 1.55874 3 0.795609 3 0 \nC 3 -0.795609 2.683901 -1.55874 2.12132 -2.12132 \nC 1.55874 -2.683901 0.795609 -3 0 -3 \nC -0.795609 -3 -1.55874 -2.683901 -2.12132 -2.12132 \nC -2.683901 -1.55874 -3 -0.795609 -3 0 \nC -3 0.795609 -2.683901 1.55874 -2.12132 2.12132 \nC -1.55874 2.683901 -0.795609 3 0 3 \nz\n\" id=\"m2837fa4dec\" style=\"stroke:#1f77b4;\"/>\n    </defs>\n    <g clip-path=\"url(#pc7bff4c5bc)\">\n     <use style=\"fill:#1f77b4;stroke:#1f77b4;\" x=\"130.875281\" xlink:href=\"#m2837fa4dec\" y=\"120.310563\"/>\n     <use style=\"fill:#1f77b4;stroke:#1f77b4;\" x=\"109.980752\" xlink:href=\"#m2837fa4dec\" y=\"142.986784\"/>\n     <use style=\"fill:#1f77b4;stroke:#1f77b4;\" x=\"162.217074\" xlink:href=\"#m2837fa4dec\" y=\"129.880344\"/>\n     <use style=\"fill:#1f77b4;stroke:#1f77b4;\" x=\"120.428016\" xlink:href=\"#m2837fa4dec\" y=\"104.291581\"/>\n     <use style=\"fill:#1f77b4;stroke:#1f77b4;\" x=\"141.322545\" xlink:href=\"#m2837fa4dec\" y=\"114.27744\"/>\n     <use style=\"fill:#1f77b4;stroke:#1f77b4;\" x=\"172.664338\" xlink:href=\"#m2837fa4dec\" y=\"80.367127\"/>\n     <use style=\"fill:#1f77b4;stroke:#1f77b4;\" x=\"89.086223\" xlink:href=\"#m2837fa4dec\" y=\"136.953661\"/>\n     <use style=\"fill:#1f77b4;stroke:#1f77b4;\" x=\"68.191694\" xlink:href=\"#m2837fa4dec\" y=\"198.949203\"/>\n     <use style=\"fill:#1f77b4;stroke:#1f77b4;\" x=\"151.76981\" xlink:href=\"#m2837fa4dec\" y=\"62.059718\"/>\n     <use style=\"fill:#1f77b4;stroke:#1f77b4;\" x=\"99.533488\" xlink:href=\"#m2837fa4dec\" y=\"187.299034\"/>\n     <use style=\"fill:#1f77b4;stroke:#1f77b4;\" x=\"78.638959\" xlink:href=\"#m2837fa4dec\" y=\"169.407703\"/>\n    </g>\n   </g>\n   <g id=\"matplotlib.axis_1\">\n    <g id=\"xtick_1\">\n     <g id=\"line2d_1\">\n      <defs>\n       <path d=\"M 0 0 \nL 0 3.5 \n\" id=\"m3ebc9726cb\" style=\"stroke:#000000;stroke-width:0.8;\"/>\n      </defs>\n      <g>\n       <use style=\"stroke:#000000;stroke-width:0.8;\" x=\"78.638959\" xlink:href=\"#m3ebc9726cb\" y=\"224.64\"/>\n      </g>\n     </g>\n     <g id=\"text_1\">\n      <!-- 5 -->\n      <defs>\n       <path d=\"M 10.796875 72.90625 \nL 49.515625 72.90625 \nL 49.515625 64.59375 \nL 19.828125 64.59375 \nL 19.828125 46.734375 \nQ 21.96875 47.46875 24.109375 47.828125 \nQ 26.265625 48.1875 28.421875 48.1875 \nQ 40.625 48.1875 47.75 41.5 \nQ 54.890625 34.8125 54.890625 23.390625 \nQ 54.890625 11.625 47.5625 5.09375 \nQ 40.234375 -1.421875 26.90625 -1.421875 \nQ 22.3125 -1.421875 17.546875 -0.640625 \nQ 12.796875 0.140625 7.71875 1.703125 \nL 7.71875 11.625 \nQ 12.109375 9.234375 16.796875 8.0625 \nQ 21.484375 6.890625 26.703125 6.890625 \nQ 35.15625 6.890625 40.078125 11.328125 \nQ 45.015625 15.765625 45.015625 23.390625 \nQ 45.015625 31 40.078125 35.4375 \nQ 35.15625 39.890625 26.703125 39.890625 \nQ 22.75 39.890625 18.8125 39.015625 \nQ 14.890625 38.140625 10.796875 36.28125 \nz\n\" id=\"DejaVuSans-53\"/>\n      </defs>\n      <g transform=\"translate(75.457709 239.238437)scale(0.1 -0.1)\">\n       <use xlink:href=\"#DejaVuSans-53\"/>\n      </g>\n     </g>\n    </g>\n    <g id=\"xtick_2\">\n     <g id=\"line2d_2\">\n      <g>\n       <use style=\"stroke:#000000;stroke-width:0.8;\" x=\"130.875281\" xlink:href=\"#m3ebc9726cb\" y=\"224.64\"/>\n      </g>\n     </g>\n     <g id=\"text_2\">\n      <!-- 10 -->\n      <defs>\n       <path d=\"M 12.40625 8.296875 \nL 28.515625 8.296875 \nL 28.515625 63.921875 \nL 10.984375 60.40625 \nL 10.984375 69.390625 \nL 28.421875 72.90625 \nL 38.28125 72.90625 \nL 38.28125 8.296875 \nL 54.390625 8.296875 \nL 54.390625 0 \nL 12.40625 0 \nz\n\" id=\"DejaVuSans-49\"/>\n       <path d=\"M 31.78125 66.40625 \nQ 24.171875 66.40625 20.328125 58.90625 \nQ 16.5 51.421875 16.5 36.375 \nQ 16.5 21.390625 20.328125 13.890625 \nQ 24.171875 6.390625 31.78125 6.390625 \nQ 39.453125 6.390625 43.28125 13.890625 \nQ 47.125 21.390625 47.125 36.375 \nQ 47.125 51.421875 43.28125 58.90625 \nQ 39.453125 66.40625 31.78125 66.40625 \nz\nM 31.78125 74.21875 \nQ 44.046875 74.21875 50.515625 64.515625 \nQ 56.984375 54.828125 56.984375 36.375 \nQ 56.984375 17.96875 50.515625 8.265625 \nQ 44.046875 -1.421875 31.78125 -1.421875 \nQ 19.53125 -1.421875 13.0625 8.265625 \nQ 6.59375 17.96875 6.59375 36.375 \nQ 6.59375 54.828125 13.0625 64.515625 \nQ 19.53125 74.21875 31.78125 74.21875 \nz\n\" id=\"DejaVuSans-48\"/>\n      </defs>\n      <g transform=\"translate(124.512781 239.238437)scale(0.1 -0.1)\">\n       <use xlink:href=\"#DejaVuSans-49\"/>\n       <use x=\"63.623047\" xlink:href=\"#DejaVuSans-48\"/>\n      </g>\n     </g>\n    </g>\n    <g id=\"xtick_3\">\n     <g id=\"line2d_3\">\n      <g>\n       <use style=\"stroke:#000000;stroke-width:0.8;\" x=\"183.111603\" xlink:href=\"#m3ebc9726cb\" y=\"224.64\"/>\n      </g>\n     </g>\n     <g id=\"text_3\">\n      <!-- 15 -->\n      <g transform=\"translate(176.749103 239.238437)scale(0.1 -0.1)\">\n       <use xlink:href=\"#DejaVuSans-49\"/>\n       <use x=\"63.623047\" xlink:href=\"#DejaVuSans-53\"/>\n      </g>\n     </g>\n    </g>\n    <g id=\"xtick_4\">\n     <g id=\"line2d_4\">\n      <g>\n       <use style=\"stroke:#000000;stroke-width:0.8;\" x=\"235.347925\" xlink:href=\"#m3ebc9726cb\" y=\"224.64\"/>\n      </g>\n     </g>\n     <g id=\"text_4\">\n      <!-- 20 -->\n      <defs>\n       <path d=\"M 19.1875 8.296875 \nL 53.609375 8.296875 \nL 53.609375 0 \nL 7.328125 0 \nL 7.328125 8.296875 \nQ 12.9375 14.109375 22.625 23.890625 \nQ 32.328125 33.6875 34.8125 36.53125 \nQ 39.546875 41.84375 41.421875 45.53125 \nQ 43.3125 49.21875 43.3125 52.78125 \nQ 43.3125 58.59375 39.234375 62.25 \nQ 35.15625 65.921875 28.609375 65.921875 \nQ 23.96875 65.921875 18.8125 64.3125 \nQ 13.671875 62.703125 7.8125 59.421875 \nL 7.8125 69.390625 \nQ 13.765625 71.78125 18.9375 73 \nQ 24.125 74.21875 28.421875 74.21875 \nQ 39.75 74.21875 46.484375 68.546875 \nQ 53.21875 62.890625 53.21875 53.421875 \nQ 53.21875 48.921875 51.53125 44.890625 \nQ 49.859375 40.875 45.40625 35.40625 \nQ 44.1875 33.984375 37.640625 27.21875 \nQ 31.109375 20.453125 19.1875 8.296875 \nz\n\" id=\"DejaVuSans-50\"/>\n      </defs>\n      <g transform=\"translate(228.985425 239.238437)scale(0.1 -0.1)\">\n       <use xlink:href=\"#DejaVuSans-50\"/>\n       <use x=\"63.623047\" xlink:href=\"#DejaVuSans-48\"/>\n      </g>\n     </g>\n    </g>\n   </g>\n   <g id=\"matplotlib.axis_2\">\n    <g id=\"ytick_1\">\n     <g id=\"line2d_5\">\n      <defs>\n       <path d=\"M 0 0 \nL -3.5 0 \n\" id=\"m22ff9b02f4\" style=\"stroke:#000000;stroke-width:0.8;\"/>\n      </defs>\n      <g>\n       <use style=\"stroke:#000000;stroke-width:0.8;\" x=\"26.925\" xlink:href=\"#m22ff9b02f4\" y=\"204.35821\"/>\n      </g>\n     </g>\n     <g id=\"text_5\">\n      <!-- 4 -->\n      <defs>\n       <path d=\"M 37.796875 64.3125 \nL 12.890625 25.390625 \nL 37.796875 25.390625 \nz\nM 35.203125 72.90625 \nL 47.609375 72.90625 \nL 47.609375 25.390625 \nL 58.015625 25.390625 \nL 58.015625 17.1875 \nL 47.609375 17.1875 \nL 47.609375 0 \nL 37.796875 0 \nL 37.796875 17.1875 \nL 4.890625 17.1875 \nL 4.890625 26.703125 \nz\n\" id=\"DejaVuSans-52\"/>\n      </defs>\n      <g transform=\"translate(13.5625 208.157428)scale(0.1 -0.1)\">\n       <use xlink:href=\"#DejaVuSans-52\"/>\n      </g>\n     </g>\n    </g>\n    <g id=\"ytick_2\">\n     <g id=\"line2d_6\">\n      <g>\n       <use style=\"stroke:#000000;stroke-width:0.8;\" x=\"26.925\" xlink:href=\"#m22ff9b02f4\" y=\"162.750464\"/>\n      </g>\n     </g>\n     <g id=\"text_6\">\n      <!-- 6 -->\n      <defs>\n       <path d=\"M 33.015625 40.375 \nQ 26.375 40.375 22.484375 35.828125 \nQ 18.609375 31.296875 18.609375 23.390625 \nQ 18.609375 15.53125 22.484375 10.953125 \nQ 26.375 6.390625 33.015625 6.390625 \nQ 39.65625 6.390625 43.53125 10.953125 \nQ 47.40625 15.53125 47.40625 23.390625 \nQ 47.40625 31.296875 43.53125 35.828125 \nQ 39.65625 40.375 33.015625 40.375 \nz\nM 52.59375 71.296875 \nL 52.59375 62.3125 \nQ 48.875 64.0625 45.09375 64.984375 \nQ 41.3125 65.921875 37.59375 65.921875 \nQ 27.828125 65.921875 22.671875 59.328125 \nQ 17.53125 52.734375 16.796875 39.40625 \nQ 19.671875 43.65625 24.015625 45.921875 \nQ 28.375 48.1875 33.59375 48.1875 \nQ 44.578125 48.1875 50.953125 41.515625 \nQ 57.328125 34.859375 57.328125 23.390625 \nQ 57.328125 12.15625 50.6875 5.359375 \nQ 44.046875 -1.421875 33.015625 -1.421875 \nQ 20.359375 -1.421875 13.671875 8.265625 \nQ 6.984375 17.96875 6.984375 36.375 \nQ 6.984375 53.65625 15.1875 63.9375 \nQ 23.390625 74.21875 37.203125 74.21875 \nQ 40.921875 74.21875 44.703125 73.484375 \nQ 48.484375 72.75 52.59375 71.296875 \nz\n\" id=\"DejaVuSans-54\"/>\n      </defs>\n      <g transform=\"translate(13.5625 166.549682)scale(0.1 -0.1)\">\n       <use xlink:href=\"#DejaVuSans-54\"/>\n      </g>\n     </g>\n    </g>\n    <g id=\"ytick_3\">\n     <g id=\"line2d_7\">\n      <g>\n       <use style=\"stroke:#000000;stroke-width:0.8;\" x=\"26.925\" xlink:href=\"#m22ff9b02f4\" y=\"121.142718\"/>\n      </g>\n     </g>\n     <g id=\"text_7\">\n      <!-- 8 -->\n      <defs>\n       <path d=\"M 31.78125 34.625 \nQ 24.75 34.625 20.71875 30.859375 \nQ 16.703125 27.09375 16.703125 20.515625 \nQ 16.703125 13.921875 20.71875 10.15625 \nQ 24.75 6.390625 31.78125 6.390625 \nQ 38.8125 6.390625 42.859375 10.171875 \nQ 46.921875 13.96875 46.921875 20.515625 \nQ 46.921875 27.09375 42.890625 30.859375 \nQ 38.875 34.625 31.78125 34.625 \nz\nM 21.921875 38.8125 \nQ 15.578125 40.375 12.03125 44.71875 \nQ 8.5 49.078125 8.5 55.328125 \nQ 8.5 64.0625 14.71875 69.140625 \nQ 20.953125 74.21875 31.78125 74.21875 \nQ 42.671875 74.21875 48.875 69.140625 \nQ 55.078125 64.0625 55.078125 55.328125 \nQ 55.078125 49.078125 51.53125 44.71875 \nQ 48 40.375 41.703125 38.8125 \nQ 48.828125 37.15625 52.796875 32.3125 \nQ 56.78125 27.484375 56.78125 20.515625 \nQ 56.78125 9.90625 50.3125 4.234375 \nQ 43.84375 -1.421875 31.78125 -1.421875 \nQ 19.734375 -1.421875 13.25 4.234375 \nQ 6.78125 9.90625 6.78125 20.515625 \nQ 6.78125 27.484375 10.78125 32.3125 \nQ 14.796875 37.15625 21.921875 38.8125 \nz\nM 18.3125 54.390625 \nQ 18.3125 48.734375 21.84375 45.5625 \nQ 25.390625 42.390625 31.78125 42.390625 \nQ 38.140625 42.390625 41.71875 45.5625 \nQ 45.3125 48.734375 45.3125 54.390625 \nQ 45.3125 60.0625 41.71875 63.234375 \nQ 38.140625 66.40625 31.78125 66.40625 \nQ 25.390625 66.40625 21.84375 63.234375 \nQ 18.3125 60.0625 18.3125 54.390625 \nz\n\" id=\"DejaVuSans-56\"/>\n      </defs>\n      <g transform=\"translate(13.5625 124.941936)scale(0.1 -0.1)\">\n       <use xlink:href=\"#DejaVuSans-56\"/>\n      </g>\n     </g>\n    </g>\n    <g id=\"ytick_4\">\n     <g id=\"line2d_8\">\n      <g>\n       <use style=\"stroke:#000000;stroke-width:0.8;\" x=\"26.925\" xlink:href=\"#m22ff9b02f4\" y=\"79.534972\"/>\n      </g>\n     </g>\n     <g id=\"text_8\">\n      <!-- 10 -->\n      <g transform=\"translate(7.2 83.334191)scale(0.1 -0.1)\">\n       <use xlink:href=\"#DejaVuSans-49\"/>\n       <use x=\"63.623047\" xlink:href=\"#DejaVuSans-48\"/>\n      </g>\n     </g>\n    </g>\n    <g id=\"ytick_5\">\n     <g id=\"line2d_9\">\n      <g>\n       <use style=\"stroke:#000000;stroke-width:0.8;\" x=\"26.925\" xlink:href=\"#m22ff9b02f4\" y=\"37.927226\"/>\n      </g>\n     </g>\n     <g id=\"text_9\">\n      <!-- 12 -->\n      <g transform=\"translate(7.2 41.726445)scale(0.1 -0.1)\">\n       <use xlink:href=\"#DejaVuSans-49\"/>\n       <use x=\"63.623047\" xlink:href=\"#DejaVuSans-50\"/>\n      </g>\n     </g>\n    </g>\n   </g>\n   <g id=\"line2d_10\">\n    <path clip-path=\"url(#pc7bff4c5bc)\" d=\"M 36.849901 214.756364 \nL 47.297166 204.352536 \nL 57.74443 193.948708 \nL 68.191694 183.54488 \nL 78.638959 173.141053 \nL 89.086223 162.737225 \nL 99.533488 152.333397 \nL 109.980752 141.929569 \nL 120.428016 131.525742 \nL 130.875281 121.121914 \nL 141.322545 110.718086 \nL 151.76981 100.314258 \nL 162.217074 89.910431 \nL 172.664338 79.506603 \nL 183.111603 69.102775 \nL 193.558867 58.698947 \nL 204.006132 48.29512 \nL 214.453396 37.891292 \nL 224.90066 27.487464 \nL 235.347925 17.083636 \n\" style=\"fill:none;stroke:#ff0000;stroke-linecap:square;stroke-opacity:0.5;stroke-width:1.5;\"/>\n   </g>\n   <g id=\"patch_3\">\n    <path d=\"M 26.925 224.64 \nL 26.925 7.2 \n\" style=\"fill:none;stroke:#000000;stroke-linecap:square;stroke-linejoin:miter;stroke-width:0.8;\"/>\n   </g>\n   <g id=\"patch_4\">\n    <path d=\"M 245.272826 224.64 \nL 245.272826 7.2 \n\" style=\"fill:none;stroke:#000000;stroke-linecap:square;stroke-linejoin:miter;stroke-width:0.8;\"/>\n   </g>\n   <g id=\"patch_5\">\n    <path d=\"M 26.925 224.64 \nL 245.272826 224.64 \n\" style=\"fill:none;stroke:#000000;stroke-linecap:square;stroke-linejoin:miter;stroke-width:0.8;\"/>\n   </g>\n   <g id=\"patch_6\">\n    <path d=\"M 26.925 7.2 \nL 245.272826 7.2 \n\" style=\"fill:none;stroke:#000000;stroke-linecap:square;stroke-linejoin:miter;stroke-width:0.8;\"/>\n   </g>\n  </g>\n  <g id=\"axes_2\">\n   <g id=\"patch_7\">\n    <path d=\"M 288.942391 224.64 \nL 507.290217 224.64 \nL 507.290217 7.2 \nL 288.942391 7.2 \nz\n\" style=\"fill:#ffffff;\"/>\n   </g>\n   <g id=\"PathCollection_2\">\n    <g clip-path=\"url(#p01ad771513)\">\n     <use style=\"fill:#1f77b4;stroke:#1f77b4;\" x=\"392.892672\" xlink:href=\"#m2837fa4dec\" y=\"94.072012\"/>\n     <use style=\"fill:#1f77b4;stroke:#1f77b4;\" x=\"371.998143\" xlink:href=\"#m2837fa4dec\" y=\"114.007328\"/>\n     <use style=\"fill:#1f77b4;stroke:#1f77b4;\" x=\"424.234465\" xlink:href=\"#m2837fa4dec\" y=\"102.046139\"/>\n     <use style=\"fill:#1f77b4;stroke:#1f77b4;\" x=\"382.445408\" xlink:href=\"#m2837fa4dec\" y=\"101.448079\"/>\n     <use style=\"fill:#1f77b4;stroke:#1f77b4;\" x=\"403.339937\" xlink:href=\"#m2837fa4dec\" y=\"91.679775\"/>\n     <use style=\"fill:#1f77b4;stroke:#1f77b4;\" x=\"434.68173\" xlink:href=\"#m2837fa4dec\" y=\"114.804741\"/>\n     <use style=\"fill:#1f77b4;stroke:#1f77b4;\" x=\"351.103615\" xlink:href=\"#m2837fa4dec\" y=\"154.077312\"/>\n     <use style=\"fill:#1f77b4;stroke:#1f77b4;\" x=\"330.209086\" xlink:href=\"#m2837fa4dec\" y=\"214.481318\"/>\n     <use style=\"fill:#1f77b4;stroke:#1f77b4;\" x=\"413.787201\" xlink:href=\"#m2837fa4dec\" y=\"94.271366\"/>\n     <use style=\"fill:#1f77b4;stroke:#1f77b4;\" x=\"361.550879\" xlink:href=\"#m2837fa4dec\" y=\"131.550406\"/>\n     <use style=\"fill:#1f77b4;stroke:#1f77b4;\" x=\"340.65635\" xlink:href=\"#m2837fa4dec\" y=\"181.787401\"/>\n    </g>\n   </g>\n   <g id=\"matplotlib.axis_3\">\n    <g id=\"xtick_5\">\n     <g id=\"line2d_11\">\n      <g>\n       <use style=\"stroke:#000000;stroke-width:0.8;\" x=\"340.65635\" xlink:href=\"#m3ebc9726cb\" y=\"224.64\"/>\n      </g>\n     </g>\n     <g id=\"text_10\">\n      <!-- 5 -->\n      <g transform=\"translate(337.4751 239.238437)scale(0.1 -0.1)\">\n       <use xlink:href=\"#DejaVuSans-53\"/>\n      </g>\n     </g>\n    </g>\n    <g id=\"xtick_6\">\n     <g id=\"line2d_12\">\n      <g>\n       <use style=\"stroke:#000000;stroke-width:0.8;\" x=\"392.892672\" xlink:href=\"#m3ebc9726cb\" y=\"224.64\"/>\n      </g>\n     </g>\n     <g id=\"text_11\">\n      <!-- 10 -->\n      <g transform=\"translate(386.530172 239.238437)scale(0.1 -0.1)\">\n       <use xlink:href=\"#DejaVuSans-49\"/>\n       <use x=\"63.623047\" xlink:href=\"#DejaVuSans-48\"/>\n      </g>\n     </g>\n    </g>\n    <g id=\"xtick_7\">\n     <g id=\"line2d_13\">\n      <g>\n       <use style=\"stroke:#000000;stroke-width:0.8;\" x=\"445.128994\" xlink:href=\"#m3ebc9726cb\" y=\"224.64\"/>\n      </g>\n     </g>\n     <g id=\"text_12\">\n      <!-- 15 -->\n      <g transform=\"translate(438.766494 239.238437)scale(0.1 -0.1)\">\n       <use xlink:href=\"#DejaVuSans-49\"/>\n       <use x=\"63.623047\" xlink:href=\"#DejaVuSans-53\"/>\n      </g>\n     </g>\n    </g>\n    <g id=\"xtick_8\">\n     <g id=\"line2d_14\">\n      <g>\n       <use style=\"stroke:#000000;stroke-width:0.8;\" x=\"497.365316\" xlink:href=\"#m3ebc9726cb\" y=\"224.64\"/>\n      </g>\n     </g>\n     <g id=\"text_13\">\n      <!-- 20 -->\n      <g transform=\"translate(491.002816 239.238437)scale(0.1 -0.1)\">\n       <use xlink:href=\"#DejaVuSans-50\"/>\n       <use x=\"63.623047\" xlink:href=\"#DejaVuSans-48\"/>\n      </g>\n     </g>\n    </g>\n   </g>\n   <g id=\"matplotlib.axis_4\">\n    <g id=\"ytick_6\">\n     <g id=\"line2d_15\">\n      <g>\n       <use style=\"stroke:#000000;stroke-width:0.8;\" x=\"288.942391\" xlink:href=\"#m22ff9b02f4\" y=\"196.539534\"/>\n      </g>\n     </g>\n     <g id=\"text_14\">\n      <!-- 4 -->\n      <g transform=\"translate(275.579891 200.338753)scale(0.1 -0.1)\">\n       <use xlink:href=\"#DejaVuSans-52\"/>\n      </g>\n     </g>\n    </g>\n    <g id=\"ytick_7\">\n     <g id=\"line2d_16\">\n      <g>\n       <use style=\"stroke:#000000;stroke-width:0.8;\" x=\"288.942391\" xlink:href=\"#m22ff9b02f4\" y=\"156.668903\"/>\n      </g>\n     </g>\n     <g id=\"text_15\">\n      <!-- 6 -->\n      <g transform=\"translate(275.579891 160.468122)scale(0.1 -0.1)\">\n       <use xlink:href=\"#DejaVuSans-54\"/>\n      </g>\n     </g>\n    </g>\n    <g id=\"ytick_8\">\n     <g id=\"line2d_17\">\n      <g>\n       <use style=\"stroke:#000000;stroke-width:0.8;\" x=\"288.942391\" xlink:href=\"#m22ff9b02f4\" y=\"116.798272\"/>\n      </g>\n     </g>\n     <g id=\"text_16\">\n      <!-- 8 -->\n      <g transform=\"translate(275.579891 120.597491)scale(0.1 -0.1)\">\n       <use xlink:href=\"#DejaVuSans-56\"/>\n      </g>\n     </g>\n    </g>\n    <g id=\"ytick_9\">\n     <g id=\"line2d_18\">\n      <g>\n       <use style=\"stroke:#000000;stroke-width:0.8;\" x=\"288.942391\" xlink:href=\"#m22ff9b02f4\" y=\"76.927641\"/>\n      </g>\n     </g>\n     <g id=\"text_17\">\n      <!-- 10 -->\n      <g transform=\"translate(269.217391 80.72686)scale(0.1 -0.1)\">\n       <use xlink:href=\"#DejaVuSans-49\"/>\n       <use x=\"63.623047\" xlink:href=\"#DejaVuSans-48\"/>\n      </g>\n     </g>\n    </g>\n    <g id=\"ytick_10\">\n     <g id=\"line2d_19\">\n      <g>\n       <use style=\"stroke:#000000;stroke-width:0.8;\" x=\"288.942391\" xlink:href=\"#m22ff9b02f4\" y=\"37.05701\"/>\n      </g>\n     </g>\n     <g id=\"text_18\">\n      <!-- 12 -->\n      <g transform=\"translate(269.217391 40.856229)scale(0.1 -0.1)\">\n       <use xlink:href=\"#DejaVuSans-49\"/>\n       <use x=\"63.623047\" xlink:href=\"#DejaVuSans-50\"/>\n      </g>\n     </g>\n    </g>\n   </g>\n   <g id=\"line2d_20\">\n    <path clip-path=\"url(#p01ad771513)\" d=\"M 298.867292 206.503567 \nL 309.314557 196.534097 \nL 319.761821 186.564627 \nL 330.209086 176.595157 \nL 340.65635 166.625687 \nL 351.103615 156.656217 \nL 361.550879 146.686747 \nL 371.998143 136.717277 \nL 382.445408 126.747807 \nL 392.892672 116.778337 \nL 403.339937 106.808867 \nL 413.787201 96.839397 \nL 424.234465 86.869927 \nL 434.68173 76.900457 \nL 445.128994 66.930987 \nL 455.576259 56.961517 \nL 466.023523 46.992046 \nL 476.470787 37.022576 \nL 486.918052 27.053106 \nL 497.365316 17.083636 \n\" style=\"fill:none;stroke:#ff0000;stroke-linecap:square;stroke-opacity:0.5;stroke-width:1.5;\"/>\n   </g>\n   <g id=\"patch_8\">\n    <path d=\"M 288.942391 224.64 \nL 288.942391 7.2 \n\" style=\"fill:none;stroke:#000000;stroke-linecap:square;stroke-linejoin:miter;stroke-width:0.8;\"/>\n   </g>\n   <g id=\"patch_9\">\n    <path d=\"M 507.290217 224.64 \nL 507.290217 7.2 \n\" style=\"fill:none;stroke:#000000;stroke-linecap:square;stroke-linejoin:miter;stroke-width:0.8;\"/>\n   </g>\n   <g id=\"patch_10\">\n    <path d=\"M 288.942391 224.64 \nL 507.290217 224.64 \n\" style=\"fill:none;stroke:#000000;stroke-linecap:square;stroke-linejoin:miter;stroke-width:0.8;\"/>\n   </g>\n   <g id=\"patch_11\">\n    <path d=\"M 288.942391 7.2 \nL 507.290217 7.2 \n\" style=\"fill:none;stroke:#000000;stroke-linecap:square;stroke-linejoin:miter;stroke-width:0.8;\"/>\n   </g>\n  </g>\n  <g id=\"axes_3\">\n   <g id=\"patch_12\">\n    <path d=\"M 550.959783 224.64 \nL 769.307609 224.64 \nL 769.307609 7.2 \nL 550.959783 7.2 \nz\n\" style=\"fill:#ffffff;\"/>\n   </g>\n   <g id=\"PathCollection_3\">\n    <g clip-path=\"url(#p684a8caa99)\">\n     <use style=\"fill:#1f77b4;stroke:#1f77b4;\" x=\"654.910063\" xlink:href=\"#m2837fa4dec\" y=\"132.376809\"/>\n     <use style=\"fill:#1f77b4;stroke:#1f77b4;\" x=\"634.015535\" xlink:href=\"#m2837fa4dec\" y=\"146.731482\"/>\n     <use style=\"fill:#1f77b4;stroke:#1f77b4;\" x=\"686.251857\" xlink:href=\"#m2837fa4dec\" y=\"22.53236\"/>\n     <use style=\"fill:#1f77b4;stroke:#1f77b4;\" x=\"644.462799\" xlink:href=\"#m2837fa4dec\" y=\"139.658165\"/>\n     <use style=\"fill:#1f77b4;stroke:#1f77b4;\" x=\"665.357328\" xlink:href=\"#m2837fa4dec\" y=\"125.095454\"/>\n     <use style=\"fill:#1f77b4;stroke:#1f77b4;\" x=\"696.699121\" xlink:href=\"#m2837fa4dec\" y=\"103.667464\"/>\n     <use style=\"fill:#1f77b4;stroke:#1f77b4;\" x=\"613.121006\" xlink:href=\"#m2837fa4dec\" y=\"161.086154\"/>\n     <use style=\"fill:#1f77b4;stroke:#1f77b4;\" x=\"592.226477\" xlink:href=\"#m2837fa4dec\" y=\"175.440826\"/>\n     <use style=\"fill:#1f77b4;stroke:#1f77b4;\" x=\"675.804592\" xlink:href=\"#m2837fa4dec\" y=\"118.022137\"/>\n     <use style=\"fill:#1f77b4;stroke:#1f77b4;\" x=\"623.56827\" xlink:href=\"#m2837fa4dec\" y=\"154.012837\"/>\n     <use style=\"fill:#1f77b4;stroke:#1f77b4;\" x=\"602.673741\" xlink:href=\"#m2837fa4dec\" y=\"168.367509\"/>\n    </g>\n   </g>\n   <g id=\"matplotlib.axis_5\">\n    <g id=\"xtick_9\">\n     <g id=\"line2d_21\">\n      <g>\n       <use style=\"stroke:#000000;stroke-width:0.8;\" x=\"602.673741\" xlink:href=\"#m3ebc9726cb\" y=\"224.64\"/>\n      </g>\n     </g>\n     <g id=\"text_19\">\n      <!-- 5 -->\n      <g transform=\"translate(599.492491 239.238437)scale(0.1 -0.1)\">\n       <use xlink:href=\"#DejaVuSans-53\"/>\n      </g>\n     </g>\n    </g>\n    <g id=\"xtick_10\">\n     <g id=\"line2d_22\">\n      <g>\n       <use style=\"stroke:#000000;stroke-width:0.8;\" x=\"654.910063\" xlink:href=\"#m3ebc9726cb\" y=\"224.64\"/>\n      </g>\n     </g>\n     <g id=\"text_20\">\n      <!-- 10 -->\n      <g transform=\"translate(648.547563 239.238437)scale(0.1 -0.1)\">\n       <use xlink:href=\"#DejaVuSans-49\"/>\n       <use x=\"63.623047\" xlink:href=\"#DejaVuSans-48\"/>\n      </g>\n     </g>\n    </g>\n    <g id=\"xtick_11\">\n     <g id=\"line2d_23\">\n      <g>\n       <use style=\"stroke:#000000;stroke-width:0.8;\" x=\"707.146385\" xlink:href=\"#m3ebc9726cb\" y=\"224.64\"/>\n      </g>\n     </g>\n     <g id=\"text_21\">\n      <!-- 15 -->\n      <g transform=\"translate(700.783885 239.238437)scale(0.1 -0.1)\">\n       <use xlink:href=\"#DejaVuSans-49\"/>\n       <use x=\"63.623047\" xlink:href=\"#DejaVuSans-53\"/>\n      </g>\n     </g>\n    </g>\n    <g id=\"xtick_12\">\n     <g id=\"line2d_24\">\n      <g>\n       <use style=\"stroke:#000000;stroke-width:0.8;\" x=\"759.382708\" xlink:href=\"#m3ebc9726cb\" y=\"224.64\"/>\n      </g>\n     </g>\n     <g id=\"text_22\">\n      <!-- 20 -->\n      <g transform=\"translate(753.020208 239.238437)scale(0.1 -0.1)\">\n       <use xlink:href=\"#DejaVuSans-50\"/>\n       <use x=\"63.623047\" xlink:href=\"#DejaVuSans-48\"/>\n      </g>\n     </g>\n    </g>\n   </g>\n   <g id=\"matplotlib.axis_6\">\n    <g id=\"ytick_11\">\n     <g id=\"line2d_25\">\n      <g>\n       <use style=\"stroke:#000000;stroke-width:0.8;\" x=\"550.959783\" xlink:href=\"#m22ff9b02f4\" y=\"204.35821\"/>\n      </g>\n     </g>\n     <g id=\"text_23\">\n      <!-- 4 -->\n      <g transform=\"translate(537.597283 208.157428)scale(0.1 -0.1)\">\n       <use xlink:href=\"#DejaVuSans-52\"/>\n      </g>\n     </g>\n    </g>\n    <g id=\"ytick_12\">\n     <g id=\"line2d_26\">\n      <g>\n       <use style=\"stroke:#000000;stroke-width:0.8;\" x=\"550.959783\" xlink:href=\"#m22ff9b02f4\" y=\"162.750464\"/>\n      </g>\n     </g>\n     <g id=\"text_24\">\n      <!-- 6 -->\n      <g transform=\"translate(537.597283 166.549682)scale(0.1 -0.1)\">\n       <use xlink:href=\"#DejaVuSans-54\"/>\n      </g>\n     </g>\n    </g>\n    <g id=\"ytick_13\">\n     <g id=\"line2d_27\">\n      <g>\n       <use style=\"stroke:#000000;stroke-width:0.8;\" x=\"550.959783\" xlink:href=\"#m22ff9b02f4\" y=\"121.142718\"/>\n      </g>\n     </g>\n     <g id=\"text_25\">\n      <!-- 8 -->\n      <g transform=\"translate(537.597283 124.941936)scale(0.1 -0.1)\">\n       <use xlink:href=\"#DejaVuSans-56\"/>\n      </g>\n     </g>\n    </g>\n    <g id=\"ytick_14\">\n     <g id=\"line2d_28\">\n      <g>\n       <use style=\"stroke:#000000;stroke-width:0.8;\" x=\"550.959783\" xlink:href=\"#m22ff9b02f4\" y=\"79.534972\"/>\n      </g>\n     </g>\n     <g id=\"text_26\">\n      <!-- 10 -->\n      <g transform=\"translate(531.234783 83.334191)scale(0.1 -0.1)\">\n       <use xlink:href=\"#DejaVuSans-49\"/>\n       <use x=\"63.623047\" xlink:href=\"#DejaVuSans-48\"/>\n      </g>\n     </g>\n    </g>\n    <g id=\"ytick_15\">\n     <g id=\"line2d_29\">\n      <g>\n       <use style=\"stroke:#000000;stroke-width:0.8;\" x=\"550.959783\" xlink:href=\"#m22ff9b02f4\" y=\"37.927226\"/>\n      </g>\n     </g>\n     <g id=\"text_27\">\n      <!-- 12 -->\n      <g transform=\"translate(531.234783 41.726445)scale(0.1 -0.1)\">\n       <use xlink:href=\"#DejaVuSans-49\"/>\n       <use x=\"63.623047\" xlink:href=\"#DejaVuSans-50\"/>\n      </g>\n     </g>\n    </g>\n   </g>\n   <g id=\"line2d_30\">\n    <path clip-path=\"url(#p684a8caa99)\" d=\"M 560.884684 214.756364 \nL 571.331948 204.352536 \nL 581.779213 193.948708 \nL 592.226477 183.54488 \nL 602.673741 173.141053 \nL 613.121006 162.737225 \nL 623.56827 152.333397 \nL 634.015535 141.929569 \nL 644.462799 131.525742 \nL 654.910063 121.121914 \nL 665.357328 110.718086 \nL 675.804592 100.314258 \nL 686.251857 89.910431 \nL 696.699121 79.506603 \nL 707.146385 69.102775 \nL 717.59365 58.698947 \nL 728.040914 48.29512 \nL 738.488179 37.891292 \nL 748.935443 27.487464 \nL 759.382708 17.083636 \n\" style=\"fill:none;stroke:#ff0000;stroke-linecap:square;stroke-opacity:0.5;stroke-width:1.5;\"/>\n   </g>\n   <g id=\"patch_13\">\n    <path d=\"M 550.959783 224.64 \nL 550.959783 7.2 \n\" style=\"fill:none;stroke:#000000;stroke-linecap:square;stroke-linejoin:miter;stroke-width:0.8;\"/>\n   </g>\n   <g id=\"patch_14\">\n    <path d=\"M 769.307609 224.64 \nL 769.307609 7.2 \n\" style=\"fill:none;stroke:#000000;stroke-linecap:square;stroke-linejoin:miter;stroke-width:0.8;\"/>\n   </g>\n   <g id=\"patch_15\">\n    <path d=\"M 550.959783 224.64 \nL 769.307609 224.64 \n\" style=\"fill:none;stroke:#000000;stroke-linecap:square;stroke-linejoin:miter;stroke-width:0.8;\"/>\n   </g>\n   <g id=\"patch_16\">\n    <path d=\"M 550.959783 7.2 \nL 769.307609 7.2 \n\" style=\"fill:none;stroke:#000000;stroke-linecap:square;stroke-linejoin:miter;stroke-width:0.8;\"/>\n   </g>\n  </g>\n  <g id=\"axes_4\">\n   <g id=\"patch_17\">\n    <path d=\"M 812.977174 224.64 \nL 1031.325 224.64 \nL 1031.325 7.2 \nL 812.977174 7.2 \nz\n\" style=\"fill:#ffffff;\"/>\n   </g>\n   <g id=\"PathCollection_4\">\n    <g clip-path=\"url(#pf00ff6a1e6)\">\n     <use style=\"fill:#1f77b4;stroke:#1f77b4;\" x=\"896.032926\" xlink:href=\"#m2837fa4dec\" y=\"150.684217\"/>\n     <use style=\"fill:#1f77b4;stroke:#1f77b4;\" x=\"896.032926\" xlink:href=\"#m2837fa4dec\" y=\"167.743393\"/>\n     <use style=\"fill:#1f77b4;stroke:#1f77b4;\" x=\"896.032926\" xlink:href=\"#m2837fa4dec\" y=\"127.175841\"/>\n     <use style=\"fill:#1f77b4;stroke:#1f77b4;\" x=\"896.032926\" xlink:href=\"#m2837fa4dec\" y=\"103.667464\"/>\n     <use style=\"fill:#1f77b4;stroke:#1f77b4;\" x=\"896.032926\" xlink:href=\"#m2837fa4dec\" y=\"111.364897\"/>\n     <use style=\"fill:#1f77b4;stroke:#1f77b4;\" x=\"896.032926\" xlink:href=\"#m2837fa4dec\" y=\"141.114436\"/>\n     <use style=\"fill:#1f77b4;stroke:#1f77b4;\" x=\"896.032926\" xlink:href=\"#m2837fa4dec\" y=\"178.353368\"/>\n     <use style=\"fill:#1f77b4;stroke:#1f77b4;\" x=\"1010.952834\" xlink:href=\"#m2837fa4dec\" y=\"27.525289\"/>\n     <use style=\"fill:#1f77b4;stroke:#1f77b4;\" x=\"896.032926\" xlink:href=\"#m2837fa4dec\" y=\"171.904168\"/>\n     <use style=\"fill:#1f77b4;stroke:#1f77b4;\" x=\"896.032926\" xlink:href=\"#m2837fa4dec\" y=\"123.015066\"/>\n     <use style=\"fill:#1f77b4;stroke:#1f77b4;\" x=\"896.032926\" xlink:href=\"#m2837fa4dec\" y=\"144.235017\"/>\n    </g>\n   </g>\n   <g id=\"matplotlib.axis_7\">\n    <g id=\"xtick_13\">\n     <g id=\"line2d_31\">\n      <g>\n       <use style=\"stroke:#000000;stroke-width:0.8;\" x=\"864.691133\" xlink:href=\"#m3ebc9726cb\" y=\"224.64\"/>\n      </g>\n     </g>\n     <g id=\"text_28\">\n      <!-- 5 -->\n      <g transform=\"translate(861.509883 239.238437)scale(0.1 -0.1)\">\n       <use xlink:href=\"#DejaVuSans-53\"/>\n      </g>\n     </g>\n    </g>\n    <g id=\"xtick_14\">\n     <g id=\"line2d_32\">\n      <g>\n       <use style=\"stroke:#000000;stroke-width:0.8;\" x=\"916.927455\" xlink:href=\"#m3ebc9726cb\" y=\"224.64\"/>\n      </g>\n     </g>\n     <g id=\"text_29\">\n      <!-- 10 -->\n      <g transform=\"translate(910.564955 239.238437)scale(0.1 -0.1)\">\n       <use xlink:href=\"#DejaVuSans-49\"/>\n       <use x=\"63.623047\" xlink:href=\"#DejaVuSans-48\"/>\n      </g>\n     </g>\n    </g>\n    <g id=\"xtick_15\">\n     <g id=\"line2d_33\">\n      <g>\n       <use style=\"stroke:#000000;stroke-width:0.8;\" x=\"969.163777\" xlink:href=\"#m3ebc9726cb\" y=\"224.64\"/>\n      </g>\n     </g>\n     <g id=\"text_30\">\n      <!-- 15 -->\n      <g transform=\"translate(962.801277 239.238437)scale(0.1 -0.1)\">\n       <use xlink:href=\"#DejaVuSans-49\"/>\n       <use x=\"63.623047\" xlink:href=\"#DejaVuSans-53\"/>\n      </g>\n     </g>\n    </g>\n    <g id=\"xtick_16\">\n     <g id=\"line2d_34\">\n      <g>\n       <use style=\"stroke:#000000;stroke-width:0.8;\" x=\"1021.400099\" xlink:href=\"#m3ebc9726cb\" y=\"224.64\"/>\n      </g>\n     </g>\n     <g id=\"text_31\">\n      <!-- 20 -->\n      <g transform=\"translate(1015.037599 239.238437)scale(0.1 -0.1)\">\n       <use xlink:href=\"#DejaVuSans-50\"/>\n       <use x=\"63.623047\" xlink:href=\"#DejaVuSans-48\"/>\n      </g>\n     </g>\n    </g>\n   </g>\n   <g id=\"matplotlib.axis_8\">\n    <g id=\"ytick_16\">\n     <g id=\"line2d_35\">\n      <g>\n       <use style=\"stroke:#000000;stroke-width:0.8;\" x=\"812.977174\" xlink:href=\"#m22ff9b02f4\" y=\"204.35821\"/>\n      </g>\n     </g>\n     <g id=\"text_32\">\n      <!-- 4 -->\n      <g transform=\"translate(799.614674 208.157428)scale(0.1 -0.1)\">\n       <use xlink:href=\"#DejaVuSans-52\"/>\n      </g>\n     </g>\n    </g>\n    <g id=\"ytick_17\">\n     <g id=\"line2d_36\">\n      <g>\n       <use style=\"stroke:#000000;stroke-width:0.8;\" x=\"812.977174\" xlink:href=\"#m22ff9b02f4\" y=\"162.750464\"/>\n      </g>\n     </g>\n     <g id=\"text_33\">\n      <!-- 6 -->\n      <g transform=\"translate(799.614674 166.549682)scale(0.1 -0.1)\">\n       <use xlink:href=\"#DejaVuSans-54\"/>\n      </g>\n     </g>\n    </g>\n    <g id=\"ytick_18\">\n     <g id=\"line2d_37\">\n      <g>\n       <use style=\"stroke:#000000;stroke-width:0.8;\" x=\"812.977174\" xlink:href=\"#m22ff9b02f4\" y=\"121.142718\"/>\n      </g>\n     </g>\n     <g id=\"text_34\">\n      <!-- 8 -->\n      <g transform=\"translate(799.614674 124.941936)scale(0.1 -0.1)\">\n       <use xlink:href=\"#DejaVuSans-56\"/>\n      </g>\n     </g>\n    </g>\n    <g id=\"ytick_19\">\n     <g id=\"line2d_38\">\n      <g>\n       <use style=\"stroke:#000000;stroke-width:0.8;\" x=\"812.977174\" xlink:href=\"#m22ff9b02f4\" y=\"79.534972\"/>\n      </g>\n     </g>\n     <g id=\"text_35\">\n      <!-- 10 -->\n      <g transform=\"translate(793.252174 83.334191)scale(0.1 -0.1)\">\n       <use xlink:href=\"#DejaVuSans-49\"/>\n       <use x=\"63.623047\" xlink:href=\"#DejaVuSans-48\"/>\n      </g>\n     </g>\n    </g>\n    <g id=\"ytick_20\">\n     <g id=\"line2d_39\">\n      <g>\n       <use style=\"stroke:#000000;stroke-width:0.8;\" x=\"812.977174\" xlink:href=\"#m22ff9b02f4\" y=\"37.927226\"/>\n      </g>\n     </g>\n     <g id=\"text_36\">\n      <!-- 12 -->\n      <g transform=\"translate(793.252174 41.726445)scale(0.1 -0.1)\">\n       <use xlink:href=\"#DejaVuSans-49\"/>\n       <use x=\"63.623047\" xlink:href=\"#DejaVuSans-50\"/>\n      </g>\n     </g>\n    </g>\n   </g>\n   <g id=\"line2d_40\">\n    <path clip-path=\"url(#pf00ff6a1e6)\" d=\"M 822.902075 214.756364 \nL 833.34934 204.352536 \nL 843.796604 193.948708 \nL 854.243868 183.54488 \nL 864.691133 173.141053 \nL 875.138397 162.737225 \nL 885.585662 152.333397 \nL 896.032926 141.929569 \nL 906.48019 131.525742 \nL 916.927455 121.121914 \nL 927.374719 110.718086 \nL 937.821984 100.314258 \nL 948.269248 89.910431 \nL 958.716512 79.506603 \nL 969.163777 69.102775 \nL 979.611041 58.698947 \nL 990.058306 48.29512 \nL 1000.50557 37.891292 \nL 1010.952834 27.487464 \nL 1021.400099 17.083636 \n\" style=\"fill:none;stroke:#ff0000;stroke-linecap:square;stroke-opacity:0.5;stroke-width:1.5;\"/>\n   </g>\n   <g id=\"patch_18\">\n    <path d=\"M 812.977174 224.64 \nL 812.977174 7.2 \n\" style=\"fill:none;stroke:#000000;stroke-linecap:square;stroke-linejoin:miter;stroke-width:0.8;\"/>\n   </g>\n   <g id=\"patch_19\">\n    <path d=\"M 1031.325 224.64 \nL 1031.325 7.2 \n\" style=\"fill:none;stroke:#000000;stroke-linecap:square;stroke-linejoin:miter;stroke-width:0.8;\"/>\n   </g>\n   <g id=\"patch_20\">\n    <path d=\"M 812.977174 224.64 \nL 1031.325 224.64 \n\" style=\"fill:none;stroke:#000000;stroke-linecap:square;stroke-linejoin:miter;stroke-width:0.8;\"/>\n   </g>\n   <g id=\"patch_21\">\n    <path d=\"M 812.977174 7.2 \nL 1031.325 7.2 \n\" style=\"fill:none;stroke:#000000;stroke-linecap:square;stroke-linejoin:miter;stroke-width:0.8;\"/>\n   </g>\n  </g>\n </g>\n <defs>\n  <clipPath id=\"pc7bff4c5bc\">\n   <rect height=\"217.44\" width=\"218.347826\" x=\"26.925\" y=\"7.2\"/>\n  </clipPath>\n  <clipPath id=\"p01ad771513\">\n   <rect height=\"217.44\" width=\"218.347826\" x=\"288.942391\" y=\"7.2\"/>\n  </clipPath>\n  <clipPath id=\"p684a8caa99\">\n   <rect height=\"217.44\" width=\"218.347826\" x=\"550.959783\" y=\"7.2\"/>\n  </clipPath>\n  <clipPath id=\"pf00ff6a1e6\">\n   <rect height=\"217.44\" width=\"218.347826\" x=\"812.977174\" y=\"7.2\"/>\n  </clipPath>\n </defs>\n</svg>\n",
      "text/plain": "<Figure size 1296x288 with 4 Axes>"
     },
     "metadata": {
      "needs_background": "light"
     },
     "output_type": "display_data"
    }
   ],
   "source": [
    "fig, (ax1, ax2, ax3, ax4) = plt.subplots(ncols=4)\n",
    "fig.set_size_inches(18, 4)\n",
    "\n",
    "x = np.linspace(1, 20, 20)\n",
    "\n",
    "ax1.scatter(df['x1'], df['y1'])\n",
    "ax1.plot(x, b0 + b1 * x, color='red', alpha=0.5)\n",
    "\n",
    "ax2.scatter(df['x2'], df['y2'])\n",
    "ax2.plot(x, b0 + b1 * x, color='red', alpha=0.5)\n",
    "\n",
    "ax3.scatter(df['x3'], df['y3'])\n",
    "ax3.plot(x, b0 + b1 * x, color='red', alpha=0.5)\n",
    "\n",
    "ax4.scatter(df['x4'], df['y4'])\n",
    "ax4.plot(x, b0 + b1 * x, color='red', alpha=0.5)\n",
    "\n",
    "plt.show()"
   ]
  }
 ],
 "metadata": {
  "file_extension": ".py",
  "kernelspec": {
   "display_name": "Python 3",
   "language": "python",
   "name": "python3"
  },
  "language_info": {
   "codemirror_mode": {
    "name": "ipython",
    "version": 3
   },
   "file_extension": ".py",
   "mimetype": "text/x-python",
   "name": "python",
   "nbconvert_exporter": "python",
   "pygments_lexer": "ipython3",
   "version": "3.7.6-final"
  },
  "mimetype": "text/x-python",
  "name": "python",
  "npconvert_exporter": "python",
  "pygments_lexer": "ipython3",
  "version": 3
 },
 "nbformat": 4,
 "nbformat_minor": 2
}