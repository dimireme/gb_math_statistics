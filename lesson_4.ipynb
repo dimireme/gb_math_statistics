{
 "cells": [
  {
   "cell_type": "code",
   "execution_count": 2,
   "metadata": {},
   "outputs": [],
   "source": [
    "from scipy import stats"
   ]
  },
  {
   "cell_type": "markdown",
   "metadata": {},
   "source": [
    "## Урок 4. Непрерывные случайные величины. Функция распределения и плотность распределения вероятностей. Равномерное и нормальное распределение. ЦПТ.\n",
    "\n",
    "**1. О непрерывной равномерно распределённой случайной величине `B` известно, что её дисперсия равна 0.2. Можно ли найти правую границу величины `B` и её среднее значение зная, что левая граница равна 0.5? Если да, найдите их.**\n",
    "\n",
    "Для равномерного распределения $D(X) = \\frac{(b - a)^2}{12}$. Отсюда $b = a + \\sqrt{12 \\cdot D} = 1.275$. \n",
    "Среднее значение $M(X) = \\frac{a + b}{2} = 2.025$\n",
    "\n",
    "**Ответ: b=2.05, M=1.275.**"
   ]
  },
  {
   "cell_type": "markdown",
   "metadata": {},
   "source": [
    "**2. Коробки с шоколадом упаковываются автоматически. Их средняя масса равна 1.06 кг. Известно, что 5% коробок имеют массу, меньшую 1 кг. Найдите: а) среднее квадратическое отклонение массы коробки, б) процент коробок, имеющих массу больше 1.1 кг.**\n",
    "\n",
    "***Подсказка. Найдите такое значение scale, для которого значение cdf(x=1, loc=1.06, scale=scale) близко к 0.05. Точности 0.0001 будет достаточно.***"
   ]
  },
  {
   "cell_type": "code",
   "execution_count": 3,
   "metadata": {},
   "outputs": [
    {
     "name": "stdout",
     "output_type": "stream",
     "text": "0.0364800000000005 0.05001204583680406\n"
    }
   ],
   "source": [
    "loc = 1.06\n",
    "precision = 0.00001\n",
    "p = 0\n",
    "scale = 0\n",
    "while p < 0.05:\n",
    "    scale += precision\n",
    "    p = stats.norm.cdf(1, loc, scale)\n",
    "print(scale, p)"
   ]
  },
  {
   "cell_type": "markdown",
   "metadata": {},
   "source": [
    "Получили что вес коробок представляет собой нормально распределённую случайную величину с параметрами $a = 1.06, \\sigma = 0.0365$. Найдём долю коробок с массой более 1.1 кг."
   ]
  },
  {
   "cell_type": "code",
   "execution_count": 82,
   "metadata": {},
   "outputs": [
    {
     "name": "stdout",
     "output_type": "stream",
     "text": [
      "0.13656336797447777\n"
     ]
    }
   ],
   "source": [
    "p = 1 - stats.norm.cdf(1.1, loc, scale)\n",
    "print(p)"
   ]
  },
  {
   "cell_type": "markdown",
   "metadata": {},
   "source": [
    "**Ответ: а) $\\sigma = 0.0365$; б) $p = 13.66\\%$**."
   ]
  },
  {
   "cell_type": "markdown",
   "metadata": {},
   "source": [
    "**3. Коробка содержит 30 конфет. Известно, что масса каждой конфеты распределена равномерно в промежутке от 12 до 14 граммов. Используя центральную предельную теорему, найти вероятность, что масса всей коробки будет: а) меньше 390 граммов, б) больше 395 граммов, в) от 380 до 400 граммов. Массой самой коробки можно пренебречь.**\n",
    "\n",
    "В каждой коробке содержится выборка из $n=30$ конфет с равномерным распределением веса $X$ с параметрами $M(X) = 13, D(X) = \\frac{(14-12)^2}{12} = \\frac{1}{3}$. Тогда, согласно центральной предельной теореме, вес всей коробки будет случайной величиной с нормальным распределением с параметрами\n",
    "$$a = n \\cdot M(X) = 30 \\cdot 13 = 390$$\n",
    "$$\\sigma^2 = n \\cdot D(X) = 30 \\cdot \\frac{1}{3} = 10$$"
   ]
  },
  {
   "cell_type": "code",
   "execution_count": 83,
   "metadata": {},
   "outputs": [],
   "source": [
    "loc = 390\n",
    "scale = 10**0.5\n",
    "F = lambda x: stats.norm.cdf(x, loc, scale)"
   ]
  },
  {
   "cell_type": "code",
   "execution_count": 84,
   "metadata": {},
   "outputs": [
    {
     "name": "stdout",
     "output_type": "stream",
     "text": [
      "0.5\n"
     ]
    }
   ],
   "source": [
    "# а) вес меньше 390 граммов\n",
    "p1 = F(390)\n",
    "print(p1)"
   ]
  },
  {
   "cell_type": "code",
   "execution_count": 85,
   "metadata": {},
   "outputs": [
    {
     "name": "stdout",
     "output_type": "stream",
     "text": [
      "0.056923149003329065\n"
     ]
    }
   ],
   "source": [
    "# б) вес больше 395 граммов\n",
    "p2 = 1 - F(395)\n",
    "print(p2)"
   ]
  },
  {
   "cell_type": "code",
   "execution_count": 87,
   "metadata": {},
   "outputs": [
    {
     "name": "stdout",
     "output_type": "stream",
     "text": [
      "0.9984345977419975\n"
     ]
    }
   ],
   "source": [
    "# в) вес от 380 до 400 граммов\n",
    "p3 = F(400) - F(380)\n",
    "print(p3)"
   ]
  },
  {
   "cell_type": "markdown",
   "metadata": {},
   "source": [
    "**Ответ: а) 50%; б) 56.9%; в) 99.8%.**"
   ]
  },
  {
   "cell_type": "markdown",
   "metadata": {},
   "source": [
    "**4. Каким образом связаны между собой понятие квантиля и правила двух и трёх сигм? Данное задание - на подумать, оформлять его не обязательно. Этот вопрос мы обсудим в начале следующего занятия.**"
   ]
  },
  {
   "cell_type": "code",
   "execution_count": null,
   "metadata": {},
   "outputs": [],
   "source": []
  }
 ],
 "metadata": {
  "file_extension": ".py",
  "kernelspec": {
   "display_name": "Python 3",
   "language": "python",
   "name": "python3"
  },
  "language_info": {
   "codemirror_mode": {
    "name": "ipython",
    "version": 3
   },
   "file_extension": ".py",
   "mimetype": "text/x-python",
   "name": "python",
   "nbconvert_exporter": "python",
   "pygments_lexer": "ipython3",
   "version": "3.7.6-final"
  },
  "mimetype": "text/x-python",
  "name": "python",
  "npconvert_exporter": "python",
  "pygments_lexer": "ipython3",
  "version": 3
 },
 "nbformat": 4,
 "nbformat_minor": 2
}